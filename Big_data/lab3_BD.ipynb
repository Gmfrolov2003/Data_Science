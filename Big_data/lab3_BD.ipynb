{
  "nbformat": 4,
  "nbformat_minor": 0,
  "metadata": {
    "colab": {
      "provenance": [],
      "gpuType": "T4"
    },
    "kernelspec": {
      "name": "python3",
      "display_name": "Python 3"
    },
    "language_info": {
      "name": "python"
    },
    "accelerator": "GPU"
  },
  "cells": [
    {
      "cell_type": "markdown",
      "metadata": {
        "id": "3F6EniKCL1SA"
      },
      "source": [
        "# *Лабораторная работа №3*"
      ]
    },
    {
      "cell_type": "markdown",
      "metadata": {
        "id": "XvxPwR4NMOJ2"
      },
      "source": [
        "## Определение типа дорожного знака (Теоретическая часть)"
      ]
    },
    {
      "cell_type": "markdown",
      "metadata": {
        "id": "ukH2Bge3Ty70"
      },
      "source": [
        "Подключим все необходимые библиотеки."
      ]
    },
    {
      "cell_type": "code",
      "metadata": {
        "id": "UOAQJjZaMZY1"
      },
      "source": [
        "from zipfile import ZipFile\n",
        "import numpy as np\n",
        "import pandas as pd\n",
        "import matplotlib.pyplot as plt\n",
        "import cv2\n",
        "import tensorflow as tf\n",
        "from PIL import Image\n",
        "import os\n",
        "import keras\n",
        "from sklearn.model_selection import train_test_split\n",
        "from keras.utils import to_categorical\n",
        "from keras.models import Sequential, load_model\n",
        "from keras.layers import Conv2D, MaxPool2D, Dense, Flatten, Dropout\n",
        "from tensorflow.keras.preprocessing.image import ImageDataGenerator"
      ],
      "execution_count": null,
      "outputs": []
    },
    {
      "cell_type": "markdown",
      "metadata": {
        "id": "FfX9w0c0T47I"
      },
      "source": [
        "Загрузим датасет в среду выполнения."
      ]
    },
    {
      "cell_type": "code",
      "metadata": {
        "id": "qTBoJr1aucdd"
      },
      "source": [
        "%%capture\n",
        "!wget https://www.dropbox.com/s/7xi7of75tbuouo2/Meta.zip"
      ],
      "execution_count": null,
      "outputs": []
    },
    {
      "cell_type": "markdown",
      "metadata": {
        "id": "eVyT4rKwUJSY"
      },
      "source": [
        "Распакуем все данные для дальнейшей работы."
      ]
    },
    {
      "cell_type": "code",
      "metadata": {
        "id": "H2cloln20Dfz"
      },
      "source": [
        "zip = ZipFile('Meta.zip')\n",
        "zip.extractall()"
      ],
      "execution_count": null,
      "outputs": []
    },
    {
      "cell_type": "markdown",
      "metadata": {
        "id": "BtqbyWYIUPyV"
      },
      "source": [
        "Укажем основные пути к папкам и введем масштаб, к которому будем приводить все изображения датасета."
      ]
    },
    {
      "cell_type": "code",
      "metadata": {
        "id": "mfTBgDDoxhP5"
      },
      "source": [
        "data_dir = '/content/'\n",
        "train_path = '/content/Train'\n",
        "\n",
        "height = 30\n",
        "width = 30\n",
        "channels = 3"
      ],
      "execution_count": null,
      "outputs": []
    },
    {
      "cell_type": "markdown",
      "metadata": {
        "id": "TV5HsUxDUf1z"
      },
      "source": [
        "Создадим массивы для хранения изображений и их категорий. Дополнительно рассмотрим общее количество категорий в данном датасете."
      ]
    },
    {
      "cell_type": "code",
      "metadata": {
        "colab": {
          "base_uri": "https://localhost:8080/"
        },
        "id": "rHuU2lGRufgD",
        "outputId": "a00d0d9e-ee4e-49f1-e340-bbbec5635a0b"
      },
      "source": [
        "data = []\n",
        "labels = []\n",
        "NUM_CATEGORIES = len(os.listdir(train_path))\n",
        "NUM_CATEGORIES"
      ],
      "execution_count": null,
      "outputs": [
        {
          "output_type": "execute_result",
          "data": {
            "text/plain": [
              "43"
            ]
          },
          "metadata": {},
          "execution_count": 20
        }
      ]
    },
    {
      "cell_type": "markdown",
      "metadata": {
        "id": "A_lc8XZaUrcQ"
      },
      "source": [
        "Заполним массивы изображений и меток классов."
      ]
    },
    {
      "cell_type": "code",
      "metadata": {
        "id": "qSI0tBhpuiKA"
      },
      "source": [
        "for i in range(NUM_CATEGORIES):\n",
        "    path = os.path.join(train_path,str(i))\n",
        "    images = os.listdir(path)\n",
        "    for a in images:\n",
        "            image = Image.open(path + '/' + a)\n",
        "            image = image.resize((height,width))\n",
        "            image = np.array(image)\n",
        "            data.append(image)\n",
        "            labels.append(i)\n",
        "\n",
        "data = np.array(data)\n",
        "labels = np.array(labels)"
      ],
      "execution_count": null,
      "outputs": []
    },
    {
      "cell_type": "code",
      "source": [
        "data"
      ],
      "metadata": {
        "colab": {
          "base_uri": "https://localhost:8080/"
        },
        "id": "cK2QCjDf_1s5",
        "outputId": "45b9310d-ada7-4695-fc4c-f331cb31edd9"
      },
      "execution_count": null,
      "outputs": [
        {
          "output_type": "execute_result",
          "data": {
            "text/plain": [
              "array([[[[120, 125, 129],\n",
              "         [121, 123, 128],\n",
              "         [123, 123, 128],\n",
              "         ...,\n",
              "         [140, 138, 144],\n",
              "         [116, 117, 116],\n",
              "         [116, 117, 118]],\n",
              "\n",
              "        [[124, 127, 131],\n",
              "         [124, 125, 130],\n",
              "         [123, 123, 130],\n",
              "         ...,\n",
              "         [150, 149, 159],\n",
              "         [122, 122, 123],\n",
              "         [121, 115, 117]],\n",
              "\n",
              "        [[131, 132, 145],\n",
              "         [127, 131, 146],\n",
              "         [122, 128, 145],\n",
              "         ...,\n",
              "         [179, 175, 182],\n",
              "         [161, 155, 161],\n",
              "         [157, 145, 152]],\n",
              "\n",
              "        ...,\n",
              "\n",
              "        [[ 94,  96,  97],\n",
              "         [ 92,  95,  94],\n",
              "         [ 94,  95,  97],\n",
              "         ...,\n",
              "         [122, 128, 137],\n",
              "         [ 92,  98, 102],\n",
              "         [ 95,  98,  98]],\n",
              "\n",
              "        [[ 84,  88,  89],\n",
              "         [ 88,  90,  91],\n",
              "         [ 89,  90,  94],\n",
              "         ...,\n",
              "         [126, 132, 140],\n",
              "         [ 93,  98, 104],\n",
              "         [ 96,  97, 101]],\n",
              "\n",
              "        [[ 88,  88,  89],\n",
              "         [ 85,  88,  88],\n",
              "         [ 87,  92,  95],\n",
              "         ...,\n",
              "         [124, 130, 137],\n",
              "         [ 91,  97, 100],\n",
              "         [ 96,  96,  98]]],\n",
              "\n",
              "\n",
              "       [[[ 67,  68,  70],\n",
              "         [ 67,  66,  67],\n",
              "         [ 61,  60,  59],\n",
              "         ...,\n",
              "         [ 43,  39,  37],\n",
              "         [ 39,  36,  32],\n",
              "         [ 36,  31,  28]],\n",
              "\n",
              "        [[ 78,  76,  77],\n",
              "         [ 75,  74,  76],\n",
              "         [ 75,  72,  72],\n",
              "         ...,\n",
              "         [ 62,  60,  58],\n",
              "         [ 61,  60,  57],\n",
              "         [ 62,  60,  59]],\n",
              "\n",
              "        [[129, 129, 131],\n",
              "         [126, 126, 128],\n",
              "         [125, 124, 125],\n",
              "         ...,\n",
              "         [ 69,  69,  69],\n",
              "         [ 71,  71,  73],\n",
              "         [ 72,  71,  75]],\n",
              "\n",
              "        ...,\n",
              "\n",
              "        [[164, 164, 170],\n",
              "         [167, 166, 170],\n",
              "         [161, 165, 168],\n",
              "         ...,\n",
              "         [151, 156, 163],\n",
              "         [151, 155, 162],\n",
              "         [150, 155, 163]],\n",
              "\n",
              "        [[163, 164, 169],\n",
              "         [165, 165, 170],\n",
              "         [164, 165, 168],\n",
              "         ...,\n",
              "         [153, 157, 162],\n",
              "         [153, 157, 162],\n",
              "         [154, 157, 161]],\n",
              "\n",
              "        [[166, 166, 169],\n",
              "         [165, 166, 169],\n",
              "         [164, 164, 169],\n",
              "         ...,\n",
              "         [154, 157, 161],\n",
              "         [145, 151, 156],\n",
              "         [129, 143, 149]]],\n",
              "\n",
              "\n",
              "       [[[ 99,  97,  97],\n",
              "         [ 98,  98,  95],\n",
              "         [ 99, 100,  96],\n",
              "         ...,\n",
              "         [147, 124, 116],\n",
              "         [115, 110, 105],\n",
              "         [104, 104,  95]],\n",
              "\n",
              "        [[ 96,  95,  93],\n",
              "         [ 96,  97,  92],\n",
              "         [ 97,  97,  93],\n",
              "         ...,\n",
              "         [152, 123, 125],\n",
              "         [128, 117, 118],\n",
              "         [109, 106,  97]],\n",
              "\n",
              "        [[ 94,  94,  93],\n",
              "         [ 92,  95,  93],\n",
              "         [ 95,  95,  92],\n",
              "         ...,\n",
              "         [162, 129, 106],\n",
              "         [145, 126, 113],\n",
              "         [117, 109, 105]],\n",
              "\n",
              "        ...,\n",
              "\n",
              "        [[ 82,  81,  81],\n",
              "         [ 81,  81,  81],\n",
              "         [ 82,  82,  81],\n",
              "         ...,\n",
              "         [ 77,  80,  75],\n",
              "         [ 79,  78,  77],\n",
              "         [ 77,  76,  77]],\n",
              "\n",
              "        [[ 83,  84,  82],\n",
              "         [ 80,  82,  80],\n",
              "         [ 78,  80,  81],\n",
              "         ...,\n",
              "         [ 78,  78,  78],\n",
              "         [ 79,  78,  78],\n",
              "         [ 77,  77,  77]],\n",
              "\n",
              "        [[ 81,  83,  82],\n",
              "         [ 79,  83,  82],\n",
              "         [ 77,  80,  81],\n",
              "         ...,\n",
              "         [ 78,  77,  76],\n",
              "         [ 77,  76,  75],\n",
              "         [ 76,  76,  75]]],\n",
              "\n",
              "\n",
              "       ...,\n",
              "\n",
              "\n",
              "       [[[ 16,  15,  17],\n",
              "         [ 17,  15,  18],\n",
              "         [ 18,  15,  18],\n",
              "         ...,\n",
              "         [ 13,  12,  15],\n",
              "         [ 13,  12,  15],\n",
              "         [ 13,  12,  15]],\n",
              "\n",
              "        [[ 18,  17,  20],\n",
              "         [ 16,  15,  18],\n",
              "         [ 18,  16,  19],\n",
              "         ...,\n",
              "         [ 12,  11,  15],\n",
              "         [ 12,  11,  15],\n",
              "         [ 12,  11,  15]],\n",
              "\n",
              "        [[ 17,  16,  19],\n",
              "         [ 15,  14,  17],\n",
              "         [ 16,  14,  17],\n",
              "         ...,\n",
              "         [ 13,  12,  15],\n",
              "         [ 13,  11,  15],\n",
              "         [ 13,  12,  16]],\n",
              "\n",
              "        ...,\n",
              "\n",
              "        [[ 14,  13,  16],\n",
              "         [ 14,  13,  16],\n",
              "         [ 14,  12,  15],\n",
              "         ...,\n",
              "         [ 11,  11,  14],\n",
              "         [ 12,  12,  14],\n",
              "         [ 15,  14,  16]],\n",
              "\n",
              "        [[ 14,  13,  15],\n",
              "         [ 14,  13,  15],\n",
              "         [ 14,  13,  16],\n",
              "         ...,\n",
              "         [ 12,  12,  16],\n",
              "         [ 15,  15,  18],\n",
              "         [ 14,  13,  15]],\n",
              "\n",
              "        [[ 13,  12,  14],\n",
              "         [ 12,  12,  14],\n",
              "         [ 12,  12,  15],\n",
              "         ...,\n",
              "         [ 14,  13,  17],\n",
              "         [ 14,  13,  16],\n",
              "         [ 13,  12,  14]]],\n",
              "\n",
              "\n",
              "       [[[ 13,  13,  15],\n",
              "         [ 14,  13,  16],\n",
              "         [ 13,  11,  13],\n",
              "         ...,\n",
              "         [ 12,  11,  12],\n",
              "         [ 11,  10,  11],\n",
              "         [ 11,  13,  19]],\n",
              "\n",
              "        [[ 14,  12,  14],\n",
              "         [ 13,  12,  14],\n",
              "         [ 14,  12,  14],\n",
              "         ...,\n",
              "         [ 11,  11,  13],\n",
              "         [ 11,  10,  12],\n",
              "         [ 10,  11,  14]],\n",
              "\n",
              "        [[ 12,  11,  12],\n",
              "         [ 13,  12,  13],\n",
              "         [ 13,  12,  14],\n",
              "         ...,\n",
              "         [ 11,  10,  12],\n",
              "         [ 11,  10,  12],\n",
              "         [ 10,   9,  11]],\n",
              "\n",
              "        ...,\n",
              "\n",
              "        [[ 12,  12,  13],\n",
              "         [ 11,  10,  11],\n",
              "         [  9,   9,  11],\n",
              "         ...,\n",
              "         [ 13,  12,  13],\n",
              "         [ 11,   9,  11],\n",
              "         [  9,   9,  10]],\n",
              "\n",
              "        [[ 11,  10,  12],\n",
              "         [ 12,  10,  12],\n",
              "         [ 10,   9,  11],\n",
              "         ...,\n",
              "         [ 14,  13,  15],\n",
              "         [ 11,  10,  10],\n",
              "         [ 10,   9,   9]],\n",
              "\n",
              "        [[ 10,   9,  11],\n",
              "         [ 10,   9,  11],\n",
              "         [ 10,  10,  12],\n",
              "         ...,\n",
              "         [ 14,  12,  14],\n",
              "         [ 11,  10,  11],\n",
              "         [ 10,   9,  10]]],\n",
              "\n",
              "\n",
              "       [[[ 33,  32,  30],\n",
              "         [ 26,  32,  35],\n",
              "         [ 44,  52,  70],\n",
              "         ...,\n",
              "         [177, 110,  54],\n",
              "         [175, 108,  54],\n",
              "         [172, 106,  51]],\n",
              "\n",
              "        [[ 33,  34,  33],\n",
              "         [ 33,  36,  40],\n",
              "         [ 46,  47,  66],\n",
              "         ...,\n",
              "         [ 93,  64,  28],\n",
              "         [ 92,  63,  28],\n",
              "         [ 87,  58,  23]],\n",
              "\n",
              "        [[ 32,  35,  32],\n",
              "         [ 32,  36,  36],\n",
              "         [ 43,  43,  56],\n",
              "         ...,\n",
              "         [ 60,  48,  10],\n",
              "         [ 60,  49,   9],\n",
              "         [ 61,  50,   9]],\n",
              "\n",
              "        ...,\n",
              "\n",
              "        [[ 32,  34,  32],\n",
              "         [ 36,  36,  35],\n",
              "         [ 34,  32,  29],\n",
              "         ...,\n",
              "         [ 21,  21,  22],\n",
              "         [ 22,  22,  23],\n",
              "         [ 22,  22,  23]],\n",
              "\n",
              "        [[ 30,  31,  29],\n",
              "         [ 37,  36,  36],\n",
              "         [ 34,  31,  29],\n",
              "         ...,\n",
              "         [ 21,  21,  22],\n",
              "         [ 22,  22,  23],\n",
              "         [ 23,  23,  24]],\n",
              "\n",
              "        [[ 35,  37,  34],\n",
              "         [ 37,  37,  36],\n",
              "         [ 37,  35,  35],\n",
              "         ...,\n",
              "         [ 22,  22,  23],\n",
              "         [ 23,  23,  24],\n",
              "         [ 24,  24,  25]]]], dtype=uint8)"
            ]
          },
          "metadata": {},
          "execution_count": 22
        }
      ]
    },
    {
      "cell_type": "code",
      "source": [
        "labels"
      ],
      "metadata": {
        "colab": {
          "base_uri": "https://localhost:8080/"
        },
        "id": "3tHYLQ7z_6sN",
        "outputId": "7ff85512-60ea-4f0f-877a-eb252bfd9534"
      },
      "execution_count": null,
      "outputs": [
        {
          "output_type": "execute_result",
          "data": {
            "text/plain": [
              "array([ 0,  0,  0, ..., 42, 42, 42])"
            ]
          },
          "metadata": {},
          "execution_count": 24
        }
      ]
    },
    {
      "cell_type": "markdown",
      "metadata": {
        "id": "kFsNi700U0RB"
      },
      "source": [
        "Разобьем данные на тренировочную и тестовую выборки в рамках обучения нейронной сети. Также проведем нормализацию в процессе."
      ]
    },
    {
      "cell_type": "code",
      "metadata": {
        "colab": {
          "base_uri": "https://localhost:8080/"
        },
        "id": "c5yj3to9uk1O",
        "outputId": "cbd57b96-a3b3-49e8-e9c4-7b3fe611bacc"
      },
      "source": [
        "print(data.shape,labels.shape)\n",
        "\n",
        "X_train, X_test, Y_train, Y_test = train_test_split(data,labels,test_size=0.2,random_state=42, shuffle=True)\n",
        "\n",
        "X_train = X_train/255\n",
        "X_test = X_test/255\n",
        "\n",
        "print(X_train.shape,X_test.shape,Y_train.shape,Y_test.shape)"
      ],
      "execution_count": null,
      "outputs": [
        {
          "output_type": "stream",
          "text": [
            "(39209, 30, 30, 3) (39209,)\n",
            "(31367, 30, 30, 3) (7842, 30, 30, 3) (31367,) (7842,)\n"
          ],
          "name": "stdout"
        }
      ]
    },
    {
      "cell_type": "code",
      "metadata": {
        "colab": {
          "base_uri": "https://localhost:8080/"
        },
        "id": "9ehZWs4Ouner",
        "outputId": "b2d677a2-4ddd-445b-a782-99c4c619b3b9"
      },
      "source": [
        "Y_train=keras.utils.to_categorical(Y_train,NUM_CATEGORIES)\n",
        "Y_test= keras.utils.to_categorical(Y_test,NUM_CATEGORIES)\n",
        "\n",
        "print(Y_train.shape)\n",
        "print(Y_test.shape)"
      ],
      "execution_count": null,
      "outputs": [
        {
          "output_type": "stream",
          "text": [
            "(31367, 43)\n",
            "(7842, 43)\n"
          ],
          "name": "stdout"
        }
      ]
    },
    {
      "cell_type": "markdown",
      "metadata": {
        "id": "ZbwftF_dVLP1"
      },
      "source": [
        "Создадим модель, состоящую из последовательно идущих слоев:\n",
        "\n",
        "*   Свертка (32 фильтра 3х3)\n",
        "*   Свертка (32 фильтра 3х3)\n",
        "*   Субдискретизация (фильтр max 2х2)\n",
        "*   Свертка (64 фильтра 3х3)\n",
        "*   Свертка (64 фильтра 3х3)\n",
        "*   Субдискретизация (фильтр max 2х2)\n",
        "*   Полносвязный слой (512 нейронов)\n",
        "*   Полносвязный слой (*количество_категорий* нейронов)\n",
        "\n",
        "Кроме того введем выключение части нейронов для предотвращения переобучения.\n"
      ]
    },
    {
      "cell_type": "code",
      "metadata": {
        "colab": {
          "base_uri": "https://localhost:8080/"
        },
        "id": "1Of7P7CNusHa",
        "outputId": "2d532d37-c279-4099-f127-e25395afb3b8"
      },
      "source": [
        "model = Sequential()\n",
        "\n",
        "model.add(Conv2D(filters=32, kernel_size=(3,3), activation='relu', input_shape=(height,width,3)))\n",
        "model.add(Conv2D(filters=32, kernel_size=(3,3), activation='relu'))\n",
        "model.add(MaxPool2D(pool_size=(2, 2)))\n",
        "model.add(Dropout(rate=0.25))\n",
        "\n",
        "model.add(Conv2D(filters=64, kernel_size=(3, 3), activation='relu'))\n",
        "model.add(Conv2D(filters=64, kernel_size=(3, 3), activation='relu'))\n",
        "model.add(MaxPool2D(pool_size=(2, 2)))\n",
        "model.add(Dropout(rate=0.25))\n",
        "\n",
        "model.add(Flatten())\n",
        "model.add(Dense(512, activation='relu'))\n",
        "model.add(Dropout(rate=0.5))\n",
        "model.add(Dense(NUM_CATEGORIES, activation='softmax'))\n",
        "\n",
        "model.summary()"
      ],
      "execution_count": null,
      "outputs": [
        {
          "output_type": "stream",
          "text": [
            "Model: \"sequential\"\n",
            "_________________________________________________________________\n",
            "Layer (type)                 Output Shape              Param #   \n",
            "=================================================================\n",
            "conv2d (Conv2D)              (None, 28, 28, 32)        896       \n",
            "_________________________________________________________________\n",
            "conv2d_1 (Conv2D)            (None, 26, 26, 32)        9248      \n",
            "_________________________________________________________________\n",
            "max_pooling2d (MaxPooling2D) (None, 13, 13, 32)        0         \n",
            "_________________________________________________________________\n",
            "dropout (Dropout)            (None, 13, 13, 32)        0         \n",
            "_________________________________________________________________\n",
            "conv2d_2 (Conv2D)            (None, 11, 11, 64)        18496     \n",
            "_________________________________________________________________\n",
            "conv2d_3 (Conv2D)            (None, 9, 9, 64)          36928     \n",
            "_________________________________________________________________\n",
            "max_pooling2d_1 (MaxPooling2 (None, 4, 4, 64)          0         \n",
            "_________________________________________________________________\n",
            "dropout_1 (Dropout)          (None, 4, 4, 64)          0         \n",
            "_________________________________________________________________\n",
            "flatten (Flatten)            (None, 1024)              0         \n",
            "_________________________________________________________________\n",
            "dense (Dense)                (None, 512)               524800    \n",
            "_________________________________________________________________\n",
            "dropout_2 (Dropout)          (None, 512)               0         \n",
            "_________________________________________________________________\n",
            "dense_1 (Dense)              (None, 43)                22059     \n",
            "=================================================================\n",
            "Total params: 612,427\n",
            "Trainable params: 612,427\n",
            "Non-trainable params: 0\n",
            "_________________________________________________________________\n"
          ],
          "name": "stdout"
        }
      ]
    },
    {
      "cell_type": "markdown",
      "metadata": {
        "id": "li4WURPjWLXd"
      },
      "source": [
        "Скомпилируем созданную модель."
      ]
    },
    {
      "cell_type": "code",
      "metadata": {
        "id": "79TK3m0lusEj"
      },
      "source": [
        "model.compile(loss='categorical_crossentropy', optimizer='adam', metrics=['accuracy'])"
      ],
      "execution_count": null,
      "outputs": []
    },
    {
      "cell_type": "markdown",
      "metadata": {
        "id": "0saI2c1GWZ7T"
      },
      "source": [
        "Зададим функцию аугментации, чтобы незначительно изменять изображения для искусственного расширения набора данных при обучении."
      ]
    },
    {
      "cell_type": "code",
      "metadata": {
        "id": "3kZ5h3jDusBp"
      },
      "source": [
        "aug = ImageDataGenerator(\n",
        "    rotation_range=10,\n",
        "    zoom_range=0.15,\n",
        "    width_shift_range=0.1,\n",
        "    height_shift_range=0.1,\n",
        "    shear_range=0.15,\n",
        "    horizontal_flip=False,\n",
        "    vertical_flip=False,\n",
        "    fill_mode=\"nearest\")"
      ],
      "execution_count": null,
      "outputs": []
    },
    {
      "cell_type": "markdown",
      "metadata": {
        "id": "3g1hdPUoWlz-"
      },
      "source": [
        "Задаим размер пакета обучения равным 32 и количсество эпох равным 15."
      ]
    },
    {
      "cell_type": "code",
      "metadata": {
        "colab": {
          "base_uri": "https://localhost:8080/"
        },
        "id": "naq0-Z72ur-y",
        "outputId": "7409fe05-b7ac-4630-f3db-402861dd4960"
      },
      "source": [
        "batch_size = 32\n",
        "epochs = 15\n",
        "\n",
        "history = model.fit(aug.flow(X_train,Y_train,batch_size=batch_size),\n",
        "                    epochs=epochs, validation_data=(X_test, Y_test) )"
      ],
      "execution_count": null,
      "outputs": [
        {
          "output_type": "stream",
          "text": [
            "Epoch 1/15\n",
            "981/981 [==============================] - 110s 111ms/step - loss: 2.6487 - accuracy: 0.2583 - val_loss: 0.3674 - val_accuracy: 0.8792\n",
            "Epoch 2/15\n",
            "981/981 [==============================] - 111s 113ms/step - loss: 0.6714 - accuracy: 0.7850 - val_loss: 0.0841 - val_accuracy: 0.9782\n",
            "Epoch 3/15\n",
            "981/981 [==============================] - 111s 113ms/step - loss: 0.3432 - accuracy: 0.8915 - val_loss: 0.0441 - val_accuracy: 0.9880\n",
            "Epoch 4/15\n",
            "981/981 [==============================] - 114s 117ms/step - loss: 0.2264 - accuracy: 0.9301 - val_loss: 0.0192 - val_accuracy: 0.9941\n",
            "Epoch 5/15\n",
            "981/981 [==============================] - 111s 113ms/step - loss: 0.1883 - accuracy: 0.9399 - val_loss: 0.0186 - val_accuracy: 0.9966\n",
            "Epoch 6/15\n",
            "981/981 [==============================] - 110s 113ms/step - loss: 0.1508 - accuracy: 0.9545 - val_loss: 0.0169 - val_accuracy: 0.9946\n",
            "Epoch 7/15\n",
            "981/981 [==============================] - 111s 113ms/step - loss: 0.1297 - accuracy: 0.9611 - val_loss: 0.0119 - val_accuracy: 0.9971\n",
            "Epoch 8/15\n",
            "981/981 [==============================] - 111s 113ms/step - loss: 0.1197 - accuracy: 0.9640 - val_loss: 0.0147 - val_accuracy: 0.9958\n",
            "Epoch 9/15\n",
            "981/981 [==============================] - 112s 114ms/step - loss: 0.1014 - accuracy: 0.9694 - val_loss: 0.0178 - val_accuracy: 0.9941\n",
            "Epoch 10/15\n",
            "981/981 [==============================] - 111s 113ms/step - loss: 0.0976 - accuracy: 0.9704 - val_loss: 0.0114 - val_accuracy: 0.9963\n",
            "Epoch 11/15\n",
            "981/981 [==============================] - 111s 113ms/step - loss: 0.0983 - accuracy: 0.9712 - val_loss: 0.0069 - val_accuracy: 0.9969\n",
            "Epoch 12/15\n",
            "981/981 [==============================] - 111s 113ms/step - loss: 0.0875 - accuracy: 0.9742 - val_loss: 0.0097 - val_accuracy: 0.9974\n",
            "Epoch 13/15\n",
            "981/981 [==============================] - 111s 114ms/step - loss: 0.0838 - accuracy: 0.9749 - val_loss: 0.0076 - val_accuracy: 0.9976\n",
            "Epoch 14/15\n",
            "981/981 [==============================] - 111s 113ms/step - loss: 0.0809 - accuracy: 0.9761 - val_loss: 0.0078 - val_accuracy: 0.9978\n",
            "Epoch 15/15\n",
            "981/981 [==============================] - 111s 113ms/step - loss: 0.0720 - accuracy: 0.9786 - val_loss: 0.0066 - val_accuracy: 0.9978\n"
          ],
          "name": "stdout"
        }
      ]
    },
    {
      "cell_type": "markdown",
      "metadata": {
        "id": "F7SgFa0oW0HH"
      },
      "source": [
        "Выведем графики изменения точности и величины функции ошибки в процессе обучения модели."
      ]
    },
    {
      "cell_type": "code",
      "metadata": {
        "colab": {
          "base_uri": "https://localhost:8080/",
          "height": 573
        },
        "id": "9_ow7HG6ur71",
        "outputId": "525d8efe-48fa-4d4f-9ad9-52335ef5e9a6"
      },
      "source": [
        "plt.figure(0)\n",
        "plt.plot(history.history['accuracy'], label='training accuracy')\n",
        "plt.plot(history.history['val_accuracy'], label='val accuracy')\n",
        "plt.title('Accuracy')\n",
        "plt.xlabel('epochs')\n",
        "plt.ylabel('accuracy')\n",
        "plt.legend()\n",
        "plt.show()\n",
        "\n",
        "plt.figure(1)\n",
        "plt.plot(history.history['loss'], label='training loss')\n",
        "plt.plot(history.history['val_loss'], label='val loss')\n",
        "plt.title('Loss')\n",
        "plt.xlabel('epochs')\n",
        "plt.ylabel('loss')\n",
        "plt.legend()\n",
        "plt.show()"
      ],
      "execution_count": null,
      "outputs": [
        {
          "output_type": "display_data",
          "data": {
            "image/png": "[encoded data removed]",
            "text/plain": [
              "<Figure size 432x288 with 1 Axes>"
            ]
          },
          "metadata": {
            "tags": [],
            "needs_background": "light"
          }
        },
        {
          "output_type": "display_data",
          "data": {
            "image/png": "[encoded data removed]",
            "text/plain": [
              "<Figure size 432x288 with 1 Axes>"
            ]
          },
          "metadata": {
            "tags": [],
            "needs_background": "light"
          }
        }
      ]
    },
    {
      "cell_type": "markdown",
      "metadata": {
        "id": "sM4ge-22XCjp"
      },
      "source": [
        "Повторим все действия, которые мы делали для подготовки тренировочного набора данных, для тестовых данных."
      ]
    },
    {
      "cell_type": "code",
      "metadata": {
        "id": "NsdaSwQ0ur3D"
      },
      "source": [
        "test = pd.read_csv(data_dir + 'Test.csv')\n",
        "\n",
        "labels = test[\"ClassId\"].values\n",
        "images = test[\"Path\"].values\n",
        "\n",
        "data=[]\n",
        "\n",
        "for a in images:\n",
        "  image = Image.open(data_dir + '/' + a)\n",
        "  image = image.resize((height,width))\n",
        "  image = np.array(image)\n",
        "  data.append(image)"
      ],
      "execution_count": null,
      "outputs": []
    },
    {
      "cell_type": "code",
      "metadata": {
        "id": "gSIB8mn3u6qZ"
      },
      "source": [
        "X_pred = np.array(data)\n",
        "X_pred = X_pred/255"
      ],
      "execution_count": null,
      "outputs": []
    },
    {
      "cell_type": "markdown",
      "metadata": {
        "id": "h-lq49pDXV6T"
      },
      "source": [
        "Получим предсказание величин для тестовой выборки."
      ]
    },
    {
      "cell_type": "code",
      "metadata": {
        "colab": {
          "base_uri": "https://localhost:8080/"
        },
        "id": "LbkPa0SPu6oc",
        "outputId": "338173ae-e313-403d-ae7c-ebd2a0c05b9d"
      },
      "source": [
        "pred = model.predict_classes(X_pred)"
      ],
      "execution_count": null,
      "outputs": [
        {
          "output_type": "stream",
          "text": [
            "/usr/local/lib/python3.7/dist-packages/tensorflow/python/keras/engine/sequential.py:450: UserWarning: `model.predict_classes()` is deprecated and will be removed after 2021-01-01. Please use instead:* `np.argmax(model.predict(x), axis=-1)`,   if your model does multi-class classification   (e.g. if it uses a `softmax` last-layer activation).* `(model.predict(x) > 0.5).astype(\"int32\")`,   if your model does binary classification   (e.g. if it uses a `sigmoid` last-layer activation).\n",
            "  warnings.warn('`model.predict_classes()` is deprecated and '\n"
          ],
          "name": "stderr"
        }
      ]
    },
    {
      "cell_type": "markdown",
      "metadata": {
        "id": "EaQQKdJHXo6F"
      },
      "source": [
        "Выведем величину метрики точности для тестового набора данных."
      ]
    },
    {
      "cell_type": "code",
      "metadata": {
        "colab": {
          "base_uri": "https://localhost:8080/"
        },
        "id": "yWuEZiXru6l6",
        "outputId": "ec42ae5e-e8b0-4be3-8484-9b950e200051"
      },
      "source": [
        "from sklearn.metrics import accuracy_score\n",
        "\n",
        "print('Test Data accuracy: ',accuracy_score(labels, pred)*100)"
      ],
      "execution_count": null,
      "outputs": [
        {
          "output_type": "stream",
          "text": [
            "Test Data accuracy:  98.36896278701505\n"
          ],
          "name": "stdout"
        }
      ]
    },
    {
      "cell_type": "markdown",
      "metadata": {
        "id": "vThbBXK3Mb9P"
      },
      "source": [
        "## Определение вида бабочки по изображению (Практическая часть)"
      ]
    },
    {
      "cell_type": "markdown",
      "source": [
        "###Задание базового уровня\n",
        "\n",
        "Вашим заданием в данной лабораторной будет построение модели на основе сверточных нейронных сетей для определения вида бабочки по ее фотографии.\n",
        "\n",
        "Методика оценки - accuracy_score\n",
        "\n",
        "В наборе данных представлены фотографии 75 видов бабочек. Все изображения имеют разрешение 224х224. Имя каждого файла состоит из названия вида бабочки и порядкового номера изображения."
      ],
      "metadata": {
        "id": "aqscR8wKNimV"
      }
    },
    {
      "cell_type": "markdown",
      "source": [
        "###Задание повышенного уровня\n",
        "\n",
        "Выполнить задание базового уровня. Классификатор должен показывать точность по метрике accuracy_score на валидационных данных выше 80%."
      ],
      "metadata": {
        "id": "wpXpI8tWNtwY"
      }
    },
    {
      "cell_type": "markdown",
      "metadata": {
        "id": "BYyIbUBdSQWw"
      },
      "source": [
        "Загрузим набор данных для обработки."
      ]
    },
    {
      "cell_type": "code",
      "metadata": {
        "id": "Q_FdF0o5u6go"
      },
      "source": [
        "%%capture\n",
        "!wget https://www.dropbox.com/s/ivy51wqobna8wbt/train_fix.zip\n",
        "!wget https://www.dropbox.com/s/lot1946ol8q8u85/test.zip"
      ],
      "execution_count": null,
      "outputs": []
    },
    {
      "cell_type": "code",
      "source": [
        "from zipfile import ZipFile\n",
        "import numpy as np\n",
        "import pandas as pd\n",
        "import matplotlib.pyplot as plt\n",
        "import cv2\n",
        "import tensorflow as tf\n",
        "from PIL import Image\n",
        "import os\n",
        "import re\n",
        "import shutil\n",
        "import keras\n",
        "from sklearn.model_selection import train_test_split\n",
        "from keras.utils import to_categorical\n",
        "from keras.models import Sequential, load_model\n",
        "from keras.layers import Conv2D, MaxPool2D, Dense, Flatten, Dropout, Activation, MaxPooling2D\n",
        "from tensorflow.keras.preprocessing.image import ImageDataGenerator"
      ],
      "metadata": {
        "id": "zl5RfEVH4GPF"
      },
      "execution_count": null,
      "outputs": []
    },
    {
      "cell_type": "code",
      "source": [
        "zip_train = ZipFile('train_fix.zip')\n",
        "zip_train.extractall()\n",
        "zip_test = ZipFile('test.zip')\n",
        "zip_test.extractall()"
      ],
      "metadata": {
        "id": "J3AiwwKQ4G7k"
      },
      "execution_count": null,
      "outputs": []
    },
    {
      "cell_type": "code",
      "source": [
        "data_dir = '/content/'\n",
        "train_path = '/content/train/train/'\n",
        "test_path = '/content/test/'\n",
        "train_img_path = '/content/train_img/'\n",
        "test_img_path = '/content/test_img/'"
      ],
      "metadata": {
        "id": "0-03Z8e44fEt"
      },
      "execution_count": null,
      "outputs": []
    },
    {
      "cell_type": "code",
      "source": [
        "# Создаем папки для категорий\n",
        "os.makedirs(train_img_path, exist_ok=True)\n",
        "os.makedirs(test_img_path, exist_ok=True)"
      ],
      "metadata": {
        "id": "pG7xbkeHOOBH"
      },
      "execution_count": null,
      "outputs": []
    },
    {
      "cell_type": "code",
      "source": [
        "def img_in_dir(source_dir, destination_dir):\n",
        "\n",
        "  # Получаем список всех файлов в исходной директории\n",
        "  files = os.listdir(source_dir)\n",
        "\n",
        "  # Проходим по каждому файлу\n",
        "  for file in files:\n",
        "      # Получаем имя файла до символа '('\n",
        "      folder_name = file.split(' (')[0].lower()\n",
        "      # Путь к папке назначения\n",
        "      dest_folder = os.path.join(destination_dir, folder_name)\n",
        "\n",
        "      # Проверяем существует ли папка назначения\n",
        "      if not os.path.exists(dest_folder):\n",
        "          os.makedirs(dest_folder)  # Создаем папку если не существует\n",
        "\n",
        "      # Перемещаем файл в папку назначения\n",
        "      shutil.move(os.path.join(source_dir, file), os.path.join(dest_folder, file))"
      ],
      "metadata": {
        "id": "ZpoY4ASEFWNx"
      },
      "execution_count": null,
      "outputs": []
    },
    {
      "cell_type": "code",
      "source": [
        "img_in_dir(train_path, train_img_path)\n",
        "img_in_dir(test_path, test_img_path)"
      ],
      "metadata": {
        "id": "niCZVWYZUqDl"
      },
      "execution_count": null,
      "outputs": []
    },
    {
      "cell_type": "code",
      "source": [
        "data = []\n",
        "labels = []\n",
        "NUM_CATEGORIES = len(os.listdir(train_img_path))\n",
        "NUM_CATEGORIES"
      ],
      "metadata": {
        "colab": {
          "base_uri": "https://localhost:8080/"
        },
        "id": "Wq483fJU5jh_",
        "outputId": "0153602f-2699-4358-b35d-ca842dc1e188"
      },
      "execution_count": null,
      "outputs": [
        {
          "output_type": "execute_result",
          "data": {
            "text/plain": [
              "75"
            ]
          },
          "metadata": {},
          "execution_count": 8
        }
      ]
    },
    {
      "cell_type": "code",
      "source": [
        "# Каталог с данными для обучения\n",
        "train_dir = train_img_path\n",
        "# Каталог с данными для тестирования\n",
        "test_dir = test_img_path\n",
        "# Размеры изображения\n",
        "img_width, img_height = 150, 150\n",
        "# Размерность тензора на основе изображения для входных данных в нейронную сеть\n",
        "# backend Tensorflow, channels_last\n",
        "input_shape = (img_width, img_height, 3)\n",
        "# Количество эпох\n",
        "epochs = 30\n",
        "# Размер мини-выборки\n",
        "batch_size = 16\n",
        "# Количество изображений для обучения\n",
        "nb_train_samples = 9285\n",
        "# Количество изображений для тестирования\n",
        "nb_test_samples = 750"
      ],
      "metadata": {
        "id": "9qccWNZaYDqy"
      },
      "execution_count": null,
      "outputs": []
    },
    {
      "cell_type": "markdown",
      "source": [
        "Генератор изображений создается на основе класса ImageDataGenerator. Генератор делит значения всех пикселов изображения на 255."
      ],
      "metadata": {
        "id": "K4gA9j4uYfht"
      }
    },
    {
      "cell_type": "code",
      "source": [
        "datagen = ImageDataGenerator(rescale=1. / 255)"
      ],
      "metadata": {
        "id": "xd_8sZec5-eA"
      },
      "execution_count": null,
      "outputs": []
    },
    {
      "cell_type": "markdown",
      "source": [
        "Генератор данных для обучения на основе изображений из каталога"
      ],
      "metadata": {
        "id": "EHXjWu2ZYkyh"
      }
    },
    {
      "cell_type": "code",
      "source": [
        "train_generator = datagen.flow_from_directory(\n",
        "    train_dir,\n",
        "    target_size=(img_width, img_height),\n",
        "    batch_size=batch_size,\n",
        "    class_mode='categorical')"
      ],
      "metadata": {
        "colab": {
          "base_uri": "https://localhost:8080/"
        },
        "id": "H9WTxjMsYiCU",
        "outputId": "03e808b3-c23c-400c-947e-b76864747c23"
      },
      "execution_count": null,
      "outputs": [
        {
          "output_type": "stream",
          "name": "stdout",
          "text": [
            "Found 9285 images belonging to 75 classes.\n"
          ]
        }
      ]
    },
    {
      "cell_type": "markdown",
      "source": [
        "Генератор данных для тестирования на основе изображений из каталога"
      ],
      "metadata": {
        "id": "GQ9kj0edZnvL"
      }
    },
    {
      "cell_type": "code",
      "source": [
        "test_generator = datagen.flow_from_directory(\n",
        "    test_dir,\n",
        "    target_size=(img_width, img_height),\n",
        "    batch_size=batch_size,\n",
        "    class_mode='categorical')"
      ],
      "metadata": {
        "colab": {
          "base_uri": "https://localhost:8080/"
        },
        "id": "qfAjV8F3Zevg",
        "outputId": "d44953be-b731-418a-a870-3f961351e9e1"
      },
      "execution_count": null,
      "outputs": [
        {
          "output_type": "stream",
          "name": "stdout",
          "text": [
            "Found 750 images belonging to 75 classes.\n"
          ]
        }
      ]
    },
    {
      "cell_type": "markdown",
      "source": [
        "###Создаем сверточную нейронную сеть\n",
        "**Архитектура сети**\n",
        "\n",
        "1. Слой свертки, размер ядра 3х3, количество карт признаков - 32 шт., функция активации ReLU.\n",
        "2. Слой подвыборки, выбор максимального значения из квадрата 2х2\n",
        "3. Слой свертки, размер ядра 3х3, количество карт признаков - 32 шт., функция активации ReLU.\n",
        "4. Слой подвыборки, выбор максимального значения из квадрата 2х2\n",
        "5. Слой свертки, размер ядра 3х3, количество карт признаков - 64 шт., функция активации ReLU.\n",
        "6. Слой подвыборки, выбор максимального значения из квадрата 2х2\n",
        "7. Слой преобразования из двумерного в одномерное представление\n",
        "8. Полносвязный слой, 64 нейрона, функция активации ReLU.\n",
        "9. Слой Dropout.\n",
        "10. Выходной слой, 1 нейрон, функция активации sigmoid.\n",
        "\n",
        "Слои с 1 по 6 используются для выделения важных признаков в изображении, а слои с 7 по 10 - для классификации."
      ],
      "metadata": {
        "id": "nagRiIMAZ2sM"
      }
    },
    {
      "cell_type": "code",
      "source": [
        "model = Sequential()\n",
        "model.add(Conv2D(32, (3, 3), input_shape=input_shape))\n",
        "model.add(Activation('relu'))\n",
        "model.add(MaxPooling2D(pool_size=(2, 2)))\n",
        "\n",
        "model.add(Conv2D(32, (3, 3)))\n",
        "model.add(Activation('relu'))\n",
        "model.add(MaxPooling2D(pool_size=(2, 2)))\n",
        "\n",
        "model.add(Conv2D(64, (3, 3)))\n",
        "model.add(Activation('relu'))\n",
        "model.add(MaxPooling2D(pool_size=(2, 2)))\n",
        "\n",
        "model.add(Flatten())\n",
        "model.add(Dense(64))\n",
        "model.add(Activation('relu'))\n",
        "model.add(Dropout(0.5))\n",
        "model.add(Dense(75))\n",
        "model.add(Activation('softmax'))"
      ],
      "metadata": {
        "id": "fwl1N9mDZrq6"
      },
      "execution_count": null,
      "outputs": []
    },
    {
      "cell_type": "code",
      "source": [
        "model.compile(loss='categorical_crossentropy',\n",
        "              optimizer='adam',\n",
        "              metrics=['accuracy'])"
      ],
      "metadata": {
        "id": "Zy1liq6Vco4o"
      },
      "execution_count": null,
      "outputs": []
    },
    {
      "cell_type": "markdown",
      "source": [
        "###Обучаем модель с использованием генераторов"
      ],
      "metadata": {
        "id": "g3SOrdagbu9z"
      }
    },
    {
      "cell_type": "markdown",
      "source": [
        "train_generator - генератор данных для обучения\n",
        "\n",
        "validation_data - генератор данных для проверки"
      ],
      "metadata": {
        "id": "JREFE2ERb1w2"
      }
    },
    {
      "cell_type": "code",
      "source": [
        "model.fit_generator(\n",
        "    train_generator,\n",
        "    steps_per_epoch=nb_train_samples // batch_size,\n",
        "    epochs=epochs)"
      ],
      "metadata": {
        "colab": {
          "base_uri": "https://localhost:8080/"
        },
        "id": "H7KaZbdtbfxY",
        "outputId": "8e3e1ad0-1e85-405a-93c1-3a532dfba3c7"
      },
      "execution_count": null,
      "outputs": [
        {
          "output_type": "stream",
          "name": "stdout",
          "text": [
            "Epoch 1/30\n"
          ]
        },
        {
          "output_type": "stream",
          "name": "stderr",
          "text": [
            "<ipython-input-16-408181fb206b>:1: UserWarning: `Model.fit_generator` is deprecated and will be removed in a future version. Please use `Model.fit`, which supports generators.\n",
            "  model.fit_generator(\n"
          ]
        },
        {
          "output_type": "stream",
          "name": "stdout",
          "text": [
            "580/580 [==============================] - 21s 26ms/step - loss: 4.0974 - accuracy: 0.0435\n",
            "Epoch 2/30\n",
            "580/580 [==============================] - 16s 28ms/step - loss: 3.2963 - accuracy: 0.1569\n",
            "Epoch 3/30\n",
            "580/580 [==============================] - 14s 24ms/step - loss: 2.7252 - accuracy: 0.2567\n",
            "Epoch 4/30\n",
            "580/580 [==============================] - 15s 26ms/step - loss: 2.3723 - accuracy: 0.3257\n",
            "Epoch 5/30\n",
            "580/580 [==============================] - 16s 27ms/step - loss: 2.0965 - accuracy: 0.3874\n",
            "Epoch 6/30\n",
            "580/580 [==============================] - 15s 25ms/step - loss: 1.8972 - accuracy: 0.4280\n",
            "Epoch 7/30\n",
            "580/580 [==============================] - 16s 27ms/step - loss: 1.7377 - accuracy: 0.4684\n",
            "Epoch 8/30\n",
            "580/580 [==============================] - 17s 28ms/step - loss: 1.6291 - accuracy: 0.4956\n",
            "Epoch 9/30\n",
            "580/580 [==============================] - 15s 26ms/step - loss: 1.4717 - accuracy: 0.5340\n",
            "Epoch 10/30\n",
            "580/580 [==============================] - 16s 27ms/step - loss: 1.3910 - accuracy: 0.5521\n",
            "Epoch 11/30\n",
            "580/580 [==============================] - 15s 26ms/step - loss: 1.3044 - accuracy: 0.5757\n",
            "Epoch 12/30\n",
            "580/580 [==============================] - 15s 25ms/step - loss: 1.2119 - accuracy: 0.6091\n",
            "Epoch 13/30\n",
            "580/580 [==============================] - 17s 29ms/step - loss: 1.1626 - accuracy: 0.6207\n",
            "Epoch 14/30\n",
            "580/580 [==============================] - 15s 25ms/step - loss: 1.1075 - accuracy: 0.6299\n",
            "Epoch 15/30\n",
            "580/580 [==============================] - 14s 25ms/step - loss: 1.0672 - accuracy: 0.6449\n",
            "Epoch 16/30\n",
            "580/580 [==============================] - 18s 31ms/step - loss: 1.0318 - accuracy: 0.6509\n",
            "Epoch 17/30\n",
            "580/580 [==============================] - 16s 27ms/step - loss: 0.9925 - accuracy: 0.6609\n",
            "Epoch 18/30\n",
            "580/580 [==============================] - 15s 26ms/step - loss: 0.9487 - accuracy: 0.6742\n",
            "Epoch 19/30\n",
            "580/580 [==============================] - 14s 25ms/step - loss: 0.9417 - accuracy: 0.6799\n",
            "Epoch 20/30\n",
            "580/580 [==============================] - 16s 27ms/step - loss: 0.8975 - accuracy: 0.6987\n",
            "Epoch 21/30\n",
            "580/580 [==============================] - 19s 32ms/step - loss: 0.8640 - accuracy: 0.7094\n",
            "Epoch 22/30\n",
            "580/580 [==============================] - 15s 25ms/step - loss: 0.8343 - accuracy: 0.7226\n",
            "Epoch 23/30\n",
            "580/580 [==============================] - 16s 27ms/step - loss: 0.8097 - accuracy: 0.7264\n",
            "Epoch 24/30\n",
            "580/580 [==============================] - 17s 29ms/step - loss: 0.7791 - accuracy: 0.7308\n",
            "Epoch 25/30\n",
            "580/580 [==============================] - 18s 32ms/step - loss: 0.7584 - accuracy: 0.7386\n",
            "Epoch 26/30\n",
            "580/580 [==============================] - 16s 27ms/step - loss: 0.7670 - accuracy: 0.7390\n",
            "Epoch 27/30\n",
            "580/580 [==============================] - 16s 28ms/step - loss: 0.7461 - accuracy: 0.7438\n",
            "Epoch 28/30\n",
            "580/580 [==============================] - 14s 24ms/step - loss: 0.7284 - accuracy: 0.7533\n",
            "Epoch 29/30\n",
            "580/580 [==============================] - 14s 24ms/step - loss: 0.6828 - accuracy: 0.7726\n",
            "Epoch 30/30\n",
            "580/580 [==============================] - 14s 25ms/step - loss: 0.6866 - accuracy: 0.7718\n"
          ]
        },
        {
          "output_type": "execute_result",
          "data": {
            "text/plain": [
              "<keras.src.callbacks.History at 0x7bc1c41fe4a0>"
            ]
          },
          "metadata": {},
          "execution_count": 16
        }
      ]
    },
    {
      "cell_type": "markdown",
      "source": [
        "\n",
        "###Оцениваем качество работы сети с помощью генератора"
      ],
      "metadata": {
        "id": "4l51RATYfruY"
      }
    },
    {
      "cell_type": "code",
      "source": [
        "scores = model.evaluate_generator(test_generator, nb_test_samples // batch_size)"
      ],
      "metadata": {
        "colab": {
          "base_uri": "https://localhost:8080/"
        },
        "id": "E5fOFALgca7f",
        "outputId": "19fe367f-c830-448b-f97e-1e52b6bbb1e9"
      },
      "execution_count": null,
      "outputs": [
        {
          "output_type": "stream",
          "name": "stderr",
          "text": [
            "<ipython-input-17-95bfb2ba4b2e>:1: UserWarning: `Model.evaluate_generator` is deprecated and will be removed in a future version. Please use `Model.evaluate`, which supports generators.\n",
            "  scores = model.evaluate_generator(test_generator, nb_test_samples // batch_size)\n"
          ]
        }
      ]
    },
    {
      "cell_type": "code",
      "source": [
        "print(\"Аккуратность на тестовых данных: %.2f%%\" % (scores[1]*100))"
      ],
      "metadata": {
        "colab": {
          "base_uri": "https://localhost:8080/"
        },
        "id": "FyYoETCufwmH",
        "outputId": "0996bd13-c447-428d-9e88-9f45ec642017"
      },
      "execution_count": null,
      "outputs": [
        {
          "output_type": "stream",
          "name": "stdout",
          "text": [
            "Аккуратность на тестовых данных: 68.89%\n"
          ]
        }
      ]
    },
    {
      "cell_type": "markdown",
      "source": [
        "Зададим функцию аугментации, чтобы незначительно изменять изображения для искусственного расширения набора данных при обучении."
      ],
      "metadata": {
        "id": "hphKPlH8gU6R"
      }
    },
    {
      "cell_type": "code",
      "source": [
        "aug_train_generator = ImageDataGenerator(\n",
        "    rotation_range=10,\n",
        "    zoom_range=0.15,\n",
        "    width_shift_range=0.1,\n",
        "    height_shift_range=0.1,\n",
        "    shear_range=0.15,\n",
        "    horizontal_flip=True,\n",
        "    vertical_flip=True,\n",
        "    fill_mode=\"nearest\")\n",
        "aug_train_generator = datagen.flow_from_directory(\n",
        "    train_dir,\n",
        "    target_size=(img_width, img_height),\n",
        "    batch_size=batch_size,\n",
        "    class_mode='categorical',\n",
        "    )"
      ],
      "metadata": {
        "colab": {
          "base_uri": "https://localhost:8080/"
        },
        "id": "-XllPh9ngUGN",
        "outputId": "90aa8665-bae7-423c-aa4e-44e45ce6bd0e"
      },
      "execution_count": null,
      "outputs": [
        {
          "output_type": "stream",
          "name": "stdout",
          "text": [
            "Found 9285 images belonging to 75 classes.\n"
          ]
        }
      ]
    },
    {
      "cell_type": "code",
      "source": [
        "history = model.fit_generator(\n",
        "    aug_train_generator,\n",
        "    steps_per_epoch=nb_train_samples // batch_size,\n",
        "    epochs=epochs)"
      ],
      "metadata": {
        "colab": {
          "base_uri": "https://localhost:8080/"
        },
        "id": "eDueiYVdgUDE",
        "outputId": "9b5823f3-c019-46e9-b7b5-f7bded473896"
      },
      "execution_count": null,
      "outputs": [
        {
          "output_type": "stream",
          "name": "stdout",
          "text": [
            "Epoch 1/15\n"
          ]
        },
        {
          "output_type": "stream",
          "name": "stderr",
          "text": [
            "<ipython-input-23-7dfd26972473>:1: UserWarning: `Model.fit_generator` is deprecated and will be removed in a future version. Please use `Model.fit`, which supports generators.\n",
            "  history = model.fit_generator(\n"
          ]
        },
        {
          "output_type": "stream",
          "name": "stdout",
          "text": [
            "290/290 [==============================] - 15s 49ms/step - loss: 0.6111 - accuracy: 0.7915\n",
            "Epoch 2/15\n",
            "290/290 [==============================] - 14s 47ms/step - loss: 0.5727 - accuracy: 0.7993\n",
            "Epoch 3/15\n",
            "290/290 [==============================] - 13s 45ms/step - loss: 0.5557 - accuracy: 0.8037\n",
            "Epoch 4/15\n",
            "290/290 [==============================] - 14s 47ms/step - loss: 0.5486 - accuracy: 0.8097\n",
            "Epoch 5/15\n",
            "290/290 [==============================] - 14s 49ms/step - loss: 0.5485 - accuracy: 0.8071\n",
            "Epoch 6/15\n",
            "290/290 [==============================] - 14s 49ms/step - loss: 0.5228 - accuracy: 0.8172\n",
            "Epoch 7/15\n",
            "290/290 [==============================] - 13s 46ms/step - loss: 0.5150 - accuracy: 0.8211\n",
            "Epoch 8/15\n",
            "290/290 [==============================] - 14s 47ms/step - loss: 0.5099 - accuracy: 0.8180\n",
            "Epoch 9/15\n",
            "290/290 [==============================] - 14s 47ms/step - loss: 0.5217 - accuracy: 0.8168\n",
            "Epoch 10/15\n",
            "290/290 [==============================] - 13s 45ms/step - loss: 0.5149 - accuracy: 0.8220\n",
            "Epoch 11/15\n",
            "290/290 [==============================] - 14s 49ms/step - loss: 0.5217 - accuracy: 0.8209\n",
            "Epoch 12/15\n",
            "290/290 [==============================] - 15s 50ms/step - loss: 0.5055 - accuracy: 0.8279\n",
            "Epoch 13/15\n",
            "290/290 [==============================] - 13s 46ms/step - loss: 0.5050 - accuracy: 0.8254\n",
            "Epoch 14/15\n",
            "290/290 [==============================] - 13s 45ms/step - loss: 0.4823 - accuracy: 0.8296\n",
            "Epoch 15/15\n",
            "290/290 [==============================] - 17s 59ms/step - loss: 0.4792 - accuracy: 0.8332\n"
          ]
        }
      ]
    },
    {
      "cell_type": "code",
      "source": [
        "scores = model.evaluate_generator(test_generator, nb_test_samples // batch_size)"
      ],
      "metadata": {
        "colab": {
          "base_uri": "https://localhost:8080/"
        },
        "id": "ULJB3SwAr3dr",
        "outputId": "e958b4b9-4ebf-4366-b701-469083cc525a"
      },
      "execution_count": null,
      "outputs": [
        {
          "output_type": "stream",
          "name": "stderr",
          "text": [
            "<ipython-input-24-95bfb2ba4b2e>:1: UserWarning: `Model.evaluate_generator` is deprecated and will be removed in a future version. Please use `Model.evaluate`, which supports generators.\n",
            "  scores = model.evaluate_generator(test_generator, nb_test_samples // batch_size)\n"
          ]
        }
      ]
    },
    {
      "cell_type": "code",
      "source": [
        "print(\"Accuracy на тестовых данных: %.2f%%\" % (scores[1]*100))"
      ],
      "metadata": {
        "colab": {
          "base_uri": "https://localhost:8080/"
        },
        "id": "ix1Irvy2r5h3",
        "outputId": "d446a221-b20e-4f15-a965-dc899380e046"
      },
      "execution_count": null,
      "outputs": [
        {
          "output_type": "stream",
          "name": "stdout",
          "text": [
            "Аккуратность на тестовых данных: 72.83%\n"
          ]
        }
      ]
    },
    {
      "cell_type": "code",
      "source": [
        "plt.figure(0)\n",
        "plt.plot(history.history['accuracy'], label='training accuracy')\n",
        "plt.title('Accuracy')\n",
        "plt.xlabel('epochs')\n",
        "plt.ylabel('accuracy')\n",
        "plt.legend()\n",
        "plt.show()\n",
        "\n",
        "plt.figure(1)\n",
        "plt.plot(history.history['loss'], label='training loss')\n",
        "plt.title('Loss')\n",
        "plt.xlabel('epochs')\n",
        "plt.ylabel('loss')\n",
        "plt.legend()\n",
        "plt.show()"
      ],
      "metadata": {
        "colab": {
          "base_uri": "https://localhost:8080/",
          "height": 927
        },
        "id": "NyzaMgPJfyyZ",
        "outputId": "24d44a1f-f998-4c40-be1c-699adbf4a142"
      },
      "execution_count": null,
      "outputs": [
        {
          "output_type": "display_data",
          "data": {
            "text/plain": [
              "<Figure size 640x480 with 1 Axes>"
            ],
            "image/png": "[encoded data removed]"
          },
          "metadata": {}
        },
        {
          "output_type": "display_data",
          "data": {
            "text/plain": [
              "<Figure size 640x480 with 1 Axes>"
            ],
            "image/png": "[encoded data removed]"
          },
          "metadata": {}
        }
      ]
    }
  ]
}