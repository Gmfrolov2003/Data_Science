{
  "nbformat": 4,
  "nbformat_minor": 0,
  "metadata": {
    "colab": {
      "provenance": []
    },
    "kernelspec": {
      "name": "python3",
      "display_name": "Python 3"
    },
    "language_info": {
      "name": "python"
    }
  },
  "cells": [
    {
      "cell_type": "markdown",
      "metadata": {
        "id": "UcYV0lMbLsXK"
      },
      "source": [
        "# *Лабораторная работа №4*"
      ]
    },
    {
      "cell_type": "markdown",
      "metadata": {
        "id": "yClwWSoX4l7N"
      },
      "source": [
        "Рассмотрим набор данных IMDB, содержащий 50 000 обзоров фильмов с точки зрения обработки естественного языка.\n",
        "\n",
        "Этот набор данных для бинарной классификации эмоциональной окраски. Набор состоит из 25 000 высокорелевантных обзоров фильмов для обучения и 25 000 для тестирования.\n",
        "\n",
        "Подключим большую часть необходимых библиотек."
      ]
    },
    {
      "cell_type": "code",
      "metadata": {
        "id": "yIn5So5zMjuE"
      },
      "source": [
        "import pandas as pd\n",
        "import numpy as np\n",
        "import seaborn as sns\n",
        "from sklearn.model_selection import train_test_split\n",
        "from sklearn.preprocessing import LabelEncoder\n",
        "import warnings\n",
        "warnings.filterwarnings(action=\"ignore\")\n",
        "import tensorflow as tf"
      ],
      "execution_count": null,
      "outputs": []
    },
    {
      "cell_type": "markdown",
      "metadata": {
        "id": "-18yuyFb5a-L"
      },
      "source": [
        "Загрузим набор данных."
      ]
    },
    {
      "cell_type": "code",
      "metadata": {
        "id": "up7aIYsJPxY9"
      },
      "source": [
        "%%capture\n",
        "!wget https://www.dropbox.com/s/7sokxhbwg2kz33k/IMDB%20Dataset.csv"
      ],
      "execution_count": null,
      "outputs": []
    },
    {
      "cell_type": "markdown",
      "metadata": {
        "id": "bDrgLguQ5dzp"
      },
      "source": [
        "Считаем загруженный набор данных в dataframe для дальнейшей обработки."
      ]
    },
    {
      "cell_type": "code",
      "metadata": {
        "colab": {
          "base_uri": "https://localhost:8080/",
          "height": 347
        },
        "id": "rsTy353SPEE1",
        "outputId": "4bdec2ca-fd3f-42c2-dc2e-9b478879c1c6"
      },
      "source": [
        "df = pd.read_csv(\"IMDB Dataset.csv\")\n",
        "df.head(10)"
      ],
      "execution_count": null,
      "outputs": [
        {
          "output_type": "execute_result",
          "data": {
            "text/html": [
              "<div>\n",
              "<style scoped>\n",
              "    .dataframe tbody tr th:only-of-type {\n",
              "        vertical-align: middle;\n",
              "    }\n",
              "\n",
              "    .dataframe tbody tr th {\n",
              "        vertical-align: top;\n",
              "    }\n",
              "\n",
              "    .dataframe thead th {\n",
              "        text-align: right;\n",
              "    }\n",
              "</style>\n",
              "<table border=\"1\" class=\"dataframe\">\n",
              "  <thead>\n",
              "    <tr style=\"text-align: right;\">\n",
              "      <th></th>\n",
              "      <th>review</th>\n",
              "      <th>sentiment</th>\n",
              "    </tr>\n",
              "  </thead>\n",
              "  <tbody>\n",
              "    <tr>\n",
              "      <th>0</th>\n",
              "      <td>One of the other reviewers has mentioned that ...</td>\n",
              "      <td>positive</td>\n",
              "    </tr>\n",
              "    <tr>\n",
              "      <th>1</th>\n",
              "      <td>A wonderful little production. &lt;br /&gt;&lt;br /&gt;The...</td>\n",
              "      <td>positive</td>\n",
              "    </tr>\n",
              "    <tr>\n",
              "      <th>2</th>\n",
              "      <td>I thought this was a wonderful way to spend ti...</td>\n",
              "      <td>positive</td>\n",
              "    </tr>\n",
              "    <tr>\n",
              "      <th>3</th>\n",
              "      <td>Basically there's a family where a little boy ...</td>\n",
              "      <td>negative</td>\n",
              "    </tr>\n",
              "    <tr>\n",
              "      <th>4</th>\n",
              "      <td>Petter Mattei's \"Love in the Time of Money\" is...</td>\n",
              "      <td>positive</td>\n",
              "    </tr>\n",
              "    <tr>\n",
              "      <th>5</th>\n",
              "      <td>Probably my all-time favorite movie, a story o...</td>\n",
              "      <td>positive</td>\n",
              "    </tr>\n",
              "    <tr>\n",
              "      <th>6</th>\n",
              "      <td>I sure would like to see a resurrection of a u...</td>\n",
              "      <td>positive</td>\n",
              "    </tr>\n",
              "    <tr>\n",
              "      <th>7</th>\n",
              "      <td>This show was an amazing, fresh &amp; innovative i...</td>\n",
              "      <td>negative</td>\n",
              "    </tr>\n",
              "    <tr>\n",
              "      <th>8</th>\n",
              "      <td>Encouraged by the positive comments about this...</td>\n",
              "      <td>negative</td>\n",
              "    </tr>\n",
              "    <tr>\n",
              "      <th>9</th>\n",
              "      <td>If you like original gut wrenching laughter yo...</td>\n",
              "      <td>positive</td>\n",
              "    </tr>\n",
              "  </tbody>\n",
              "</table>\n",
              "</div>"
            ],
            "text/plain": [
              "                                              review sentiment\n",
              "0  One of the other reviewers has mentioned that ...  positive\n",
              "1  A wonderful little production. <br /><br />The...  positive\n",
              "2  I thought this was a wonderful way to spend ti...  positive\n",
              "3  Basically there's a family where a little boy ...  negative\n",
              "4  Petter Mattei's \"Love in the Time of Money\" is...  positive\n",
              "5  Probably my all-time favorite movie, a story o...  positive\n",
              "6  I sure would like to see a resurrection of a u...  positive\n",
              "7  This show was an amazing, fresh & innovative i...  negative\n",
              "8  Encouraged by the positive comments about this...  negative\n",
              "9  If you like original gut wrenching laughter yo...  positive"
            ]
          },
          "metadata": {
            "tags": []
          },
          "execution_count": 3
        }
      ]
    },
    {
      "cell_type": "markdown",
      "metadata": {
        "id": "PmkT7Bpa5q74"
      },
      "source": [
        "Проверим основную информацию о представленном наборе данных."
      ]
    },
    {
      "cell_type": "code",
      "metadata": {
        "colab": {
          "base_uri": "https://localhost:8080/"
        },
        "id": "NI7-CaLgPECg",
        "outputId": "e8de295a-5a4b-44c5-e09e-57bb3fac054d"
      },
      "source": [
        "df.shape"
      ],
      "execution_count": null,
      "outputs": [
        {
          "output_type": "execute_result",
          "data": {
            "text/plain": [
              "(50000, 2)"
            ]
          },
          "metadata": {
            "tags": []
          },
          "execution_count": 5
        }
      ]
    },
    {
      "cell_type": "code",
      "metadata": {
        "colab": {
          "base_uri": "https://localhost:8080/"
        },
        "id": "OczguuXTPEAH",
        "outputId": "844f7f73-f6fe-4089-f55e-a9c327a0e9e4"
      },
      "source": [
        "df.isna().sum()"
      ],
      "execution_count": null,
      "outputs": [
        {
          "output_type": "execute_result",
          "data": {
            "text/plain": [
              "review       0\n",
              "sentiment    0\n",
              "dtype: int64"
            ]
          },
          "metadata": {
            "tags": []
          },
          "execution_count": 6
        }
      ]
    },
    {
      "cell_type": "code",
      "metadata": {
        "colab": {
          "base_uri": "https://localhost:8080/"
        },
        "id": "xzp-JGZjPD9l",
        "outputId": "93913159-15d7-42d7-840a-1601a3f9b70b"
      },
      "source": [
        "df.info()"
      ],
      "execution_count": null,
      "outputs": [
        {
          "output_type": "stream",
          "text": [
            "<class 'pandas.core.frame.DataFrame'>\n",
            "RangeIndex: 50000 entries, 0 to 49999\n",
            "Data columns (total 2 columns):\n",
            " #   Column     Non-Null Count  Dtype \n",
            "---  ------     --------------  ----- \n",
            " 0   review     50000 non-null  object\n",
            " 1   sentiment  50000 non-null  object\n",
            "dtypes: object(2)\n",
            "memory usage: 781.4+ KB\n"
          ],
          "name": "stdout"
        }
      ]
    },
    {
      "cell_type": "markdown",
      "metadata": {
        "id": "EIYzEXHH5zoe"
      },
      "source": [
        "Переведем текстовую оценку эмоциональной окраски отзыва в целочисленный вид."
      ]
    },
    {
      "cell_type": "code",
      "metadata": {
        "colab": {
          "base_uri": "https://localhost:8080/",
          "height": 197
        },
        "id": "8Ot2AnlUPD6s",
        "outputId": "e865be3c-0c50-4047-a7ad-9d4ccdd9a796"
      },
      "source": [
        "le = LabelEncoder()\n",
        "df[\"sentiment\"] = le.fit_transform(df[\"sentiment\"])\n",
        "df.head()"
      ],
      "execution_count": null,
      "outputs": [
        {
          "output_type": "execute_result",
          "data": {
            "text/html": [
              "<div>\n",
              "<style scoped>\n",
              "    .dataframe tbody tr th:only-of-type {\n",
              "        vertical-align: middle;\n",
              "    }\n",
              "\n",
              "    .dataframe tbody tr th {\n",
              "        vertical-align: top;\n",
              "    }\n",
              "\n",
              "    .dataframe thead th {\n",
              "        text-align: right;\n",
              "    }\n",
              "</style>\n",
              "<table border=\"1\" class=\"dataframe\">\n",
              "  <thead>\n",
              "    <tr style=\"text-align: right;\">\n",
              "      <th></th>\n",
              "      <th>review</th>\n",
              "      <th>sentiment</th>\n",
              "    </tr>\n",
              "  </thead>\n",
              "  <tbody>\n",
              "    <tr>\n",
              "      <th>0</th>\n",
              "      <td>One of the other reviewers has mentioned that ...</td>\n",
              "      <td>1</td>\n",
              "    </tr>\n",
              "    <tr>\n",
              "      <th>1</th>\n",
              "      <td>A wonderful little production. &lt;br /&gt;&lt;br /&gt;The...</td>\n",
              "      <td>1</td>\n",
              "    </tr>\n",
              "    <tr>\n",
              "      <th>2</th>\n",
              "      <td>I thought this was a wonderful way to spend ti...</td>\n",
              "      <td>1</td>\n",
              "    </tr>\n",
              "    <tr>\n",
              "      <th>3</th>\n",
              "      <td>Basically there's a family where a little boy ...</td>\n",
              "      <td>0</td>\n",
              "    </tr>\n",
              "    <tr>\n",
              "      <th>4</th>\n",
              "      <td>Petter Mattei's \"Love in the Time of Money\" is...</td>\n",
              "      <td>1</td>\n",
              "    </tr>\n",
              "  </tbody>\n",
              "</table>\n",
              "</div>"
            ],
            "text/plain": [
              "                                              review  sentiment\n",
              "0  One of the other reviewers has mentioned that ...          1\n",
              "1  A wonderful little production. <br /><br />The...          1\n",
              "2  I thought this was a wonderful way to spend ti...          1\n",
              "3  Basically there's a family where a little boy ...          0\n",
              "4  Petter Mattei's \"Love in the Time of Money\" is...          1"
            ]
          },
          "metadata": {
            "tags": []
          },
          "execution_count": 8
        }
      ]
    },
    {
      "cell_type": "code",
      "metadata": {
        "colab": {
          "base_uri": "https://localhost:8080/"
        },
        "id": "cdMTKEV-PD4S",
        "outputId": "679628b9-58ea-4a94-f137-4a81476057a6"
      },
      "source": [
        "df.sentiment.unique()"
      ],
      "execution_count": null,
      "outputs": [
        {
          "output_type": "execute_result",
          "data": {
            "text/plain": [
              "array([1, 0])"
            ]
          },
          "metadata": {
            "tags": []
          },
          "execution_count": 9
        }
      ]
    },
    {
      "cell_type": "code",
      "metadata": {
        "colab": {
          "base_uri": "https://localhost:8080/",
          "height": 296
        },
        "id": "iq1uYHYzPTzs",
        "outputId": "52519e86-29c3-47dd-bdf1-2ff4d6e6c921"
      },
      "source": [
        "sns.countplot(df[\"sentiment\"])"
      ],
      "execution_count": null,
      "outputs": [
        {
          "output_type": "execute_result",
          "data": {
            "text/plain": [
              "<matplotlib.axes._subplots.AxesSubplot at 0x7f4a66751a50>"
            ]
          },
          "metadata": {
            "tags": []
          },
          "execution_count": 10
        },
        {
          "output_type": "display_data",
          "data": {
            "image/png": "[encoded data removed]",
            "text/plain": [
              "<Figure size 432x288 with 1 Axes>"
            ]
          },
          "metadata": {
            "tags": [],
            "needs_background": "light"
          }
        }
      ]
    },
    {
      "cell_type": "code",
      "metadata": {
        "colab": {
          "base_uri": "https://localhost:8080/"
        },
        "id": "FghBBXV-PTxE",
        "outputId": "1b4d385b-353f-4b46-db2b-4f68231ad0a3"
      },
      "source": [
        "df[\"sentiment\"].value_counts()"
      ],
      "execution_count": null,
      "outputs": [
        {
          "output_type": "execute_result",
          "data": {
            "text/plain": [
              "1    25000\n",
              "0    25000\n",
              "Name: sentiment, dtype: int64"
            ]
          },
          "metadata": {
            "tags": []
          },
          "execution_count": 11
        }
      ]
    },
    {
      "cell_type": "markdown",
      "metadata": {
        "id": "AiRDss5F6GUh"
      },
      "source": [
        "Необходимо очистить наш набор данных от зашумляющей информации и привести весь текст к нижнему регистру."
      ]
    },
    {
      "cell_type": "code",
      "metadata": {
        "id": "yoA2IVW6QevB"
      },
      "source": [
        "def standardize_text(df, content_field):\n",
        "    df[content_field] = df[content_field].str.replace(r\"http\\S+\", \"\")\n",
        "    df[content_field] = df[content_field].str.replace(r\"http\", \"\")\n",
        "    df[content_field] = df[content_field].str.replace(r\"@\\S+\", \"\")\n",
        "    df[content_field] = df[content_field].str.replace(r\"[^A-Za-z0-9(),!?@\\'\\`\\\"\\_\\n]\", \" \")\n",
        "    df[content_field] = df[content_field].str.replace(r\"@\", \"at\")\n",
        "    df[content_field] = df[content_field].str.lower()\n",
        "    return df"
      ],
      "execution_count": null,
      "outputs": []
    },
    {
      "cell_type": "code",
      "metadata": {
        "colab": {
          "base_uri": "https://localhost:8080/",
          "height": 406
        },
        "id": "N9rLWhHsPTud",
        "outputId": "63d58d85-5b06-4446-9bca-52192b00480f"
      },
      "source": [
        "standardize_text(df,\"review\")"
      ],
      "execution_count": null,
      "outputs": [
        {
          "output_type": "execute_result",
          "data": {
            "text/html": [
              "<div>\n",
              "<style scoped>\n",
              "    .dataframe tbody tr th:only-of-type {\n",
              "        vertical-align: middle;\n",
              "    }\n",
              "\n",
              "    .dataframe tbody tr th {\n",
              "        vertical-align: top;\n",
              "    }\n",
              "\n",
              "    .dataframe thead th {\n",
              "        text-align: right;\n",
              "    }\n",
              "</style>\n",
              "<table border=\"1\" class=\"dataframe\">\n",
              "  <thead>\n",
              "    <tr style=\"text-align: right;\">\n",
              "      <th></th>\n",
              "      <th>review</th>\n",
              "      <th>sentiment</th>\n",
              "    </tr>\n",
              "  </thead>\n",
              "  <tbody>\n",
              "    <tr>\n",
              "      <th>0</th>\n",
              "      <td>one of the other reviewers has mentioned that ...</td>\n",
              "      <td>1</td>\n",
              "    </tr>\n",
              "    <tr>\n",
              "      <th>1</th>\n",
              "      <td>a wonderful little production   br    br   the...</td>\n",
              "      <td>1</td>\n",
              "    </tr>\n",
              "    <tr>\n",
              "      <th>2</th>\n",
              "      <td>i thought this was a wonderful way to spend ti...</td>\n",
              "      <td>1</td>\n",
              "    </tr>\n",
              "    <tr>\n",
              "      <th>3</th>\n",
              "      <td>basically there's a family where a little boy ...</td>\n",
              "      <td>0</td>\n",
              "    </tr>\n",
              "    <tr>\n",
              "      <th>4</th>\n",
              "      <td>petter mattei's \"love in the time of money\" is...</td>\n",
              "      <td>1</td>\n",
              "    </tr>\n",
              "    <tr>\n",
              "      <th>...</th>\n",
              "      <td>...</td>\n",
              "      <td>...</td>\n",
              "    </tr>\n",
              "    <tr>\n",
              "      <th>49995</th>\n",
              "      <td>i thought this movie did a down right good job...</td>\n",
              "      <td>1</td>\n",
              "    </tr>\n",
              "    <tr>\n",
              "      <th>49996</th>\n",
              "      <td>bad plot, bad dialogue, bad acting, idiotic di...</td>\n",
              "      <td>0</td>\n",
              "    </tr>\n",
              "    <tr>\n",
              "      <th>49997</th>\n",
              "      <td>i am a catholic taught in parochial elementary...</td>\n",
              "      <td>0</td>\n",
              "    </tr>\n",
              "    <tr>\n",
              "      <th>49998</th>\n",
              "      <td>i'm going to have to disagree with the previou...</td>\n",
              "      <td>0</td>\n",
              "    </tr>\n",
              "    <tr>\n",
              "      <th>49999</th>\n",
              "      <td>no one expects the star trek movies to be high...</td>\n",
              "      <td>0</td>\n",
              "    </tr>\n",
              "  </tbody>\n",
              "</table>\n",
              "<p>50000 rows × 2 columns</p>\n",
              "</div>"
            ],
            "text/plain": [
              "                                                  review  sentiment\n",
              "0      one of the other reviewers has mentioned that ...          1\n",
              "1      a wonderful little production   br    br   the...          1\n",
              "2      i thought this was a wonderful way to spend ti...          1\n",
              "3      basically there's a family where a little boy ...          0\n",
              "4      petter mattei's \"love in the time of money\" is...          1\n",
              "...                                                  ...        ...\n",
              "49995  i thought this movie did a down right good job...          1\n",
              "49996  bad plot, bad dialogue, bad acting, idiotic di...          0\n",
              "49997  i am a catholic taught in parochial elementary...          0\n",
              "49998  i'm going to have to disagree with the previou...          0\n",
              "49999  no one expects the star trek movies to be high...          0\n",
              "\n",
              "[50000 rows x 2 columns]"
            ]
          },
          "metadata": {
            "tags": []
          },
          "execution_count": 14
        }
      ]
    },
    {
      "cell_type": "markdown",
      "metadata": {
        "id": "C8wOQxjB6eZW"
      },
      "source": [
        "Подключим несколько библиотек для обработки естественного языка."
      ]
    },
    {
      "cell_type": "code",
      "metadata": {
        "colab": {
          "base_uri": "https://localhost:8080/"
        },
        "id": "WW6puEImPTr3",
        "outputId": "e677e08c-13a9-4e6d-978d-7fc28c7b69b8"
      },
      "source": [
        "import re\n",
        "import string\n",
        "import nltk\n",
        "nltk.download('stopwords')\n",
        "nltk.download('wordnet')\n",
        "from nltk.corpus import stopwords\n",
        "from nltk.stem.wordnet import WordNetLemmatizer"
      ],
      "execution_count": null,
      "outputs": [
        {
          "output_type": "stream",
          "text": [
            "[nltk_data] Downloading package stopwords to /root/nltk_data...\n",
            "[nltk_data]   Package stopwords is already up-to-date!\n",
            "[nltk_data] Downloading package wordnet to /root/nltk_data...\n",
            "[nltk_data]   Unzipping corpora/wordnet.zip.\n"
          ],
          "name": "stdout"
        }
      ]
    },
    {
      "cell_type": "markdown",
      "metadata": {
        "id": "cOXueEcS61Qc"
      },
      "source": [
        "Операции лемматизации, очистки от стоп-слов и иже с ними занимают очень много времени, так что после запуска следующего кода у Вас будет минимум минут 20 свободного времени."
      ]
    },
    {
      "cell_type": "code",
      "metadata": {
        "id": "NicMt-fLPTpJ"
      },
      "source": [
        "lemmatizer=WordNetLemmatizer()\n",
        "corpus = []\n",
        "for i in range(0,len(df)):\n",
        "    review = re.sub('[^a-zA-Z]', ' ', df['review'][i])\n",
        "    review = review.split()\n",
        "    review=[word for word in review if not word in set(stopwords.words('english'))]\n",
        "    review = [lemmatizer.lemmatize(word) for word in review]\n",
        "    review=' '.join(review)\n",
        "    corpus.append(review)"
      ],
      "execution_count": null,
      "outputs": []
    },
    {
      "cell_type": "markdown",
      "metadata": {
        "id": "qvAihL-l7dmU"
      },
      "source": [
        "Проведем векторизацию нашего текста с помощью TF-IDF."
      ]
    },
    {
      "cell_type": "code",
      "metadata": {
        "id": "z2LtuWsnPTmh"
      },
      "source": [
        "from sklearn.feature_extraction.text import TfidfVectorizer\n",
        "tfidf = TfidfVectorizer(ngram_range=(1, 3))\n",
        "X = tfidf.fit_transform(corpus)\n",
        "y = df[\"sentiment\"]"
      ],
      "execution_count": null,
      "outputs": []
    },
    {
      "cell_type": "markdown",
      "metadata": {
        "id": "MVtozG_f7oSW"
      },
      "source": [
        "Разобьем набор данных на тренировочную и тестовую выборки."
      ]
    },
    {
      "cell_type": "code",
      "metadata": {
        "id": "RazT5YgJPgcD"
      },
      "source": [
        "X_train, X_test, y_train, y_test = train_test_split(X, y, test_size=0.2, random_state=0)"
      ],
      "execution_count": null,
      "outputs": []
    },
    {
      "cell_type": "markdown",
      "metadata": {
        "id": "n-uiBds39CO1"
      },
      "source": [
        "Воспользуемся моделью опорных векторов для проведения классификации."
      ]
    },
    {
      "cell_type": "code",
      "metadata": {
        "colab": {
          "base_uri": "https://localhost:8080/"
        },
        "id": "_gbybI6PPgZf",
        "outputId": "3d0c1536-5f16-48f4-9fde-4ad76ba4a3a8"
      },
      "source": [
        "from sklearn.svm import LinearSVC\n",
        "classifier = LinearSVC()\n",
        "classifier.fit(X_train, y_train)"
      ],
      "execution_count": null,
      "outputs": [
        {
          "output_type": "execute_result",
          "data": {
            "text/plain": [
              "LinearSVC(C=1.0, class_weight=None, dual=True, fit_intercept=True,\n",
              "          intercept_scaling=1, loss='squared_hinge', max_iter=1000,\n",
              "          multi_class='ovr', penalty='l2', random_state=None, tol=0.0001,\n",
              "          verbose=0)"
            ]
          },
          "metadata": {
            "tags": []
          },
          "execution_count": 21
        }
      ]
    },
    {
      "cell_type": "code",
      "metadata": {
        "colab": {
          "base_uri": "https://localhost:8080/"
        },
        "id": "e6N6XiuVPgXE",
        "outputId": "0f9a31c0-8bbf-4c2c-8e49-03ab26790ca4"
      },
      "source": [
        "y_pred = classifier.predict(X_test)\n",
        "y_pred[:5]"
      ],
      "execution_count": null,
      "outputs": [
        {
          "output_type": "execute_result",
          "data": {
            "text/plain": [
              "array([1, 0, 1, 1, 1])"
            ]
          },
          "metadata": {
            "tags": []
          },
          "execution_count": 22
        }
      ]
    },
    {
      "cell_type": "markdown",
      "metadata": {
        "id": "U8hd7hL79LTO"
      },
      "source": [
        "Выведем результаты работы нашего классификатора в виде матрицы неточностей и метрики точности."
      ]
    },
    {
      "cell_type": "code",
      "metadata": {
        "colab": {
          "base_uri": "https://localhost:8080/",
          "height": 446
        },
        "id": "U0s43L7sPgUQ",
        "outputId": "a4e8ec5d-105a-47bb-a0ba-c3d13e0cc004"
      },
      "source": [
        "from sklearn.metrics import confusion_matrix, classification_report, accuracy_score\n",
        "acc = accuracy_score(y_pred, y_test)\n",
        "report = classification_report(y_pred, y_test)\n",
        "cm = confusion_matrix(y_pred,y_test)\n",
        "sns.heatmap(cm, annot=True)\n",
        "print(report)\n",
        "print(\"Accuracy Score of SVC:\", acc*100,\"%\")"
      ],
      "execution_count": null,
      "outputs": [
        {
          "output_type": "stream",
          "text": [
            "              precision    recall  f1-score   support\n",
            "\n",
            "           0       0.89      0.91      0.90      4953\n",
            "           1       0.91      0.89      0.90      5047\n",
            "\n",
            "    accuracy                           0.90     10000\n",
            "   macro avg       0.90      0.90      0.90     10000\n",
            "weighted avg       0.90      0.90      0.90     10000\n",
            "\n",
            "Accuracy Score of SVC: 90.02 %\n"
          ],
          "name": "stdout"
        },
        {
          "output_type": "display_data",
          "data": {
            "image/png": "[encoded data removed]",
            "text/plain": [
              "<Figure size 432x288 with 2 Axes>"
            ]
          },
          "metadata": {
            "tags": [],
            "needs_background": "light"
          }
        }
      ]
    },
    {
      "cell_type": "markdown",
      "metadata": {
        "id": "IGjKNlfmMJYB"
      },
      "source": [
        "## Предсказание эмоциональной окраски отзыва на основе анализа естественного языка (Практическая часть)"
      ]
    },
    {
      "cell_type": "markdown",
      "metadata": {
        "id": "RW1-AfAgNvzV"
      },
      "source": [
        "Вам для обработки предлагается коллекция рецензий пользователей на фильмы с сайта kinopoisk.ru\n",
        "\n",
        "Положительных: 87101\n",
        "\n",
        "Отрицательных: 19804\n",
        "\n",
        "Нейтральных: 24678\n",
        "\n",
        "\n",
        "Все: 131583\n",
        "\n",
        "Каждая рецензия в отдельном файле, первая часть названия файла соответствует ID фильма на kinopoisk.ru вторая часть номеру рецензии на этот фильм. Например, имя файла 306-15.txt обозначает идентификатор фильма на сайте 306, номер рецензии 15.\n",
        "\n",
        "https://www.kaggle.com/mikhailklemin/kinopoisks-movies-reviews\n",
        "\n",
        "Произведем загрузку набора данных."
      ]
    },
    {
      "cell_type": "code",
      "metadata": {
        "id": "KoPegNh5beTf"
      },
      "source": [
        "%%capture\n",
        "!wget https://www.dropbox.com/s/myqjozyhxiionc3/dataset.zip"
      ],
      "execution_count": null,
      "outputs": []
    },
    {
      "cell_type": "code",
      "source": [
        "import numpy as np\n",
        "import pandas as pd\n",
        "import seaborn as sns\n",
        "import re\n",
        "from zipfile import ZipFile\n",
        "import nltk\n",
        "nltk.download('stopwords')\n",
        "nltk.download('wordnet')\n",
        "from nltk.corpus import stopwords\n",
        "from nltk.stem.wordnet import WordNetLemmatizer\n",
        "from nltk.stem.snowball import SnowballStemmer\n",
        "\n",
        "from sklearn.feature_extraction.text import TfidfVectorizer\n",
        "from sklearn.metrics import confusion_matrix, classification_report, accuracy_score\n",
        "from sklearn.model_selection import train_test_split\n",
        "from sklearn.preprocessing import LabelEncoder\n",
        "from sklearn.svm import LinearSVC\n",
        "import warnings\n",
        "warnings.filterwarnings('ignore')"
      ],
      "metadata": {
        "id": "JlHo7G8TBG10",
        "colab": {
          "base_uri": "https://localhost:8080/"
        },
        "outputId": "0f0c60dc-423c-4e52-d433-c0a434aa784d"
      },
      "execution_count": null,
      "outputs": [
        {
          "output_type": "stream",
          "name": "stderr",
          "text": [
            "[nltk_data] Downloading package stopwords to /root/nltk_data...\n",
            "[nltk_data]   Package stopwords is already up-to-date!\n",
            "[nltk_data] Downloading package wordnet to /root/nltk_data...\n",
            "[nltk_data]   Package wordnet is already up-to-date!\n"
          ]
        }
      ]
    },
    {
      "cell_type": "markdown",
      "metadata": {
        "id": "YeBXaI98OKZn"
      },
      "source": [
        "Распакуем все файлы в рабочую директорию."
      ]
    },
    {
      "cell_type": "code",
      "metadata": {
        "id": "_v9NMXnUbqJK"
      },
      "source": [
        "zip = ZipFile('dataset.zip')\n",
        "zip.extractall()"
      ],
      "execution_count": null,
      "outputs": []
    },
    {
      "cell_type": "markdown",
      "metadata": {
        "id": "xNyelBW9OSTe"
      },
      "source": [
        "Для облегчения дальнейшей работы код для размещения информации в dataframe уже написан."
      ]
    },
    {
      "cell_type": "code",
      "metadata": {
        "colab": {
          "base_uri": "https://localhost:8080/"
        },
        "id": "TXLsn9j1cfPv",
        "outputId": "bf9076c6-8ce1-46fb-dad8-6ed9626d027a"
      },
      "source": [
        "import os\n",
        "import pandas as pd\n",
        "\n",
        "df = pd.DataFrame(columns=['review','sentiment'])\n",
        "\n",
        "path = '/content/dataset/'\n",
        "\n",
        "for directory in os.listdir(path):\n",
        "  print(directory)\n",
        "  if os.path.isdir(path + directory):\n",
        "    count = 0\n",
        "    for filename in os.listdir(path + directory):\n",
        "      with open(os.path.join(path + directory + '/', filename)) as f:\n",
        "        review = f.read()\n",
        "        current_df = pd.DataFrame({'review': [review], 'sentiment': directory})\n",
        "        df = pd.concat([df, current_df], ignore_index=True, axis=0)\n",
        "        count +=1\n",
        "        if count > 20000:\n",
        "          break"
      ],
      "execution_count": null,
      "outputs": [
        {
          "output_type": "stream",
          "name": "stdout",
          "text": [
            "pos\n",
            "neu\n",
            "neg\n"
          ]
        }
      ]
    },
    {
      "cell_type": "markdown",
      "metadata": {
        "id": "EeQPHKk2Oenk"
      },
      "source": [
        "Выведем несколько строк из полученного набора данных."
      ]
    },
    {
      "cell_type": "code",
      "metadata": {
        "colab": {
          "base_uri": "https://localhost:8080/",
          "height": 363
        },
        "id": "JKzDdUp_d4Jx",
        "outputId": "d7d96ac0-09ba-4681-aa7b-5f4522f9b2d6"
      },
      "source": [
        "df.sample(10)"
      ],
      "execution_count": null,
      "outputs": [
        {
          "output_type": "execute_result",
          "data": {
            "text/plain": [
              "                                                  review sentiment\n",
              "11303  В последнее время режиссёры, будто бы сговорив...       pos\n",
              "14080  Назвать фильм тяжелым не поворачивается язык, ...       pos\n",
              "26420  Очередную экранизацию творения Стефани Майер я...       neu\n",
              "35733  Кремлёвская диета\\n\\nНикому не убежать от прав...       neu\n",
              "44512  Кинематограф - одно из величайших открытий чел...       neg\n",
              "37697  Ну что, посмотрел я это дело, найдя в хорошем ...       neu\n",
              "26062  « - Телефон не работает\\n - Все спутники взорв...       neu\n",
              "53236  Говоря по правде я очень удивилась, не найдя з...       neg\n",
              "47129  Мда, думала, посмотрю наконец-то неплохую росс...       neg\n",
              "7705   Стоит начать, пожалуй, с минусов, чтобы получи...       pos"
            ],
            "text/html": [
              "\n",
              "  <div id=\"df-91a9d4dc-284c-4fed-acb0-d52bd7db362d\" class=\"colab-df-container\">\n",
              "    <div>\n",
              "<style scoped>\n",
              "    .dataframe tbody tr th:only-of-type {\n",
              "        vertical-align: middle;\n",
              "    }\n",
              "\n",
              "    .dataframe tbody tr th {\n",
              "        vertical-align: top;\n",
              "    }\n",
              "\n",
              "    .dataframe thead th {\n",
              "        text-align: right;\n",
              "    }\n",
              "</style>\n",
              "<table border=\"1\" class=\"dataframe\">\n",
              "  <thead>\n",
              "    <tr style=\"text-align: right;\">\n",
              "      <th></th>\n",
              "      <th>review</th>\n",
              "      <th>sentiment</th>\n",
              "    </tr>\n",
              "  </thead>\n",
              "  <tbody>\n",
              "    <tr>\n",
              "      <th>11303</th>\n",
              "      <td>В последнее время режиссёры, будто бы сговорив...</td>\n",
              "      <td>pos</td>\n",
              "    </tr>\n",
              "    <tr>\n",
              "      <th>14080</th>\n",
              "      <td>Назвать фильм тяжелым не поворачивается язык, ...</td>\n",
              "      <td>pos</td>\n",
              "    </tr>\n",
              "    <tr>\n",
              "      <th>26420</th>\n",
              "      <td>Очередную экранизацию творения Стефани Майер я...</td>\n",
              "      <td>neu</td>\n",
              "    </tr>\n",
              "    <tr>\n",
              "      <th>35733</th>\n",
              "      <td>Кремлёвская диета\\n\\nНикому не убежать от прав...</td>\n",
              "      <td>neu</td>\n",
              "    </tr>\n",
              "    <tr>\n",
              "      <th>44512</th>\n",
              "      <td>Кинематограф - одно из величайших открытий чел...</td>\n",
              "      <td>neg</td>\n",
              "    </tr>\n",
              "    <tr>\n",
              "      <th>37697</th>\n",
              "      <td>Ну что, посмотрел я это дело, найдя в хорошем ...</td>\n",
              "      <td>neu</td>\n",
              "    </tr>\n",
              "    <tr>\n",
              "      <th>26062</th>\n",
              "      <td>« - Телефон не работает\\n - Все спутники взорв...</td>\n",
              "      <td>neu</td>\n",
              "    </tr>\n",
              "    <tr>\n",
              "      <th>53236</th>\n",
              "      <td>Говоря по правде я очень удивилась, не найдя з...</td>\n",
              "      <td>neg</td>\n",
              "    </tr>\n",
              "    <tr>\n",
              "      <th>47129</th>\n",
              "      <td>Мда, думала, посмотрю наконец-то неплохую росс...</td>\n",
              "      <td>neg</td>\n",
              "    </tr>\n",
              "    <tr>\n",
              "      <th>7705</th>\n",
              "      <td>Стоит начать, пожалуй, с минусов, чтобы получи...</td>\n",
              "      <td>pos</td>\n",
              "    </tr>\n",
              "  </tbody>\n",
              "</table>\n",
              "</div>\n",
              "    <div class=\"colab-df-buttons\">\n",
              "\n",
              "  <div class=\"colab-df-container\">\n",
              "    <button class=\"colab-df-convert\" onclick=\"convertToInteractive('df-91a9d4dc-284c-4fed-acb0-d52bd7db362d')\"\n",
              "            title=\"Convert this dataframe to an interactive table.\"\n",
              "            style=\"display:none;\">\n",
              "\n",
              "  <svg xmlns=\"http://www.w3.org/2000/svg\" height=\"24px\" viewBox=\"0 -960 960 960\">\n",
              "    <path d=\"M120-120v-720h720v720H120Zm60-500h600v-160H180v160Zm220 220h160v-160H400v160Zm0 220h160v-160H400v160ZM180-400h160v-160H180v160Zm440 0h160v-160H620v160ZM180-180h160v-160H180v160Zm440 0h160v-160H620v160Z\"/>\n",
              "  </svg>\n",
              "    </button>\n",
              "\n",
              "  <style>\n",
              "    .colab-df-container {\n",
              "      display:flex;\n",
              "      gap: 12px;\n",
              "    }\n",
              "\n",
              "    .colab-df-convert {\n",
              "      background-color: #E8F0FE;\n",
              "      border: none;\n",
              "      border-radius: 50%;\n",
              "      cursor: pointer;\n",
              "      display: none;\n",
              "      fill: #1967D2;\n",
              "      height: 32px;\n",
              "      padding: 0 0 0 0;\n",
              "      width: 32px;\n",
              "    }\n",
              "\n",
              "    .colab-df-convert:hover {\n",
              "      background-color: #E2EBFA;\n",
              "      box-shadow: 0px 1px 2px rgba(60, 64, 67, 0.3), 0px 1px 3px 1px rgba(60, 64, 67, 0.15);\n",
              "      fill: #174EA6;\n",
              "    }\n",
              "\n",
              "    .colab-df-buttons div {\n",
              "      margin-bottom: 4px;\n",
              "    }\n",
              "\n",
              "    [theme=dark] .colab-df-convert {\n",
              "      background-color: #3B4455;\n",
              "      fill: #D2E3FC;\n",
              "    }\n",
              "\n",
              "    [theme=dark] .colab-df-convert:hover {\n",
              "      background-color: #434B5C;\n",
              "      box-shadow: 0px 1px 3px 1px rgba(0, 0, 0, 0.15);\n",
              "      filter: drop-shadow(0px 1px 2px rgba(0, 0, 0, 0.3));\n",
              "      fill: #FFFFFF;\n",
              "    }\n",
              "  </style>\n",
              "\n",
              "    <script>\n",
              "      const buttonEl =\n",
              "        document.querySelector('#df-91a9d4dc-284c-4fed-acb0-d52bd7db362d button.colab-df-convert');\n",
              "      buttonEl.style.display =\n",
              "        google.colab.kernel.accessAllowed ? 'block' : 'none';\n",
              "\n",
              "      async function convertToInteractive(key) {\n",
              "        const element = document.querySelector('#df-91a9d4dc-284c-4fed-acb0-d52bd7db362d');\n",
              "        const dataTable =\n",
              "          await google.colab.kernel.invokeFunction('convertToInteractive',\n",
              "                                                    [key], {});\n",
              "        if (!dataTable) return;\n",
              "\n",
              "        const docLinkHtml = 'Like what you see? Visit the ' +\n",
              "          '<a target=\"_blank\" href=https://colab.research.google.com/notebooks/data_table.ipynb>data table notebook</a>'\n",
              "          + ' to learn more about interactive tables.';\n",
              "        element.innerHTML = '';\n",
              "        dataTable['output_type'] = 'display_data';\n",
              "        await google.colab.output.renderOutput(dataTable, element);\n",
              "        const docLink = document.createElement('div');\n",
              "        docLink.innerHTML = docLinkHtml;\n",
              "        element.appendChild(docLink);\n",
              "      }\n",
              "    </script>\n",
              "  </div>\n",
              "\n",
              "\n",
              "<div id=\"df-6f0d2c85-67b1-4160-ae95-64266463ea32\">\n",
              "  <button class=\"colab-df-quickchart\" onclick=\"quickchart('df-6f0d2c85-67b1-4160-ae95-64266463ea32')\"\n",
              "            title=\"Suggest charts\"\n",
              "            style=\"display:none;\">\n",
              "\n",
              "<svg xmlns=\"http://www.w3.org/2000/svg\" height=\"24px\"viewBox=\"0 0 24 24\"\n",
              "     width=\"24px\">\n",
              "    <g>\n",
              "        <path d=\"M19 3H5c-1.1 0-2 .9-2 2v14c0 1.1.9 2 2 2h14c1.1 0 2-.9 2-2V5c0-1.1-.9-2-2-2zM9 17H7v-7h2v7zm4 0h-2V7h2v10zm4 0h-2v-4h2v4z\"/>\n",
              "    </g>\n",
              "</svg>\n",
              "  </button>\n",
              "\n",
              "<style>\n",
              "  .colab-df-quickchart {\n",
              "      --bg-color: #E8F0FE;\n",
              "      --fill-color: #1967D2;\n",
              "      --hover-bg-color: #E2EBFA;\n",
              "      --hover-fill-color: #174EA6;\n",
              "      --disabled-fill-color: #AAA;\n",
              "      --disabled-bg-color: #DDD;\n",
              "  }\n",
              "\n",
              "  [theme=dark] .colab-df-quickchart {\n",
              "      --bg-color: #3B4455;\n",
              "      --fill-color: #D2E3FC;\n",
              "      --hover-bg-color: #434B5C;\n",
              "      --hover-fill-color: #FFFFFF;\n",
              "      --disabled-bg-color: #3B4455;\n",
              "      --disabled-fill-color: #666;\n",
              "  }\n",
              "\n",
              "  .colab-df-quickchart {\n",
              "    background-color: var(--bg-color);\n",
              "    border: none;\n",
              "    border-radius: 50%;\n",
              "    cursor: pointer;\n",
              "    display: none;\n",
              "    fill: var(--fill-color);\n",
              "    height: 32px;\n",
              "    padding: 0;\n",
              "    width: 32px;\n",
              "  }\n",
              "\n",
              "  .colab-df-quickchart:hover {\n",
              "    background-color: var(--hover-bg-color);\n",
              "    box-shadow: 0 1px 2px rgba(60, 64, 67, 0.3), 0 1px 3px 1px rgba(60, 64, 67, 0.15);\n",
              "    fill: var(--button-hover-fill-color);\n",
              "  }\n",
              "\n",
              "  .colab-df-quickchart-complete:disabled,\n",
              "  .colab-df-quickchart-complete:disabled:hover {\n",
              "    background-color: var(--disabled-bg-color);\n",
              "    fill: var(--disabled-fill-color);\n",
              "    box-shadow: none;\n",
              "  }\n",
              "\n",
              "  .colab-df-spinner {\n",
              "    border: 2px solid var(--fill-color);\n",
              "    border-color: transparent;\n",
              "    border-bottom-color: var(--fill-color);\n",
              "    animation:\n",
              "      spin 1s steps(1) infinite;\n",
              "  }\n",
              "\n",
              "  @keyframes spin {\n",
              "    0% {\n",
              "      border-color: transparent;\n",
              "      border-bottom-color: var(--fill-color);\n",
              "      border-left-color: var(--fill-color);\n",
              "    }\n",
              "    20% {\n",
              "      border-color: transparent;\n",
              "      border-left-color: var(--fill-color);\n",
              "      border-top-color: var(--fill-color);\n",
              "    }\n",
              "    30% {\n",
              "      border-color: transparent;\n",
              "      border-left-color: var(--fill-color);\n",
              "      border-top-color: var(--fill-color);\n",
              "      border-right-color: var(--fill-color);\n",
              "    }\n",
              "    40% {\n",
              "      border-color: transparent;\n",
              "      border-right-color: var(--fill-color);\n",
              "      border-top-color: var(--fill-color);\n",
              "    }\n",
              "    60% {\n",
              "      border-color: transparent;\n",
              "      border-right-color: var(--fill-color);\n",
              "    }\n",
              "    80% {\n",
              "      border-color: transparent;\n",
              "      border-right-color: var(--fill-color);\n",
              "      border-bottom-color: var(--fill-color);\n",
              "    }\n",
              "    90% {\n",
              "      border-color: transparent;\n",
              "      border-bottom-color: var(--fill-color);\n",
              "    }\n",
              "  }\n",
              "</style>\n",
              "\n",
              "  <script>\n",
              "    async function quickchart(key) {\n",
              "      const quickchartButtonEl =\n",
              "        document.querySelector('#' + key + ' button');\n",
              "      quickchartButtonEl.disabled = true;  // To prevent multiple clicks.\n",
              "      quickchartButtonEl.classList.add('colab-df-spinner');\n",
              "      try {\n",
              "        const charts = await google.colab.kernel.invokeFunction(\n",
              "            'suggestCharts', [key], {});\n",
              "      } catch (error) {\n",
              "        console.error('Error during call to suggestCharts:', error);\n",
              "      }\n",
              "      quickchartButtonEl.classList.remove('colab-df-spinner');\n",
              "      quickchartButtonEl.classList.add('colab-df-quickchart-complete');\n",
              "    }\n",
              "    (() => {\n",
              "      let quickchartButtonEl =\n",
              "        document.querySelector('#df-6f0d2c85-67b1-4160-ae95-64266463ea32 button');\n",
              "      quickchartButtonEl.style.display =\n",
              "        google.colab.kernel.accessAllowed ? 'block' : 'none';\n",
              "    })();\n",
              "  </script>\n",
              "</div>\n",
              "    </div>\n",
              "  </div>\n"
            ],
            "application/vnd.google.colaboratory.intrinsic+json": {
              "type": "dataframe",
              "summary": "{\n  \"name\": \"df\",\n  \"rows\": 10,\n  \"fields\": [\n    {\n      \"column\": \"review\",\n      \"properties\": {\n        \"dtype\": \"string\",\n        \"num_unique_values\": 10,\n        \"samples\": [\n          \"\\u041c\\u0434\\u0430, \\u0434\\u0443\\u043c\\u0430\\u043b\\u0430, \\u043f\\u043e\\u0441\\u043c\\u043e\\u0442\\u0440\\u044e \\u043d\\u0430\\u043a\\u043e\\u043d\\u0435\\u0446-\\u0442\\u043e \\u043d\\u0435\\u043f\\u043b\\u043e\\u0445\\u0443\\u044e \\u0440\\u043e\\u0441\\u0441\\u0438\\u0439\\u0441\\u043a\\u0443\\u044e \\u043a\\u043e\\u043c\\u0435\\u0434\\u0438\\u044e, \\u043d\\u043e \\u043d\\u0430\\u0434\\u0435\\u0436\\u0434\\u0430 \\u043d\\u0435 \\u043e\\u043f\\u0440\\u0430\\u0432\\u0434\\u0430\\u043b\\u0430\\u0441\\u044c. \\u0421\\u043a\\u0443\\u0447\\u043d\\u044b\\u0439 \\u0444\\u0438\\u043b\\u044c\\u043c. \\u041d\\u0430\\u043f\\u0438\\u0445\\u0430\\u043b\\u0438 \\u043a\\u0430\\u043a \\u043c\\u043e\\u0436\\u043d\\u043e \\u0431\\u043e\\u043b\\u044c\\u0448\\u0435 \\u043c\\u0435\\u0434\\u0438\\u0439\\u043d\\u044b\\u0445 \\u043b\\u0438\\u0446 \\u0438 \\u0434\\u0443\\u043c\\u0430\\u043b\\u0438, \\u0447\\u0442\\u043e \\u0437\\u0440\\u0438\\u0442\\u0435\\u043b\\u044c \\u0431\\u0443\\u0434\\u0435\\u0442 \\u0440\\u0430\\u0434 \\u0443\\u0436\\u0435 \\u043e\\u0442 \\u0444\\u0430\\u043a\\u0442\\u0430 \\u0441\\u043e\\u0437\\u0435\\u0440\\u0446\\u0430\\u043d\\u0438\\u044f \\u044d\\u0442\\u0438\\u0445 \\u043f\\u0435\\u0432\\u0438\\u0447\\u0435\\u043a \\u0438 \\u0430\\u043a\\u0442\\u0451\\u0440\\u0438\\u0448\\u0435\\u043a? \\u0422\\u0430\\u043a \\u043e\\u043d\\u0438 \\u043e\\u0448\\u0438\\u0431\\u043b\\u0438\\u0441\\u044c. \\u042f \\u043f\\u043e\\u043d\\u0438\\u043c\\u0430\\u044e, \\u0447\\u0442\\u043e \\u044d\\u0442\\u043e \\u043a\\u043e\\u043c\\u0435\\u0434\\u0438\\u044f, \\u043b\\u0451\\u0433\\u043a\\u0438\\u0439 \\u0436\\u0430\\u043d\\u0440, \\u043d\\u043e \\u0442\\u0443\\u0442 \\u0432\\u043e\\u043e\\u0431\\u0449\\u0435 \\u043d\\u0435 \\u0430\\u0439\\u0441! \\u041d\\u0435\\u0442 \\u043d\\u0435 \\u0442\\u043e \\u0447\\u0442\\u043e \\u0431\\u044b \\u0442\\u0430\\u043b\\u0430\\u043d\\u0442\\u043b\\u0438\\u0432\\u044b\\u0445, \\u043d\\u043e \\u0434\\u0430\\u0436\\u0435 \\u0445\\u0430\\u0440\\u0438\\u0437\\u043c\\u0430\\u0442\\u0438\\u0447\\u043d\\u044b\\u0445 \\u0430\\u043a\\u0442\\u0451\\u0440\\u043e\\u0432! \\u0412 \\u0413\\u043e\\u043b\\u043b\\u0438\\u0432\\u0443\\u0434\\u0435 \\u0442\\u043e\\u0436\\u0435 \\u043c\\u043d\\u043e\\u0433\\u0438\\u0435 \\u043d\\u0435 \\u0431\\u043b\\u0435\\u0449\\u0443\\u0442 \\u0430\\u043a\\u0442\\u0451\\u0440\\u0441\\u043a\\u0438\\u043c \\u043c\\u0430\\u0441\\u0442\\u0435\\u0440\\u0441\\u0442\\u0432\\u043e\\u043c, \\u043d\\u043e \\u0442\\u0430\\u043c \\u0445\\u043e\\u0442\\u044f \\u0431\\u044b \\u0437\\u0432\\u0451\\u0437\\u0434\\u044b \\u0445\\u0430\\u0440\\u0438\\u0437\\u043c\\u0430\\u0442\\u0438\\u0447\\u043d\\u044b \\u0438 \\u043c\\u043e\\u0433\\u0443\\u0442 \\u043e\\u0436\\u0438\\u0432\\u0438\\u0442\\u044c \\u0444\\u0438\\u043b\\u044c\\u043c! \\u0422\\u043e\\u0442 \\u0436\\u0435 \\u0421\\u0442\\u0438\\u043b\\u043b\\u0435\\u0440 \\u0438\\u043b\\u0438 \\u041a\\u044d\\u043c\\u0435\\u0440\\u043e\\u043d \\u0414\\u0438\\u0430\\u0441 - \\u0434\\u0430, \\u043e\\u043d\\u0438 \\u043d\\u0435 \\u0432\\u044b\\u0434\\u0430\\u044e\\u0449\\u0438\\u0435\\u0441\\u044f \\u0430\\u043a\\u0442\\u0451\\u0440\\u044b, \\u043d\\u043e \\u043e\\u043d\\u0438 \\u043c\\u043e\\u0433\\u0443\\u0442 \\u0440\\u0430\\u0441\\u0441\\u043c\\u0435\\u0448\\u0438\\u0442\\u044c \\u0438 \\u043d\\u0430 \\u043d\\u0438\\u0445 \\u043f\\u0440\\u0438\\u044f\\u0442\\u043d\\u043e \\u0441\\u043c\\u043e\\u0442\\u0440\\u0435\\u0442\\u044c. \\u0423 \\u043d\\u0430\\u0441 \\u0436\\u0435 \\u0431\\u043e\\u043b\\u043e\\u0442\\u043e \\u043a\\u0430\\u043a\\u043e\\u0435-\\u0442\\u043e! \\u041d\\u0438 \\u043e\\u0431\\u0430\\u044f\\u043d\\u0438\\u044f, \\u043d\\u0438 \\u0438\\u0433\\u0440\\u044b! \\u0421\\u044e\\u0436\\u0435\\u0442 - \\u043f\\u0440\\u043e\\u0441\\u0442\\u043e \\u0430\\u0431\\u0437\\u0430\\u0446 \\u043a\\u0430\\u043a\\u043e\\u0439-\\u0442\\u043e. \\u0423 \\u0442\\u0440\\u0451\\u0445 \\u043c\\u0443\\u0436\\u0438\\u043a\\u043e\\u0432 \\u043e\\u0434\\u043d\\u043e\\u0432\\u0440\\u0435\\u043c\\u0435\\u043d\\u043d\\u043e \\u0441\\u0442\\u0430\\u043b\\u043e \\u043d\\u0430 \\u043f\\u043e\\u043b\\u0448\\u0435\\u0441\\u0442\\u043e\\u0433\\u043e, \\u0438 \\u0432\\u043e\\u0442 \\u0443\\u0436 \\u0442\\u0440\\u0430\\u0433\\u0435\\u0434\\u0438\\u044f \\u043a\\u0430\\u043a\\u0430\\u044f! \\u0412\\u0441\\u0451 \\u043d\\u0430\\u0441\\u0442\\u043e\\u043b\\u044c\\u043a\\u043e \\u043d\\u0435\\u043f\\u0440\\u0430\\u0432\\u0434\\u043e\\u043f\\u043e\\u0434\\u043e\\u0431\\u043d\\u043e! \\n\\n\\u042d\\u0442\\u043e \\u043d\\u0435 \\u0446\\u0435\\u043b\\u043e\\u0441\\u0442\\u043d\\u044b\\u0439 \\u0444\\u0438\\u043b\\u044c\\u043c - \\u044d\\u0442\\u043e \\u043a\\u0430\\u043a \\u043d\\u0430\\u0431\\u043e\\u0440 \\u043a\\u0430\\u0432\\u044d\\u044d\\u043d\\u043e\\u0432\\u0441\\u043a\\u0438\\u0445 \\u043c\\u0438\\u043d\\u0438\\u0430\\u0442\\u044e\\u0440, \\u043f\\u0440\\u0438\\u0447\\u0451\\u043c \\u043d\\u0435\\u0441\\u043c\\u0435\\u0448\\u043d\\u044b\\u0445. \\u0412 \\u0444\\u0438\\u043b\\u044c\\u043c\\u0435 \\u043d\\u0435\\u0442 \\u0438\\u0441\\u043a\\u0440\\u044b, \\u043d\\u0435\\u0442 \\u0436\\u0438\\u0437\\u043d\\u0438, \\u0430 \\u0435\\u0441\\u0442\\u044c \\u0442\\u043e\\u043b\\u044c\\u043a\\u043e \\u043d\\u0430\\u0431\\u043e\\u0440 \\u0434\\u0438\\u0430\\u043b\\u043e\\u0433\\u043e\\u0432, \\u043a\\u043e\\u0442\\u043e\\u0440\\u044b\\u0435 \\u0441\\u043a\\u0443\\u0447\\u043d\\u044b, \\u0438 \\u043d\\u0430\\u0434\\u0443\\u043c\\u0430\\u043d\\u043d\\u044b\\u0435 \\u0441\\u0438\\u0442\\u0443\\u0430\\u0446\\u0438\\u0438. \\u041d\\u043e \\u0441\\u0430\\u043c\\u044b\\u0439 \\u0431\\u043e\\u043b\\u044c\\u0448\\u043e\\u0439 \\u043d\\u0435\\u0434\\u043e\\u0441\\u0442\\u0430\\u0442\\u043e\\u043a - \\u043e\\u043d \\u043d\\u0435\\u0441\\u043c\\u0435\\u0448\\u043d\\u043e\\u0439. \\u041d\\u0438 \\u043a\\u0430\\u043f\\u0435\\u043b\\u044c\\u043a\\u0438. \\u0423 \\u043c\\u0435\\u043d\\u044f \\u0431\\u044b\\u043b\\u043e \\u0431\\u043e\\u043b\\u044c\\u0448\\u043e\\u0435 \\u0436\\u0435\\u043b\\u0430\\u043d\\u0438\\u0435 \\u043f\\u0440\\u043e\\u043c\\u043e\\u0442\\u0430\\u0442\\u044c \\u0434\\u043e \\u043a\\u043e\\u043d\\u0446\\u0430. \\n\\n\\u0412 \\u043e\\u0431\\u0449\\u0435\\u043c, \\u0441\\u043c\\u043e\\u0442\\u0440\\u0435\\u0442\\u044c \\u043d\\u0435 \\u0441\\u043e\\u0432\\u0435\\u0442\\u0443\\u044e. \\u041c\\u043e\\u0436\\u043d\\u043e \\u0431\\u044b\\u043b\\u043e \\u0431\\u044b \\u043f\\u043e\\u0441\\u043e\\u0432\\u0435\\u0442\\u043e\\u0432\\u0430\\u0442\\u044c \\u0442\\u0430\\u043a \\u043d\\u0430\\u0437\\u044b\\u0432\\u0430\\u0435\\u043c\\u044b\\u043c \\u0430\\u043a\\u0442\\u0440\\u0438\\u0441\\u0430\\u043c \\u0438 \\u0430\\u043a\\u0442\\u0451\\u0440\\u0430\\u043c \\u043f\\u043e\\u0441\\u043e\\u0432\\u0435\\u0442\\u043e\\u0432\\u0430\\u0442\\u044c \\u0437\\u0430\\u043d\\u0438\\u043c\\u0430\\u0442\\u044c\\u0441\\u044f \\u043d\\u0435 \\u043b\\u0438\\u0446\\u0435\\u0434\\u0435\\u0439\\u0441\\u0442\\u0432\\u043e\\u043c, \\u0430 \\u0438\\u0445 \\u043f\\u0440\\u044f\\u043c\\u044b\\u043c \\u0434\\u0435\\u043b\\u043e\\u043c - \\u043f\\u0435\\u043d\\u0438\\u0435\\u043c, \\u043d\\u043e \\u0432\\u0435\\u0434\\u044c \\u0438 \\u043e\\u043d\\u043e \\u0443 \\u043d\\u0438\\u0445 \\u043f\\u043e\\u043b\\u0443\\u0447\\u0430\\u0435\\u0442\\u0441\\u044f \\u0441\\u043a\\u0432\\u0435\\u0440\\u043d\\u043e.\\n\\n1 \\u0438\\u0437 10\",\n          \"\\u041d\\u0430\\u0437\\u0432\\u0430\\u0442\\u044c \\u0444\\u0438\\u043b\\u044c\\u043c \\u0442\\u044f\\u0436\\u0435\\u043b\\u044b\\u043c \\u043d\\u0435 \\u043f\\u043e\\u0432\\u043e\\u0440\\u0430\\u0447\\u0438\\u0432\\u0430\\u0435\\u0442\\u0441\\u044f \\u044f\\u0437\\u044b\\u043a, \\u043e\\u043d \\u043d\\u0435\\u043f\\u043e\\u0434\\u044a\\u0435\\u043c\\u043d\\u044b\\u0439. \\u0422\\u0430 \\u0431\\u043e\\u043b\\u044c \\u0438 \\u0441\\u0442\\u0440\\u0430\\u0434\\u0430\\u043d\\u0438\\u044f \\u0447\\u0435\\u0440\\u0435\\u0437 \\u043a\\u043e\\u0442\\u043e\\u0440\\u044b\\u0435 \\u043f\\u0440\\u043e\\u0448\\u043b\\u0438 \\u0433\\u0435\\u0440\\u043e\\u0438, \\u0441\\u0440\\u0430\\u0432\\u043d\\u0438\\u043c\\u0430 \\u043b\\u0438\\u0448\\u044c \\u0441 \\u0433\\u0435\\u043d\\u043e\\u0446\\u0438\\u0434\\u043e\\u043c, \\u043a\\u043e\\u0442\\u043e\\u0440\\u044b\\u043c \\u043f\\u043e \\u0444\\u0430\\u043a\\u0442\\u0443 \\u0438 \\u044f\\u0432\\u043b\\u044f\\u043b\\u043e\\u0441\\u044c \\u044d\\u0442\\u043e \\u043c\\u043e\\u043b\\u0447\\u0430\\u043b\\u0438\\u0432\\u043e\\u0435 \\u043d\\u0430\\u0431\\u043b\\u044e\\u0434\\u0435\\u043d\\u0438\\u0435 \\u0437\\u0430 \\u0441\\u043c\\u0435\\u0440\\u0442\\u044f\\u043c\\u0438 \\u0442\\u044b\\u0441\\u044f\\u0447 \\u043b\\u044e\\u0434\\u0435\\u0439. \\u041c\\u0430\\u0440\\u043a \\u0440\\u0430\\u0437\\u0432\\u044f\\u0437\\u0430\\u0432\\u0448\\u0438\\u0439 \\u044d\\u0442\\u0443 \\u0441\\u0430\\u043c\\u0443\\u044e \\u0432\\u043e\\u0439\\u043d\\u0443, \\u0441\\u043e\\u0432\\u0435\\u0440\\u0448\\u0438\\u043b \\u043f\\u043e-\\u0438\\u0441\\u0442\\u0438\\u043d\\u0435 \\u043e\\u0434\\u0438\\u043d \\u0438\\u0437 \\u0441\\u0430\\u043c\\u044b\\u0445 \\u0432\\u0430\\u0436\\u043d\\u044b\\u0445 \\u043f\\u043e\\u0441\\u0442\\u0443\\u043f\\u043a\\u043e\\u0432 \\u0432 \\u0438\\u0441\\u0442\\u043e\\u0440\\u0438\\u0438 \\u0447\\u0435\\u043b\\u043e\\u0432\\u0435\\u0447\\u0435\\u0441\\u0442\\u0432\\u0430, \\u0434\\u0430\\u0432 \\u0442\\u044b\\u0441\\u044f\\u0447\\u0430\\u043c \\u043b\\u044e\\u0434\\u0435\\u0439 \\u0441\\u0438\\u043b\\u044b \\u0431\\u043e\\u0440\\u043e\\u0442\\u044c\\u0441\\u044f. \\u041e\\u043d \\u0435\\u0434\\u0438\\u043d\\u0441\\u0442\\u0432\\u0435\\u043d\\u043d\\u044b\\u0439 \\u043d\\u0435 \\u0431\\u043e\\u044f\\u043b\\u0441\\u044f \\u0433\\u043e\\u0432\\u043e\\u0440\\u0438\\u0442\\u044c \\u043f\\u0440\\u0430\\u0432\\u0434\\u0443, \\u043f\\u0440\\u0430\\u0432\\u0434\\u0443 \\u043a\\u043e\\u0442\\u043e\\u0440\\u0443\\u044e \\u043d\\u0435 \\u0445\\u043e\\u0442\\u0435\\u043b\\u0438 \\u0437\\u043d\\u0430\\u0442\\u044c \\u0434\\u0430\\u0436\\u0435 \\u0435\\u0433\\u043e \\u0442\\u043e\\u0432\\u0430\\u0440\\u0438\\u0449\\u0438. \\u041a\\u0430\\u043a \\u0436\\u0435 \\u0436\\u0435\\u0441\\u0442\\u043e\\u043a \\u043e\\u043a\\u0430\\u0437\\u0430\\u043b\\u0441\\u044f \\u043c\\u0438\\u0440 \\u043a \\u0441\\u0432\\u043e\\u0438\\u043c \\u0434\\u0435\\u0442\\u044f\\u043c, \\u043b\\u044e\\u0434\\u0438 \\u0433\\u043e\\u0442\\u043e\\u0432\\u044b \\u043d\\u0438 \\u0447\\u0435\\u0433\\u043e \\u043d\\u0435 \\u0434\\u0435\\u043b\\u0430\\u0442\\u044c, \\u043b\\u0438\\u0448\\u044c \\u0431\\u044b \\u044d\\u0442\\u043e \\u043d\\u0435 \\u0438\\u0445 \\u043d\\u0435 \\u043a\\u0430\\u0441\\u0430\\u043b\\u043e\\u0441\\u044c. \\u041b\\u0438\\u0448\\u044c \\u0441\\u0442\\u0430\\u0432 \\u043d\\u0435\\u0432\\u043e\\u043b\\u044c\\u043d\\u044b\\u043c \\u0443\\u0447\\u0430\\u0441\\u0442\\u043d\\u0438\\u043a\\u043e\\u043c \\u044d\\u0442\\u0438\\u0445 \\u0441\\u043e\\u0431\\u044b\\u0442\\u0438\\u0439, \\u043b\\u044e\\u0434\\u0438 \\u043f\\u043e\\u043d\\u0438\\u043c\\u0430\\u043b\\u0438 \\u043c\\u0430\\u0441\\u0448\\u0442\\u0430\\u0431 \\u0442\\u0440\\u0430\\u0433\\u0435\\u0434\\u0438\\u0438. \\u041e\\u0447\\u0435\\u043d\\u044c \\u0436\\u0430\\u043b\\u044c, \\u0447\\u0442\\u043e \\u0434\\u043b\\u044f \\u0442\\u043e\\u0433\\u043e, \\u0447\\u0442\\u043e \\u0431\\u044b \\u043e \\u043f\\u0440\\u043e\\u0431\\u043b\\u0435\\u043c\\u0435 \\u0437\\u0430\\u0433\\u043e\\u0432\\u043e\\u0440\\u0438\\u043b\\u0438, \\u043f\\u0440\\u0438\\u0448\\u043b\\u043e\\u0441\\u044c \\u043f\\u043e\\u0433\\u0438\\u0431\\u043d\\u0443\\u0442\\u044c \\u0442\\u0430\\u043a\\u043e\\u043c\\u0443 \\u043a\\u043e\\u043b\\u0438\\u0447\\u0435\\u0441\\u0442\\u0432\\u0443 \\u043b\\u044e\\u0434\\u0435\\u0439. \\u0424\\u0438\\u043b\\u044c\\u043c \\u0443\\u0447\\u0438\\u0442 \\u0431\\u043e\\u0440\\u043e\\u0442\\u044c\\u0441\\u044f, \\u0431\\u043e\\u0440\\u043e\\u0442\\u044c\\u0441\\u044f \\u0437\\u0430 \\u0441\\u0435\\u0431\\u044f, \\u0437\\u0430 \\u0441\\u0432\\u043e\\u0438\\u0445 \\u0431\\u043b\\u0438\\u0437\\u043a\\u0438\\u0445, \\u0432 \\u043a\\u043e\\u043d\\u0446\\u0435 \\u043a\\u043e\\u043d\\u0446\\u043e\\u0432 \\u0437\\u0430 \\u0432\\u0435\\u0441\\u044c \\u043c\\u0438\\u0440.\",\n          \"\\u041d\\u0443 \\u0447\\u0442\\u043e, \\u043f\\u043e\\u0441\\u043c\\u043e\\u0442\\u0440\\u0435\\u043b \\u044f \\u044d\\u0442\\u043e \\u0434\\u0435\\u043b\\u043e, \\u043d\\u0430\\u0439\\u0434\\u044f \\u0432 \\u0445\\u043e\\u0440\\u043e\\u0448\\u0435\\u043c \\u043a\\u0430\\u0447\\u0435\\u0441\\u0442\\u0432\\u0435 \\u0434\\u043b\\u044f PSP. \\u041d\\u0443, \\u0437\\u043d\\u0430\\u0447\\u0438\\u0442, \\u043a\\u043e\\u0440\\u043e\\u0442\\u043a\\u0430\\u044f \\u0440\\u0435\\u0446\\u0435\\u043d\\u0437\\u0438\\u044f \\u043e\\u0442 \\u043c\\u0435\\u043d\\u044f, \\u0431\\u0443\\u0434\\u0435\\u0442 \\u0442\\u0430\\u043a\\u0430\\u044f.\\n\\n\\u0427\\u0442\\u043e \\u043f\\u043e\\u043d\\u0440\\u0430\\u0432\\u0438\\u043b\\u043e\\u0441\\u044c. \\u041d\\u0443, \\u0432 \\u043e\\u0431\\u0449\\u0435\\u043c, \\u0438 \\u0446\\u0435\\u043b\\u043e\\u043c \\u043f\\u043e\\u043d\\u0440\\u0430\\u0432\\u0438\\u043b\\u0441\\u044f \\u044d\\u0442\\u043e\\u0442 \\u0444\\u0438\\u043b\\u044c\\u043c, \\u0442\\u0435\\u043c \\u0431\\u043e\\u043b\\u0435\\u0435, \\u044f \\u043a\\u0430\\u043a \\u0444\\u0430\\u043d\\u0430\\u0442 \\u0441\\u0435\\u0440\\u0438\\u0438, \\u0431\\u044b\\u043b \\u0432 \\u0432\\u043e\\u0441\\u0442\\u043e\\u0440\\u0433\\u0435, \\u043e\\u0442 \\u043f\\u0440\\u0435\\u0434\\u044b\\u0434\\u0443\\u0449\\u0438\\u0445 \\u0447\\u0430\\u0441\\u0442\\u0435\\u0439 (\\u043f\\u043e\\u0442\\u043e\\u043c\\u0443 \\u0447\\u0442\\u043e, \\u043a\\u0430\\u043a \\u044f \\u0443\\u0436\\u0435 \\u043d\\u0435 \\u0440\\u0430\\u0437 \\u0433\\u043e\\u0432\\u043e\\u0440\\u0438\\u043b, \\u043d\\u0430\\u0434\\u043e \\u0430\\u0431\\u0441\\u0442\\u0440\\u0430\\u0433\\u0438\\u0440\\u043e\\u0432\\u0430\\u0442\\u044c\\u0441\\u044f \\u043e\\u0442\\u0442\\u043e\\u0433\\u043e, \\u0447\\u0442\\u043e \\u044d\\u0442\\u043e \\u043d\\u0435 \\u0443\\u0436\\u0430\\u0441\\u044b, \\u0430 \\u044d\\u043a\\u0448\\u0435\\u043d, \\u0438 \\u0442\\u043e\\u0433\\u0434\\u0430, \\u0432\\u0441\\u0435 \\u0432\\u043f\\u043e\\u043b\\u043d\\u0435 \\u0443\\u0434\\u043e\\u0431\\u043e\\u0432\\u0430\\u0440\\u0438\\u043c\\u043e). \\n\\n\\u041d\\u043e, \\u043f\\u043e\\u0447\\u0435\\u043c\\u0443-\\u0442\\u043e, \\u0436\\u0435\\u043b\\u0430\\u043d\\u0438\\u044f \\u043f\\u0435\\u0440\\u0435\\u0441\\u043c\\u0430\\u0442\\u0440\\u0438\\u0432\\u0430\\u0442\\u044c \\u0435\\u0433\\u043e, \\u0443 \\u043c\\u0435\\u043d\\u044f \\u043d\\u0435\\u0442, \\u0438 \\u0434\\u0443\\u043c\\u0430\\u044e, \\u0435\\u0441\\u043b\\u0438 \\u0438 \\u0432\\u043e\\u0437\\u043d\\u0438\\u043a\\u043d\\u0435\\u0442 \\u2013 \\u043e\\u0447\\u0435\\u043d\\u044c \\u043d\\u0435 \\u0441\\u043a\\u043e\\u0440\\u043e. \\u041f\\u0440\\u0438\\u043c\\u0435\\u0440\\u043d\\u043e \\u0442\\u043e \\u0436\\u0435 \\u0447\\u0443\\u0432\\u0441\\u0442\\u0432\\u043e, \\u0438\\u0441\\u043f\\u044b\\u0442\\u0430\\u043b \\u043f\\u043e\\u0441\\u043b\\u0435 \\u043f\\u0440\\u043e\\u0441\\u043c\\u043e\\u0442\\u0440\\u0430 \\u00ab\\u041a\\u0440\\u0435\\u043f\\u043a\\u043e\\u0433\\u043e \\u043e\\u0440\\u0435\\u0448\\u043a\\u0430 4.0\\u00bb. \\u0412\\u0440\\u043e\\u0434\\u0435 \\u0438 \\u043d\\u0438\\u0447\\u0435\\u0433\\u043e, \\u043d\\u043e \\u0441\\u043c\\u043e\\u0442\\u0440\\u0435\\u0442\\u044c \\u0441\\u044b\\u0437\\u043d\\u043e\\u0432\\u0430 \\u2013 \\u043d\\u0443 \\u043d\\u0438 \\u0440\\u0430\\u0437\\u0443 \\u043d\\u0435 \\u0432\\u0442\\u044b\\u043a\\u0430\\u0435\\u0442.\\n\\n\\u0412\\u043f\\u0435\\u0447\\u0430\\u0442\\u043b\\u0438\\u043b\\u0438 \\u0441\\u0446\\u0435\\u043d\\u044b \\u0434\\u0440\\u0430\\u043a, \\u043f\\u043e\\u0441\\u0442\\u0430\\u0432\\u043b\\u0435\\u043d\\u044b \\u2013 \\u043a\\u0430\\u043a \\u0432\\u0441\\u0435\\u0433\\u0434\\u0430 \\u043e\\u0442\\u043b\\u0438\\u0447\\u043d\\u043e. \\u041c\\u0443\\u0437\\u044b\\u043a\\u0430 \\u2013 \\u043d\\u0443 \\u0442\\u043e\\u0436\\u0435 \\u043d\\u0435 \\u043f\\u043b\\u043e\\u0445\\u043e, \\u043d\\u043e \\u043a\\u0440\\u043e\\u043c\\u0435 \\u0433\\u043b\\u0430\\u0432\\u043d\\u043e\\u0439 \\u0442\\u0435\\u043c\\u044b, \\u0432 \\u043f\\u0430\\u043c\\u044f\\u0442\\u044c, \\u043a\\u0430\\u043a-\\u0442\\u043e \\u043d\\u0438\\u0447\\u0435\\u0433\\u043e \\u043d\\u0435 \\u0432\\u0440\\u0435\\u0437\\u0430\\u043b\\u043e\\u0441\\u044c. \\u0410 \\u0436\\u0430\\u043b\\u044c, \\u0432 \\u043f\\u0440\\u0435\\u0434\\u044b\\u0434\\u0443\\u0449\\u0438\\u0445 \\u0447\\u0430\\u0441\\u0442\\u044f\\u0445, \\u0441\\u0430\\u0443\\u043d\\u0434\\u0442\\u0440\\u0435\\u043a, \\u0431\\u044b\\u043b \\u043e\\u0434\\u043d\\u043e\\u0439 \\u0438\\u0437 \\u0433\\u043b\\u0430\\u0432\\u043d\\u044b\\u0445 \\u0438\\u0437\\u044e\\u043c\\u0438\\u043d\\u043e\\u043a, \\u043a\\u043e\\u0442\\u043e\\u0440\\u044b\\u0439 \\u043e\\u0447\\u0435\\u043d\\u044c \\u0434\\u043e\\u0431\\u0430\\u0432\\u043b\\u044f\\u043b \\u0430\\u0442\\u043c\\u043e\\u0441\\u0444\\u0435\\u0440\\u043d\\u043e\\u0441\\u0442\\u0438.\\n\\n\\u041e\\u043f\\u0435\\u0440\\u0430\\u0442\\u043e\\u0440\\u0441\\u043a\\u0430\\u044f \\u0440\\u0430\\u0431\\u043e\\u0442\\u0430 \\u2013 \\u043d\\u0435 \\u0432\\u044b\\u0437\\u0432\\u0430\\u043b\\u0430 \\u043b\\u0438\\u0447\\u043d\\u043e \\u0443 \\u043c\\u0435\\u043d\\u044f, \\u043d\\u0438\\u043a\\u0430\\u043a\\u0438\\u0445 \\u043d\\u0430\\u0440\\u0435\\u043a\\u0430\\u043d\\u0438\\u0439. \\u041f\\u043e\\u0440\\u043e\\u0439 \\u0434\\u0430\\u0436\\u0435, \\u043c\\u043e\\u0436\\u043d\\u043e \\u043b\\u0438\\u0446\\u0435\\u0437\\u0440\\u0435\\u0442\\u044c, \\u0432\\u0435\\u0441\\u044c\\u043c\\u0430 \\u0432\\u043f\\u0435\\u0447\\u0430\\u0442\\u043b\\u044f\\u044e\\u0449\\u0438\\u0435 \\u043a\\u0430\\u0434\\u0440\\u044b.\\n\\n\\u041a \\u0441\\u043e\\u0436\\u0430\\u043b\\u0435\\u043d\\u0438\\u044e, \\u0432\\u044b\\u043d\\u0443\\u0436\\u0434\\u0435\\u043d \\u043f\\u0440\\u0438\\u0437\\u043d\\u0430\\u0442\\u044c \\u0441\\u0432\\u043e\\u044e \\u043d\\u0435 \\u043f\\u0440\\u0430\\u0432\\u043e\\u0442\\u0443, \\u043a\\u043e\\u0433\\u0434\\u0430 \\u043d\\u0430 \\u043e\\u0441\\u043d\\u043e\\u0432\\u0430\\u043d\\u0438\\u0438 \\u0442\\u0440\\u0435\\u0439\\u043b\\u0435\\u0440\\u043e\\u0432, \\u0438 \\u0432\\u0435\\u0440\\u044b \\u0432 \\u0441\\u0432\\u0435\\u0442\\u043b\\u043e\\u0435 \\u0431\\u0435\\u0434\\u0443\\u044e\\u0449\\u0435\\u0435, \\u0433\\u043e\\u0432\\u043e\\u0440\\u0438\\u043b, \\u0447\\u0442\\u043e \\u0442\\u0440\\u0435\\u0442\\u044c\\u044f \\u0447\\u0430\\u0441\\u0442\\u044c \\u0432\\u0441\\u0435\\u043c \\u0434\\u0430\\u0441\\u0442 \\u043f\\u0440\\u0438\\u043a\\u0443\\u0440\\u0438\\u0442\\u044c. \\u042d\\u0442\\u043e \\u043f\\u043e\\u0441\\u0440\\u0435\\u0434\\u0441\\u0442\\u0432\\u0435\\u043d\\u043d\\u0430\\u044f \\u0440\\u0430\\u0431\\u043e\\u0442\\u0430. \\u0414\\u0430\\u0436\\u0435, \\u0441 \\u043c\\u043e\\u0438\\u043c \\u0432\\u043e\\u0441\\u043f\\u0440\\u0438\\u044f\\u0442\\u0438\\u0435\\u043c \\u0444\\u0438\\u043b\\u044c\\u043c\\u043e\\u0432 \\u043b\\u0438\\u043d\\u0435\\u0439\\u043a\\u0438 RE (\\u0441\\u043c. \\u0432\\u044b\\u0448\\u0435 \\u043f\\u0440\\u043e \\u044d\\u043a\\u0448\\u0435\\u043d), \\u044d\\u0442\\u043e \\u043e\\u0442\\u043a\\u0440\\u043e\\u0432\\u0435\\u043d\\u043d\\u043e \\u0441\\u043a\\u0443\\u0447\\u043d\\u044b\\u0439 \\u044d\\u043a\\u0448\\u0435\\u043d.\\n\\n\\u041e\\u0447\\u0435\\u043d\\u044c \\u043d\\u0435 \\u043f\\u043e\\u043d\\u0440\\u0430\\u0432\\u0438\\u043b\\u0430\\u0441\\u044c \\u043f\\u043e\\u0434\\u0431\\u043e\\u0440\\u043a\\u0430 \\u0430\\u043a\\u0442\\u0435\\u0440\\u043e\\u0432. \\u0423\\u0431\\u0438\\u043b \\u0412\\u0435\\u0441\\u043a\\u0435\\u0440 \\u0438 \\u041a\\u043b\\u044d\\u0440. \\u041b\\u0438\\u043d\\u0434\\u0435\\u043d \\u00ab\\u0414\\u0436\\u043e\\u043d\\u043d\\u0438 \\u041a\\u0435\\u0439\\u0434\\u0436\\u00bb \\u042d\\u0448\\u0431\\u0438, \\u0442\\u043e\\u0436\\u0435, \\u043d\\u0430 \\u043c\\u043e\\u0439 \\u0432\\u0437\\u0433\\u043b\\u044f\\u0434, \\u043d\\u0438 \\u043a \\u0441\\u0435\\u043b\\u0443, \\u043d\\u0438 \\u043a \\u0433\\u043e\\u0440\\u043e\\u0434\\u0443. \\u0421\\u044e\\u0436\\u0435\\u0442 \\u0432 \\u0446\\u0435\\u043b\\u043e\\u043c - \\u043d\\u0435 \\u0441\\u0430\\u043c\\u044b\\u0439 \\u043e\\u0440\\u0438\\u0433\\u0438\\u043d\\u0430\\u043b\\u044c\\u043d\\u044b\\u0439, \\u043c\\u043e\\u0436\\u043d\\u043e \\u0431\\u044b\\u043b\\u043e \\u0431\\u044b \\u043f\\u0440\\u0438\\u0434\\u0443\\u043c\\u0430\\u0442\\u044c \\u0438 \\u043f\\u043e\\u043b\\u0443\\u0447\\u0448\\u0435. \\u0410 \\u0435\\u0449\\u0435 \\u043b\\u0443\\u0447\\u0448\\u0435 \\u2013 \\u0441\\u0434\\u0435\\u043b\\u0430\\u0442\\u044c \\u0435\\u0433\\u043e \\u043d\\u0430 \\u043e\\u0441\\u043d\\u043e\\u0432\\u0435 \\u043e\\u0434\\u043d\\u043e\\u0439 \\u0438\\u0437 \\u0447\\u0430\\u0441\\u0442\\u0435\\u0439 \\u0438\\u0433\\u0440\\u044b (\\u043d\\u0430\\u043f\\u0440\\u0438\\u043c\\u0435\\u0440, \\u041a\\u043e\\u0434 \\u0412\\u0435\\u0440\\u043e\\u043d\\u0438\\u043a\\u0438), \\u0447\\u0442\\u043e \\u0435\\u0441\\u043b\\u0438 \\u043f\\u043e \\u0447\\u0435\\u0441\\u043d\\u043e\\u043a\\u0443, \\u043d\\u0430\\u0434\\u043e \\u0431\\u044b\\u043b\\u043e \\u0434\\u0435\\u043b\\u0430\\u0442\\u044c, \\u043d\\u0430\\u0447\\u0438\\u043d\\u0430\\u044f \\u0441 \\u043f\\u0435\\u0440\\u0432\\u043e\\u0439 \\u0447\\u0430\\u0441\\u0442\\u0438.\\n\\n\\u0420\\u0435\\u0437\\u044e\\u043c\\u0438\\u0440\\u043e\\u0432\\u0430\\u0442\\u044c, \\u0432\\u0441\\u0435 \\u0432\\u044b\\u0448\\u0435 \\u0441\\u043a\\u0430\\u0437\\u0430\\u043d\\u043d\\u043e\\u0435, \\u0434\\u0443\\u043c\\u0430\\u044e, \\u043e\\u0441\\u043e\\u0431\\u043e\\u0433\\u043e \\u0441\\u043c\\u044b\\u0441\\u043b\\u0430 \\u043d\\u0435\\u0442, \\u043d\\u043e \\u0432\\u0441\\u0435 \\u0436\\u0435, \\u043a\\u043e\\u0440\\u043e\\u0442\\u043a\\u043e \\u0432\\u044b\\u0441\\u043a\\u0430\\u0436\\u0443\\u0441\\u044c. \\u041d\\u0430\\u0441 \\u0436\\u0434\\u0435\\u0442 \\u043d\\u043e\\u0432\\u044b\\u0439 \\u00ab\\u041e\\u0431\\u0438\\u0442\\u0435\\u043b\\u044c \\u0437\\u043b\\u0430\\u00bb. \\u042d\\u0442\\u043e \\u043b\\u043e\\u0433\\u0438\\u0447\\u043d\\u043e \\u0432\\u044b\\u0442\\u0435\\u043a\\u0430\\u0435\\u0442, \\u0438 \\u0438\\u0437 \\u043a\\u043e\\u043d\\u0446\\u043e\\u0432\\u043a\\u0438 RE: E, \\u0438, \\u043f\\u043e \\u0437\\u0430\\u044f\\u0432\\u043b\\u0435\\u043d\\u0438\\u044e \\u0441\\u0430\\u043c\\u0438\\u0445 \\u0441\\u043e\\u0437\\u0434\\u0430\\u0442\\u0435\\u043b\\u0435\\u0439 \\u0444\\u0438\\u043b\\u044c\\u043c\\u0430. \\u0418 \\u0432\\u0435\\u0441\\u044c\\u043c\\u0430 \\u043f\\u0435\\u0447\\u0430\\u043b\\u044c\\u043d\\u043e, \\u0447\\u0442\\u043e \\u043c\\u044b, \\u0444\\u0430\\u043d\\u0430\\u0442\\u044b \\u044d\\u0442\\u043e\\u0439 \\u0432\\u0435\\u043b\\u0438\\u043a\\u043e\\u0439 \\u0438\\u0433\\u0440\\u043e\\u0432\\u043e\\u0439 \\u0441\\u0435\\u0440\\u0438\\u0438, \\u0432 \\u043e\\u0447\\u0435\\u0440\\u0435\\u0434\\u043d\\u043e\\u0439 \\u0440\\u0430\\u0437 \\u043f\\u043e\\u043b\\u0443\\u0447\\u0438\\u043c, \\u0444\\u0438\\u043b\\u044c\\u043c \\u043d\\u0435 \\u043f\\u043e \\u0438\\u0433\\u0440\\u0435 (\\u043d\\u0430\\u0440\\u044f\\u0434\\u0443, \\u0441 \\u0442\\u0440\\u0435\\u0442\\u0435\\u0439 \\u0447\\u0430\\u0441\\u0442\\u044c\\u044e). \\n\\n\\u0418\\u043c\\u0435\\u043d\\u043d\\u043e RE: E, \\u043e\\u043a\\u043e\\u043d\\u0447\\u0430\\u0442\\u0435\\u043b\\u044c\\u043d\\u043e \\u0432\\u0431\\u0438\\u043b\\u0430 \\u043f\\u043e\\u0441\\u043b\\u0435\\u0434\\u043d\\u0438\\u0439 \\u0433\\u0432\\u043e\\u0437\\u0434\\u044c, \\u0432 \\u0433\\u0440\\u043e\\u0431 \\u043a\\u0438\\u043d\\u043e \\u044d\\u043a\\u0440\\u0430\\u043d\\u0438\\u0437\\u0430\\u0446\\u0438\\u0438 \\u0438\\u0433\\u0440\\u043e\\u0432\\u043e\\u0439 \\u0441\\u0435\\u0440\\u0438\\u0438 Resident Evil. \\u0421\\u043f\\u0430\\u0441\\u0442\\u0438 \\u0442\\u0435\\u043f\\u0435\\u0440\\u044c \\u0433-\\u043d\\u0430 \\u0410\\u043d\\u0434\\u0435\\u0440\\u0441\\u043e\\u043d\\u0430, \\u043c\\u043e\\u0436\\u0435\\u0442 \\u0442\\u043e\\u043b\\u044c\\u043a\\u043e \\u043e\\u0434\\u043d\\u043e: \\u0441\\u044a\\u0435\\u043c\\u043a\\u0430 \\u043f\\u043e\\u0431\\u043e\\u0447\\u043d\\u043e\\u0439 \\u0447\\u0430\\u0441\\u0442\\u0438, \\u0441\\u043a\\u0430\\u0436\\u0435\\u043c, \\u043f\\u043e \\u043c\\u043e\\u0442\\u0438\\u0432\\u0430\\u043c RE4, \\u043d\\u043e \\u0442\\u043e\\u043b\\u044c\\u043a\\u043e \\u043f\\u043e \\u0441\\u044e\\u0436\\u0435\\u0442\\u0443 \\u0438\\u0433\\u0440\\u044b, \\u0431\\u0435\\u0437 \\u0432\\u0441\\u044f\\u043a\\u0438\\u0445 \\u042d\\u043b\\u043b\\u0438\\u0441 \\u0438 \\u043f\\u0440\\u043e\\u0447\\u0435\\u0439 \\u043f\\u0440\\u0438\\u0431\\u043b\\u0443\\u0434\\u044b. \\u041d\\u043e \\u0440\\u0430\\u0437\\u0432\\u0435, \\u043e\\u0442 \\u043d\\u0435\\u0433\\u043e \\u0434\\u043e\\u0436\\u0434\\u0435\\u0448\\u044c\\u0441\\u044f\\u2026\\n\\n6 \\u0438\\u0437 10 \\u0438 \\u0442\\u043e \\u0441 \\u043d\\u0430\\u0442\\u044f\\u0436\\u043a\\u043e\\u0439.\"\n        ],\n        \"semantic_type\": \"\",\n        \"description\": \"\"\n      }\n    },\n    {\n      \"column\": \"sentiment\",\n      \"properties\": {\n        \"dtype\": \"category\",\n        \"num_unique_values\": 3,\n        \"samples\": [\n          \"pos\",\n          \"neu\",\n          \"neg\"\n        ],\n        \"semantic_type\": \"\",\n        \"description\": \"\"\n      }\n    }\n  ]\n}"
            }
          },
          "metadata": {},
          "execution_count": 7
        }
      ]
    },
    {
      "cell_type": "markdown",
      "metadata": {
        "id": "ZEcnaAjAOlI7"
      },
      "source": [
        "Проблемой является тот момент, что все отзывы расположены подряд идущими блоками с одинаковой эмоциональной окраской. Перемешаем данные."
      ]
    },
    {
      "cell_type": "code",
      "metadata": {
        "id": "PSoVO7epsBvx"
      },
      "source": [
        "df = df.sample(frac=1).reset_index(drop=True)"
      ],
      "execution_count": null,
      "outputs": []
    },
    {
      "cell_type": "markdown",
      "metadata": {
        "id": "0-u7F10QO8rI"
      },
      "source": [
        "Проверим, привели ли наши действия к желаемому результату."
      ]
    },
    {
      "cell_type": "code",
      "metadata": {
        "colab": {
          "base_uri": "https://localhost:8080/",
          "height": 363
        },
        "id": "gh3-SUzKsXIn",
        "outputId": "4c39ed7d-eae5-48fe-d0bd-62b76e10776b"
      },
      "source": [
        "df.head(10)"
      ],
      "execution_count": null,
      "outputs": [
        {
          "output_type": "execute_result",
          "data": {
            "text/plain": [
              "                                              review sentiment\n",
              "0  Великолепный фильм. Сочетание замечательных ак...       pos\n",
              "1  В основу фильма положена повесть питерского пи...       neu\n",
              "2  Незадолго до премьеры картину и режиссера стал...       neg\n",
              "3  Этот фильм, вопреки жанру 0+, снимался явно не...       neg\n",
              "4  Этот фильм просто великолепен! Я получила огро...       pos\n",
              "5  Джон МакКлейн на этот раз, прибывает в Москву,...       neg\n",
              "6  Вторую часть искромётной лирической комедии от...       pos\n",
              "7  О фильме 12 Обезьян я как-то случайно узнал, о...       pos\n",
              "8  За последние годы хоррор индустрия радует появ...       neu\n",
              "9  Чарльз Чаплин для меня всегда был «немым комик...       pos"
            ],
            "text/html": [
              "\n",
              "  <div id=\"df-9c933f51-4ca4-4550-bb08-8e0aff2eafb6\" class=\"colab-df-container\">\n",
              "    <div>\n",
              "<style scoped>\n",
              "    .dataframe tbody tr th:only-of-type {\n",
              "        vertical-align: middle;\n",
              "    }\n",
              "\n",
              "    .dataframe tbody tr th {\n",
              "        vertical-align: top;\n",
              "    }\n",
              "\n",
              "    .dataframe thead th {\n",
              "        text-align: right;\n",
              "    }\n",
              "</style>\n",
              "<table border=\"1\" class=\"dataframe\">\n",
              "  <thead>\n",
              "    <tr style=\"text-align: right;\">\n",
              "      <th></th>\n",
              "      <th>review</th>\n",
              "      <th>sentiment</th>\n",
              "    </tr>\n",
              "  </thead>\n",
              "  <tbody>\n",
              "    <tr>\n",
              "      <th>0</th>\n",
              "      <td>Великолепный фильм. Сочетание замечательных ак...</td>\n",
              "      <td>pos</td>\n",
              "    </tr>\n",
              "    <tr>\n",
              "      <th>1</th>\n",
              "      <td>В основу фильма положена повесть питерского пи...</td>\n",
              "      <td>neu</td>\n",
              "    </tr>\n",
              "    <tr>\n",
              "      <th>2</th>\n",
              "      <td>Незадолго до премьеры картину и режиссера стал...</td>\n",
              "      <td>neg</td>\n",
              "    </tr>\n",
              "    <tr>\n",
              "      <th>3</th>\n",
              "      <td>Этот фильм, вопреки жанру 0+, снимался явно не...</td>\n",
              "      <td>neg</td>\n",
              "    </tr>\n",
              "    <tr>\n",
              "      <th>4</th>\n",
              "      <td>Этот фильм просто великолепен! Я получила огро...</td>\n",
              "      <td>pos</td>\n",
              "    </tr>\n",
              "    <tr>\n",
              "      <th>5</th>\n",
              "      <td>Джон МакКлейн на этот раз, прибывает в Москву,...</td>\n",
              "      <td>neg</td>\n",
              "    </tr>\n",
              "    <tr>\n",
              "      <th>6</th>\n",
              "      <td>Вторую часть искромётной лирической комедии от...</td>\n",
              "      <td>pos</td>\n",
              "    </tr>\n",
              "    <tr>\n",
              "      <th>7</th>\n",
              "      <td>О фильме 12 Обезьян я как-то случайно узнал, о...</td>\n",
              "      <td>pos</td>\n",
              "    </tr>\n",
              "    <tr>\n",
              "      <th>8</th>\n",
              "      <td>За последние годы хоррор индустрия радует появ...</td>\n",
              "      <td>neu</td>\n",
              "    </tr>\n",
              "    <tr>\n",
              "      <th>9</th>\n",
              "      <td>Чарльз Чаплин для меня всегда был «немым комик...</td>\n",
              "      <td>pos</td>\n",
              "    </tr>\n",
              "  </tbody>\n",
              "</table>\n",
              "</div>\n",
              "    <div class=\"colab-df-buttons\">\n",
              "\n",
              "  <div class=\"colab-df-container\">\n",
              "    <button class=\"colab-df-convert\" onclick=\"convertToInteractive('df-9c933f51-4ca4-4550-bb08-8e0aff2eafb6')\"\n",
              "            title=\"Convert this dataframe to an interactive table.\"\n",
              "            style=\"display:none;\">\n",
              "\n",
              "  <svg xmlns=\"http://www.w3.org/2000/svg\" height=\"24px\" viewBox=\"0 -960 960 960\">\n",
              "    <path d=\"M120-120v-720h720v720H120Zm60-500h600v-160H180v160Zm220 220h160v-160H400v160Zm0 220h160v-160H400v160ZM180-400h160v-160H180v160Zm440 0h160v-160H620v160ZM180-180h160v-160H180v160Zm440 0h160v-160H620v160Z\"/>\n",
              "  </svg>\n",
              "    </button>\n",
              "\n",
              "  <style>\n",
              "    .colab-df-container {\n",
              "      display:flex;\n",
              "      gap: 12px;\n",
              "    }\n",
              "\n",
              "    .colab-df-convert {\n",
              "      background-color: #E8F0FE;\n",
              "      border: none;\n",
              "      border-radius: 50%;\n",
              "      cursor: pointer;\n",
              "      display: none;\n",
              "      fill: #1967D2;\n",
              "      height: 32px;\n",
              "      padding: 0 0 0 0;\n",
              "      width: 32px;\n",
              "    }\n",
              "\n",
              "    .colab-df-convert:hover {\n",
              "      background-color: #E2EBFA;\n",
              "      box-shadow: 0px 1px 2px rgba(60, 64, 67, 0.3), 0px 1px 3px 1px rgba(60, 64, 67, 0.15);\n",
              "      fill: #174EA6;\n",
              "    }\n",
              "\n",
              "    .colab-df-buttons div {\n",
              "      margin-bottom: 4px;\n",
              "    }\n",
              "\n",
              "    [theme=dark] .colab-df-convert {\n",
              "      background-color: #3B4455;\n",
              "      fill: #D2E3FC;\n",
              "    }\n",
              "\n",
              "    [theme=dark] .colab-df-convert:hover {\n",
              "      background-color: #434B5C;\n",
              "      box-shadow: 0px 1px 3px 1px rgba(0, 0, 0, 0.15);\n",
              "      filter: drop-shadow(0px 1px 2px rgba(0, 0, 0, 0.3));\n",
              "      fill: #FFFFFF;\n",
              "    }\n",
              "  </style>\n",
              "\n",
              "    <script>\n",
              "      const buttonEl =\n",
              "        document.querySelector('#df-9c933f51-4ca4-4550-bb08-8e0aff2eafb6 button.colab-df-convert');\n",
              "      buttonEl.style.display =\n",
              "        google.colab.kernel.accessAllowed ? 'block' : 'none';\n",
              "\n",
              "      async function convertToInteractive(key) {\n",
              "        const element = document.querySelector('#df-9c933f51-4ca4-4550-bb08-8e0aff2eafb6');\n",
              "        const dataTable =\n",
              "          await google.colab.kernel.invokeFunction('convertToInteractive',\n",
              "                                                    [key], {});\n",
              "        if (!dataTable) return;\n",
              "\n",
              "        const docLinkHtml = 'Like what you see? Visit the ' +\n",
              "          '<a target=\"_blank\" href=https://colab.research.google.com/notebooks/data_table.ipynb>data table notebook</a>'\n",
              "          + ' to learn more about interactive tables.';\n",
              "        element.innerHTML = '';\n",
              "        dataTable['output_type'] = 'display_data';\n",
              "        await google.colab.output.renderOutput(dataTable, element);\n",
              "        const docLink = document.createElement('div');\n",
              "        docLink.innerHTML = docLinkHtml;\n",
              "        element.appendChild(docLink);\n",
              "      }\n",
              "    </script>\n",
              "  </div>\n",
              "\n",
              "\n",
              "<div id=\"df-dbdc6659-f28b-41a7-8e4e-b814cbf621da\">\n",
              "  <button class=\"colab-df-quickchart\" onclick=\"quickchart('df-dbdc6659-f28b-41a7-8e4e-b814cbf621da')\"\n",
              "            title=\"Suggest charts\"\n",
              "            style=\"display:none;\">\n",
              "\n",
              "<svg xmlns=\"http://www.w3.org/2000/svg\" height=\"24px\"viewBox=\"0 0 24 24\"\n",
              "     width=\"24px\">\n",
              "    <g>\n",
              "        <path d=\"M19 3H5c-1.1 0-2 .9-2 2v14c0 1.1.9 2 2 2h14c1.1 0 2-.9 2-2V5c0-1.1-.9-2-2-2zM9 17H7v-7h2v7zm4 0h-2V7h2v10zm4 0h-2v-4h2v4z\"/>\n",
              "    </g>\n",
              "</svg>\n",
              "  </button>\n",
              "\n",
              "<style>\n",
              "  .colab-df-quickchart {\n",
              "      --bg-color: #E8F0FE;\n",
              "      --fill-color: #1967D2;\n",
              "      --hover-bg-color: #E2EBFA;\n",
              "      --hover-fill-color: #174EA6;\n",
              "      --disabled-fill-color: #AAA;\n",
              "      --disabled-bg-color: #DDD;\n",
              "  }\n",
              "\n",
              "  [theme=dark] .colab-df-quickchart {\n",
              "      --bg-color: #3B4455;\n",
              "      --fill-color: #D2E3FC;\n",
              "      --hover-bg-color: #434B5C;\n",
              "      --hover-fill-color: #FFFFFF;\n",
              "      --disabled-bg-color: #3B4455;\n",
              "      --disabled-fill-color: #666;\n",
              "  }\n",
              "\n",
              "  .colab-df-quickchart {\n",
              "    background-color: var(--bg-color);\n",
              "    border: none;\n",
              "    border-radius: 50%;\n",
              "    cursor: pointer;\n",
              "    display: none;\n",
              "    fill: var(--fill-color);\n",
              "    height: 32px;\n",
              "    padding: 0;\n",
              "    width: 32px;\n",
              "  }\n",
              "\n",
              "  .colab-df-quickchart:hover {\n",
              "    background-color: var(--hover-bg-color);\n",
              "    box-shadow: 0 1px 2px rgba(60, 64, 67, 0.3), 0 1px 3px 1px rgba(60, 64, 67, 0.15);\n",
              "    fill: var(--button-hover-fill-color);\n",
              "  }\n",
              "\n",
              "  .colab-df-quickchart-complete:disabled,\n",
              "  .colab-df-quickchart-complete:disabled:hover {\n",
              "    background-color: var(--disabled-bg-color);\n",
              "    fill: var(--disabled-fill-color);\n",
              "    box-shadow: none;\n",
              "  }\n",
              "\n",
              "  .colab-df-spinner {\n",
              "    border: 2px solid var(--fill-color);\n",
              "    border-color: transparent;\n",
              "    border-bottom-color: var(--fill-color);\n",
              "    animation:\n",
              "      spin 1s steps(1) infinite;\n",
              "  }\n",
              "\n",
              "  @keyframes spin {\n",
              "    0% {\n",
              "      border-color: transparent;\n",
              "      border-bottom-color: var(--fill-color);\n",
              "      border-left-color: var(--fill-color);\n",
              "    }\n",
              "    20% {\n",
              "      border-color: transparent;\n",
              "      border-left-color: var(--fill-color);\n",
              "      border-top-color: var(--fill-color);\n",
              "    }\n",
              "    30% {\n",
              "      border-color: transparent;\n",
              "      border-left-color: var(--fill-color);\n",
              "      border-top-color: var(--fill-color);\n",
              "      border-right-color: var(--fill-color);\n",
              "    }\n",
              "    40% {\n",
              "      border-color: transparent;\n",
              "      border-right-color: var(--fill-color);\n",
              "      border-top-color: var(--fill-color);\n",
              "    }\n",
              "    60% {\n",
              "      border-color: transparent;\n",
              "      border-right-color: var(--fill-color);\n",
              "    }\n",
              "    80% {\n",
              "      border-color: transparent;\n",
              "      border-right-color: var(--fill-color);\n",
              "      border-bottom-color: var(--fill-color);\n",
              "    }\n",
              "    90% {\n",
              "      border-color: transparent;\n",
              "      border-bottom-color: var(--fill-color);\n",
              "    }\n",
              "  }\n",
              "</style>\n",
              "\n",
              "  <script>\n",
              "    async function quickchart(key) {\n",
              "      const quickchartButtonEl =\n",
              "        document.querySelector('#' + key + ' button');\n",
              "      quickchartButtonEl.disabled = true;  // To prevent multiple clicks.\n",
              "      quickchartButtonEl.classList.add('colab-df-spinner');\n",
              "      try {\n",
              "        const charts = await google.colab.kernel.invokeFunction(\n",
              "            'suggestCharts', [key], {});\n",
              "      } catch (error) {\n",
              "        console.error('Error during call to suggestCharts:', error);\n",
              "      }\n",
              "      quickchartButtonEl.classList.remove('colab-df-spinner');\n",
              "      quickchartButtonEl.classList.add('colab-df-quickchart-complete');\n",
              "    }\n",
              "    (() => {\n",
              "      let quickchartButtonEl =\n",
              "        document.querySelector('#df-dbdc6659-f28b-41a7-8e4e-b814cbf621da button');\n",
              "      quickchartButtonEl.style.display =\n",
              "        google.colab.kernel.accessAllowed ? 'block' : 'none';\n",
              "    })();\n",
              "  </script>\n",
              "</div>\n",
              "    </div>\n",
              "  </div>\n"
            ],
            "application/vnd.google.colaboratory.intrinsic+json": {
              "type": "dataframe",
              "variable_name": "df",
              "summary": "{\n  \"name\": \"df\",\n  \"rows\": 59829,\n  \"fields\": [\n    {\n      \"column\": \"review\",\n      \"properties\": {\n        \"dtype\": \"string\",\n        \"num_unique_values\": 59783,\n        \"samples\": [\n          \"\\u0424\\u0438\\u043b\\u044c\\u043c \\u043f\\u0440\\u043e \\u043a\\u043e\\u043d\\u0435\\u0446 \\u0441\\u0432\\u0435\\u0442\\u0430, \\u043d\\u043e \\u043e\\u0442\\u043b\\u0438\\u0447\\u0430\\u0435\\u0442\\u0441\\u044f \\u043e\\u0442 \\u0435\\u043c\\u0443 \\u043f\\u043e\\u0434\\u043e\\u0431\\u043d\\u044b\\u0445 \\u0442\\u0435\\u043c, \\u0447\\u0442\\u043e \\u0437\\u0434\\u0435\\u0441\\u044c \\u0443\\u043f\\u043e\\u0440 \\u0434\\u0435\\u043b\\u0430\\u0435\\u0442\\u0441\\u044f \\u043d\\u0435 \\u043d\\u0430 \\u0440\\u0430\\u0437\\u0440\\u0443\\u0448\\u0435\\u043d\\u0438\\u044f, \\u0430 \\u043d\\u0430 \\u043f\\u0441\\u0438\\u0445\\u043e\\u043b\\u043e\\u0433\\u0438\\u0447\\u0435\\u0441\\u043a\\u0438\\u0439 \\u0430\\u0441\\u043f\\u0435\\u043a\\u0442. \\u0420\\u0430\\u0441\\u043a\\u0440\\u044b\\u0432\\u0430\\u0435\\u0442\\u0441\\u044f \\u0438\\u0441\\u0442\\u0438\\u043d\\u043d\\u0430\\u044f \\u0443 \\u043a\\u043e\\u0433\\u043e-\\u0442\\u043e \\u0441\\u0443\\u0449\\u043d\\u043e\\u0441\\u0442\\u044c, \\u0430 \\u0443 \\u043a\\u043e\\u0433\\u043e-\\u0442\\u043e - \\u0441\\u0443\\u0427\\u043d\\u043e\\u0441\\u0442\\u044c. \\u041d\\u0435\\u0441\\u043c\\u043e\\u0442\\u0440\\u044f \\u043d\\u0430 \\u0442\\u043e, \\u0441\\u043a\\u043e\\u043b\\u044c\\u043a\\u043e \\u0442\\u0435\\u0431\\u0435 \\u043e\\u0441\\u0442\\u0430\\u043b\\u043e\\u0441\\u044c \\u0438 \\u0447\\u0442\\u043e \\u0442\\u0435\\u0431\\u0435 \\u0434\\u043e\\u0437\\u0432\\u043e\\u043b\\u0435\\u043d\\u043e, \\u043d\\u0443\\u0436\\u043d\\u043e \\u043e\\u0441\\u0442\\u0430\\u0432\\u0430\\u0442\\u044c\\u0441\\u044f \\u0447\\u0435\\u043b\\u043e\\u0432\\u0435\\u043a\\u043e\\u043c - \\u0432\\u043e\\u0442 \\u0447\\u0442\\u043e \\u043f\\u043e\\u043a\\u0430\\u0437\\u044b\\u0432\\u0430\\u0435\\u0442 \\u044d\\u0442\\u043e\\u0442 \\u0444\\u0438\\u043b\\u044c\\u043c.\\n\\n\\u0410 \\u0435\\u0449\\u0451 - \\u0447\\u0442\\u043e \\u0431\\u044b \\u043d\\u0438 \\u0441\\u043b\\u0443\\u0447\\u0438\\u043b\\u043e\\u0441\\u044c, \\u043d\\u0430\\u0434\\u043e \\u0431\\u044b\\u0442\\u044c \\u0440\\u044f\\u0434\\u043e\\u043c \\u0441 \\u043b\\u044e\\u0431\\u0438\\u043c\\u044b\\u043c\\u0438 \\u0438 \\u0440\\u043e\\u0434\\u043d\\u044b\\u043c\\u0438. \\u0418 \\u0443 \\u043d\\u0430\\u0441 \\u0443 \\u0432\\u0441\\u0435\\u0445 \\u0435\\u0441\\u0442\\u044c \\u0443\\u043d\\u0438\\u043a\\u0430\\u043b\\u044c\\u043d\\u0430\\u044f \\u0432\\u043e\\u0437\\u043c\\u043e\\u0436\\u043d\\u043e\\u0441\\u0442\\u044c \\u044d\\u0442\\u043e \\u0441\\u0434\\u0435\\u043b\\u0430\\u0442\\u044c, \\u0438\\u0431\\u043e \\u043c\\u044b, \\u043d\\u0430\\u0434\\u043e \\u043d\\u0430\\u0434\\u0435\\u044f\\u0442\\u044c\\u0441\\u044f, \\u043f\\u0440\\u043e\\u0436\\u0438\\u0432\\u0430\\u0435\\u043c \\u043d\\u0435 \\u0441\\u0432\\u043e\\u0438 \\u043f\\u043e\\u0441\\u043b\\u0435\\u0434\\u043d\\u0438\\u0435 \\u0447\\u0430\\u0441\\u044b, \\u043a\\u0430\\u043a \\u0433\\u0435\\u0440\\u043e\\u0438 \\u0444\\u0438\\u043b\\u044c\\u043c\\u0430.\\n\\n\\u041d\\u0443, \\u0438 \\u0431\\u043e\\u0440\\u043e\\u0442\\u044c\\u0441\\u044f \\u043d\\u0430\\u0434\\u043e \\u0434\\u043e \\u043a\\u043e\\u043d\\u0446\\u0430, \\u043d\\u0435 \\u043e\\u043f\\u0443\\u0441\\u043a\\u0430\\u0442\\u044c \\u0440\\u0443\\u043a\\u0438, \\u043d\\u0435 \\u0441\\u043c\\u0438\\u0440\\u044f\\u0442\\u044c\\u0441\\u044f \\u0441 \\u043e\\u0431\\u0441\\u0442\\u043e\\u044f\\u0442\\u0435\\u043b\\u044c\\u0441\\u0442\\u0432\\u0430\\u043c\\u0438, \\u0434\\u0430\\u0436\\u0435 \\u0435\\u0441\\u043b\\u0438 \\u043d\\u0430\\u0434\\u0435\\u0436\\u0434\\u044b \\u043d\\u0435\\u0442. \\u0424\\u0438\\u043b\\u044c\\u043c \\u0447\\u0435\\u043c-\\u0442\\u043e \\u043d\\u0430\\u043f\\u043e\\u043c\\u043d\\u0438\\u043b '\\u0420\\u043e\\u0432\\u0435\\u0440', \\u043d\\u043e \\u043f\\u043e\\u043d\\u0440\\u0430\\u0432\\u0438\\u043b\\u0441\\u044f \\u0431\\u043e\\u043b\\u044c\\u0448\\u0435. \\u041f\\u043e \\u043a\\u0440\\u0430\\u0439\\u043d\\u0435\\u0439 \\u043c\\u0435\\u0440\\u0435, \\u044d\\u043c\\u043e\\u0446\\u0438\\u0438 \\u0432\\u044b\\u0437\\u044b\\u0432\\u0430\\u0435\\u0442, \\u043f\\u0440\\u0438\\u0447\\u0451\\u043c \\u0445\\u043e\\u0440\\u043e\\u0448\\u0438\\u0435 \\u044d\\u043c\\u043e\\u0446\\u0438\\u0438, \\u043d\\u0435\\u0441\\u043c\\u043e\\u0442\\u0440\\u044f \\u043d\\u0430 \\u0431\\u0435\\u0437\\u044b\\u0441\\u0445\\u043e\\u0434\\u043d\\u043e\\u0441\\u0442\\u044c \\u0441\\u0438\\u0442\\u0443\\u0430\\u0446\\u0438\\u0438.\\n\\n6 \\u0438\\u0437 10\",\n          \"\\u0423 \\u043a\\u0430\\u0436\\u0434\\u043e\\u0433\\u043e \\u0447\\u0435\\u043b\\u043e\\u0432\\u0435\\u043a\\u0430 \\u0432 \\u0436\\u0438\\u0437\\u043d\\u0438 \\u043f\\u0440\\u043e\\u0438\\u0441\\u0445\\u043e\\u0434\\u0438\\u0442 \\u043d\\u0435\\u0447\\u0442\\u043e \\u0442\\u0430\\u043a\\u043e\\u0435, \\u0447\\u0442\\u043e \\u043f\\u0435\\u0440\\u0435\\u0432\\u0435\\u0440\\u043d\\u0435\\u0442 \\u0432\\u0441\\u044e \\u0435\\u0433\\u043e \\u0436\\u0438\\u0437\\u043d\\u044c... \\u0410 \\u043a\\u043e\\u0433\\u0434\\u0430 \\u0442\\u0435\\u0431\\u0435 \\u0442\\u043e\\u043b\\u044c\\u043a\\u043e 12 \\u043b\\u0435\\u0442 \\u0438 \\u0443 \\u0442\\u0435\\u0431\\u044f \\u043f\\u0440\\u043e\\u0431\\u043b\\u0435\\u043c\\u044b \\u0432 \\u0441\\u0435\\u043c\\u044c\\u0435, \\u0442\\u043e \\u0442\\u0435\\u0431\\u0435 \\u0431\\u0443\\u0434\\u0435\\u0442 \\u0435\\u0449\\u0435 \\u0441\\u043b\\u043e\\u0436\\u043d\\u0435\\u0435 \\u0440\\u0430\\u0437\\u043e\\u0431\\u0440\\u0430\\u0442\\u044c\\u0441\\u044f \\u0432 \\u043f\\u0440\\u043e\\u0438\\u0441\\u0445\\u043e\\u0434\\u044f\\u0449\\u0435\\u043c. \\n\\n\\u0424\\u0438\\u043b\\u044c\\u043c \\u0414\\u0432\\u0435\\u043d\\u0430\\u0434\\u0446\\u0430\\u0442\\u0438\\u043b\\u0435\\u0442\\u043d\\u0438\\u0435 \\u043f\\u043e\\u043a\\u0430\\u0437\\u044b\\u0432\\u0430\\u0435\\u0442 \\u043a\\u0430\\u043a \\u0438\\u0437\\u043c\\u0435\\u043d\\u0438\\u043b\\u0430\\u0441\\u044c \\u0436\\u0438\\u0437\\u043d\\u044c \\u0434\\u043b\\u044f \\u0414\\u0436\\u0435\\u0439\\u043a\\u043e\\u0431\\u0430, \\u041b\\u0435\\u043e\\u043d\\u0430\\u0440\\u0434\\u0430 \\u0438 \\u041c\\u0438\\u043b\\u0438, \\u043a\\u043e\\u0433\\u0434\\u0430 \\u0432 \\u043f\\u043e\\u0436\\u0430\\u0440\\u0435 \\u043f\\u043e\\u0433\\u0438\\u0431\\u0430\\u0435\\u0442 \\u0438\\u0445 \\u0434\\u0440\\u0443\\u0433 \\u0420\\u0443\\u0434\\u0438... \\u0418 \\u043f\\u043e\\u0441\\u043b\\u0435 \\u044d\\u0442\\u043e\\u0433\\u043e \\u0441\\u043b\\u0443\\u0447\\u0430\\u044f \\u043a\\u0430\\u0436\\u0434\\u044b\\u0439 \\u0438\\u0437 \\u0433\\u0435\\u0440\\u043e\\u0435\\u0432 \\u043f\\u044b\\u0442\\u0430\\u0435\\u0442\\u0441\\u044f \\u0441\\u043f\\u0440\\u0430\\u0432\\u043b\\u044f\\u0442\\u044c\\u0441\\u044f \\u0441\\u043e \\u0441\\u0432\\u043e\\u0438\\u043c\\u0438 \\u0441\\u043e\\u0432\\u0441\\u0435\\u043c \\u043d\\u0435 \\u0434\\u0435\\u0442\\u0441\\u043a\\u0438\\u043c\\u0438 \\u043f\\u0440\\u043e\\u0431\\u043b\\u0435\\u043c\\u0430\\u043c\\u0438.\\n\\n\\u0418\\u0441\\u0442\\u043e\\u0440\\u0438\\u044f \\u0414\\u0436\\u0435\\u0439\\u043a\\u043e\\u0431\\u0430 - \\u043e\\u043d \\u043f\\u0435\\u0440\\u0435\\u0436\\u0438\\u0432\\u0430\\u0435\\u0442 \\u0431\\u043e\\u043b\\u044c\\u0448\\u0435 \\u0432\\u0441\\u0435\\u0445, \\u0432\\u0435\\u0434\\u044c \\u0432 \\u043f\\u043e\\u0436\\u0430\\u0440\\u0435 \\u043f\\u043e\\u0433\\u0438\\u0431\\u0430\\u0435\\u0442 \\u0435\\u0433\\u043e \\u0431\\u0440\\u0430\\u0442-\\u0431\\u043b\\u0438\\u0437\\u043d\\u0435\\u0446. \\u041e\\u043d \\u043e\\u0441\\u043e\\u0437\\u043d\\u0430\\u0435\\u0442, \\u0447\\u0442\\u043e \\u0440\\u043e\\u0434\\u0438\\u0442\\u0435\\u043b\\u0438 \\u0432\\u0441\\u0435\\u0433\\u0434\\u0430 \\u043f\\u0440\\u0435\\u0434\\u043f\\u043e\\u0447\\u0438\\u0442\\u0430\\u043b\\u0438 \\u0435\\u0433\\u043e \\u0431\\u0440\\u0430\\u0442\\u0430, \\u0438 \\u043e\\u0449\\u0443\\u0449\\u0430\\u0435\\u0442 \\u043d\\u0435\\u043d\\u0430\\u0432\\u0438\\u0441\\u0442\\u044c \\u043a \\u043f\\u0440\\u0438\\u0447\\u0430\\u0441\\u0442\\u043d\\u044b\\u043c\\u0438 \\u043a \\u043f\\u0440\\u0435\\u0441\\u0442\\u0443\\u043f\\u043b\\u0435\\u043d\\u0438\\u044e.\\n\\n\\u0418\\u0441\\u0442\\u043e\\u0440\\u0438\\u044f \\u041c\\u0438\\u043b\\u043b\\u0438 - \\u0434\\u0435\\u0432\\u043e\\u0447\\u043a\\u0430 \\u0432\\u043f\\u0435\\u0440\\u0432\\u044b\\u0435 \\u0432 \\u0436\\u0438\\u0437\\u043d\\u0438 \\u0432\\u043b\\u044e\\u0431\\u043b\\u044f\\u0435\\u0442\\u0441\\u044f \\u0438 \\u043d\\u0435 \\u0432 \\u043a\\u043e\\u0433\\u043e-\\u0442\\u043e, \\u0430 \\u0432 \\u043f\\u0430\\u0446\\u0438\\u0435\\u043d\\u0442\\u0430 \\u0441\\u0432\\u043e\\u0435\\u0439 \\u043c\\u0430\\u0442\\u0435\\u0440\\u0438. \\u0415\\u0439 \\u043f\\u0440\\u0438\\u0445\\u043e\\u0434\\u0438\\u0442\\u0441\\u044f \\u0441\\u043b\\u043e\\u0436\\u043d\\u0435\\u0435 \\u0432\\u0441\\u0435\\u0433\\u043e - \\u0441 \\u043c\\u0430\\u0442\\u0435\\u0440\\u044c\\u044e \\u0443 \\u043d\\u0435\\u0435 \\u043d\\u0430\\u0442\\u044f\\u043d\\u0443\\u0442\\u044b\\u0435 \\u043e\\u0442\\u043d\\u043e\\u0448\\u0435\\u043d\\u0438\\u044f, \\u0430 \\u043e\\u0442\\u0435\\u0446 \\u043d\\u0435 \\u0445\\u043e\\u0447\\u0435\\u0442 \\u0435\\u0435 \\u0432\\u0438\\u0434\\u0435\\u0442\\u044c...\\n\\n\\u0418\\u0441\\u0442\\u043e\\u0440\\u0438\\u044f \\u041b\\u0435\\u043e\\u043d\\u0430\\u0440\\u0434\\u0430 - \\u043e\\u043d \\u0442\\u0430\\u043a\\u0436\\u0435 \\u043f\\u043e\\u0441\\u0442\\u0440\\u0430\\u0434\\u0430\\u043b \\u043f\\u0440\\u0438 \\u043f\\u043e\\u0436\\u0430\\u0440\\u0435 \\u0438 \\u0443 \\u043d\\u0435\\u0433\\u043e \\u043f\\u0440\\u043e\\u043f\\u0430\\u043b \\u0432\\u043a\\u0443\\u0441. \\u0410 \\u0435\\u0449\\u0435 \\u043f\\u0430\\u0440\\u0435\\u043d\\u044c \\u043e\\u0441\\u043e\\u0437\\u043d\\u0430\\u0435\\u0442, \\u0447\\u0442\\u043e \\u043e\\u043d \\u0432\\u0435\\u0434\\u0435\\u0442 \\u043d\\u0435\\u043f\\u0440\\u0430\\u0432\\u0438\\u043b\\u044c\\u043d\\u044b\\u0439 \\u043e\\u0431\\u0440\\u0430\\u0437 \\u0436\\u0438\\u0437\\u043d\\u0438 \\u0438 \\u043d\\u0430\\u0447\\u0438\\u043d\\u0430\\u0435\\u0442 \\u0430\\u043a\\u0442\\u0438\\u0432\\u043d\\u043e \\u0431\\u043e\\u0440\\u043e\\u0442\\u044c\\u0441\\u044f \\u0441 \\u043b\\u0438\\u0448\\u043d\\u0438\\u043c \\u0432\\u0435\\u0441\\u043e\\u043c, \\u043f\\u044b\\u0442\\u0430\\u044f\\u0441\\u044c \\u043f\\u043e\\u043f\\u0443\\u0442\\u043d\\u043e \\u043f\\u0440\\u0438\\u0432\\u043b\\u0435\\u0447\\u044c \\u0432\\u0441\\u044e \\u0441\\u0432\\u043e\\u044e \\u0441\\u0435\\u043c\\u044c\\u044e.\\n\\n\\u0418\\u0441\\u0442\\u043e\\u0440\\u0438\\u044f \\u0413\\u0430\\u0441\\u0430 - \\u043e\\u0434\\u0438\\u043d\\u043e\\u043a\\u0438\\u0439 \\u043c\\u0443\\u0436\\u0447\\u0438\\u043d\\u0430, \\u0440\\u0430\\u0431\\u043e\\u0442\\u0430\\u0435\\u0442 \\u043d\\u0430 \\u0441\\u0442\\u0440\\u043e\\u0439\\u043a\\u0435 \\u0438 \\u043f\\u043e\\u0441\\u0442\\u043e\\u044f\\u043d\\u043d\\u043e \\u043f\\u043e\\u0441\\u0435\\u0449\\u0430\\u0435\\u0442 \\u043f\\u0441\\u0438\\u0445\\u043e\\u043b\\u043e\\u0433\\u0430. \\u0415\\u0433\\u043e \\u043f\\u043e\\u0441\\u0442\\u043e\\u044f\\u043d\\u043d\\u043e \\u043c\\u0443\\u0447\\u0430\\u044e\\u0442 \\u043a\\u043e\\u0448\\u043c\\u0430\\u0440\\u044b, \\u043f\\u0440\\u0438\\u0447\\u0438\\u043d\\u0443 \\u043a\\u043e\\u0442\\u043e\\u0440\\u044b\\u0445 \\u043c\\u044b \\u0443\\u0437\\u043d\\u0430\\u0435\\u043c \\u0442\\u043e\\u043b\\u044c\\u043a\\u043e \\u0432 \\u043a\\u043e\\u043d\\u0446\\u0435 \\u0444\\u0438\\u043b\\u044c\\u043c\\u0430.\\n\\n\\u041a \\u0430\\u043a\\u0442\\u0435\\u0440\\u0430\\u043c \\u0443 \\u043c\\u0435\\u043d\\u044f \\u043d\\u0435\\u0442 \\u043d\\u0438\\u043a\\u0430\\u043a\\u0438\\u0445 \\u043d\\u0430\\u0440\\u0435\\u043a\\u0430\\u043d\\u0438\\u0439 - \\u044e\\u043d\\u044b\\u0435 \\u0430\\u043a\\u0442\\u0435\\u0440\\u044b \\u0438 \\u0430\\u043a\\u0442\\u0440\\u0438\\u0441\\u044b \\u0438\\u0433\\u0440\\u0430\\u044e\\u0442 \\u0442\\u0430\\u043a \\u044d\\u043c\\u043e\\u0446\\u0438\\u043e\\u043d\\u0430\\u043b\\u044c\\u043d\\u043e, \\u0442\\u0430\\u043a \\u043f\\u0440\\u043e\\u0444\\u0435\\u0441\\u0441\\u0438\\u043e\\u043d\\u0430\\u043b\\u044c\\u043d\\u043e, \\u043a\\u0430\\u043a \\u043d\\u0435 \\u043c\\u043e\\u0433\\u0443\\u0442 \\u0441\\u044b\\u0433\\u0440\\u0430\\u0442\\u044c \\u043d\\u0435\\u043a\\u043e\\u0442\\u043e\\u0440\\u044b\\u0435 \\u0441\\u043e\\u0432\\u0440\\u0435\\u043c\\u0435\\u043d\\u043d\\u044b\\u0435 \\u0430\\u043a\\u0442\\u0435\\u0440\\u044b. \\u041e\\u0441\\u043e\\u0431\\u0435\\u043d\\u043d\\u043e \\u043c\\u043d\\u0435 \\u0437\\u0430\\u043f\\u043e\\u043c\\u043d\\u0438\\u043b\\u0441\\u044f \\u041b\\u0435\\u043e\\u043d\\u0430\\u0440\\u0434 (\\u0414\\u0436\\u0435\\u0441\\u0441\\u0438 \\u041a\\u0430\\u043c\\u0430\\u0447\\u043e) - \\u043c\\u043e\\u0436\\u043d\\u043e \\u043f\\u043e\\u0437\\u0430\\u0432\\u0438\\u0434\\u043e\\u0432\\u0430\\u0442\\u044c \\u0435\\u0433\\u043e \\u0441\\u0438\\u043b\\u0435 \\u0432\\u043e\\u043b\\u0438, \\u0432\\u044b\\u0434\\u0435\\u0440\\u0436\\u043a\\u0435 \\u0438 \\u0438\\u0437\\u043e\\u0431\\u0440\\u0435\\u0442\\u0430\\u0442\\u0435\\u043b\\u044c\\u043d\\u043e\\u0441\\u0442\\u0438. \\u0410 \\u0414\\u0436\\u0435\\u0440\\u0435\\u043c\\u0438 \\u0420\\u0435\\u043d\\u043d\\u0435\\u0440 - \\u0432\\u043e\\u0442 \\u0443\\u043c\\u0435\\u0435\\u0442 \\u043e\\u043d \\u0441\\u043e\\u0437\\u0434\\u0430\\u0442\\u044c \\u043e\\u0447\\u0435\\u043d\\u044c \\u0441\\u043b\\u043e\\u0436\\u043d\\u044b\\u0439 \\u0445\\u0430\\u0440\\u0430\\u043a\\u0442\\u0435\\u0440, \\u0432 \\u0440\\u0435\\u0430\\u043b\\u044c\\u043d\\u043e\\u0441\\u0442\\u044c \\u043a\\u043e\\u0442\\u043e\\u0440\\u043e\\u0433\\u043e \\u0441\\u043b\\u043e\\u0436\\u043d\\u043e \\u043d\\u0435 \\u043f\\u043e\\u0432\\u0435\\u0440\\u0438\\u0442\\u044c. \\u0410 \\u0441\\u0446\\u0435\\u043d\\u0430, \\u0433\\u0434\\u0435 \\u0435\\u0433\\u043e \\u0442\\u0435\\u0440\\u0437\\u0430\\u044e\\u0442 \\u0447\\u0443\\u0432\\u0441\\u0442\\u0432\\u043e \\u0432\\u0438\\u043d\\u044b \\u0438 \\u0441\\u043b\\u0435\\u0437\\u044b - \\u043e\\u0434\\u043d\\u0430 \\u0438\\u0437 \\u0441\\u0430\\u043c\\u044b\\u0445 \\u044f\\u0440\\u043a\\u0438\\u0445 \\u0432 \\u0444\\u0438\\u043b\\u044c\\u043c\\u0435.\\n\\n\\u0424\\u0438\\u043b\\u044c\\u043c \\u043d\\u0435 \\u0440\\u0430\\u0441\\u0447\\u0438\\u0442\\u0430\\u043d \\u043d\\u0430 \\u0448\\u0438\\u0440\\u043e\\u043a\\u0443\\u044e \\u0430\\u0443\\u0434\\u0438\\u0442\\u043e\\u0440\\u0438\\u044e. \\u041e\\u043d \\u043d\\u0435 \\u043a\\u0430\\u0436\\u0434\\u043e\\u043c\\u0443 \\u043c\\u043e\\u0436\\u0435\\u0442 \\u043f\\u043e\\u043d\\u0440\\u0430\\u0432\\u0438\\u0442\\u044c\\u0441\\u044f. \\u041d\\u043e \\u0435\\u0441\\u043b\\u0438 \\u0432\\u044b \\u0435\\u0433\\u043e \\u0441\\u043c\\u043e\\u0442\\u0440\\u0438\\u0442\\u0435, \\u0442\\u043e \\u044f \\u0443\\u0432\\u0435\\u0440\\u0435\\u043d\\u0430 \\u043c\\u043e\\u0436\\u043d\\u043e \\u043a\\u043e\\u0435-\\u0447\\u0442\\u043e \\u0432\\u044b\\u044f\\u0441\\u043d\\u0438\\u0442\\u044c - \\u043d\\u0430\\u043f\\u0440\\u0438\\u043c\\u0435\\u0440, \\u043a\\u0430\\u043a \\u043f\\u043e\\u043c\\u043e\\u0447\\u044c \\u0434\\u0435\\u0442\\u044f\\u043c \\u0441\\u043f\\u0440\\u0430\\u0432\\u0438\\u0442\\u044c\\u0441\\u044f \\u0441\\u043e \\u0441\\u0432\\u043e\\u0438\\u043c\\u0438 \\u043f\\u0440\\u043e\\u0431\\u043b\\u0435\\u043c\\u0430\\u043c\\u0438 \\u0438\\u043b\\u0438 \\u0440\\u0430\\u0437\\u043e\\u0431\\u0440\\u0430\\u0442\\u044c\\u0441\\u044f \\u0432 \\u0441\\u0432\\u043e\\u0438\\u0445...\",\n          \"\\u0421\\u0435\\u0433\\u043e\\u0434\\u043d\\u044f \\u0432\\u0430\\u0448\\u0435\\u043c\\u0443 \\u0432\\u0437\\u043e\\u0440\\u0443 \\u043f\\u0440\\u0435\\u0434\\u0441\\u0442\\u0430\\u043d\\u0435\\u0442 \\u0437\\u0430\\u043f\\u043e\\u0437\\u0434\\u0430\\u043b\\u0430\\u044f \\u0440\\u0435\\u0446\\u0435\\u043d\\u0437\\u0438\\u044f \\u043d\\u0430 \\u0438\\u0437\\u0432\\u0435\\u0441\\u0442\\u043d\\u044b\\u0439 \\u0444\\u0438\\u043b\\u044c\\u043c \\u043f\\u043e \\u0432\\u0441\\u0435\\u043b\\u0435\\u043d\\u043d\\u043e\\u0439 '\\u0413\\u0430\\u0440\\u0440\\u0438 \\u041f\\u043e\\u0442\\u0442\\u0435\\u0440\\u0430', \\u043f\\u0440\\u043e\\u0441\\u043c\\u043e\\u0442\\u0440\\u0435\\u043d\\u043d\\u044b\\u0439 \\u0430\\u0432\\u0442\\u043e\\u0440\\u043e\\u043c \\u0435\\u0449\\u0435 \\u0432 \\u0434\\u0435\\u043d\\u044c \\u043f\\u0440\\u0435\\u043c\\u044c\\u0435\\u0440\\u044b \\u0432 IMAX. \\u0421\\u043e\\u0432\\u0435\\u0442\\u0443\\u044e \\u0432\\u0441\\u0435\\u043c \\u043f\\u043e \\u0432\\u043e\\u0437\\u043c\\u043e\\u0436\\u043d\\u043e\\u0441\\u0442\\u0438 \\u0441\\u043c\\u043e\\u0442\\u0440\\u0435\\u0442\\u044c \\u043a\\u0438\\u043d\\u043e \\u0438\\u043c\\u0435\\u043d\\u043d\\u043e \\u0432 \\u044d\\u0442\\u043e\\u043c \\u0444\\u043e\\u0440\\u043c\\u0430\\u0442\\u0435, \\u0442. \\u043a. \\u0432\\u0438\\u0437\\u0443\\u0430\\u043b\\u044c\\u043d\\u044b\\u0435 \\u044d\\u0444\\u0444\\u0435\\u043a\\u0442\\u044b \\u043f\\u043e\\u0437\\u0432\\u043e\\u043b\\u044f\\u044e\\u0442 \\u043f\\u043e-\\u043d\\u0430\\u0441\\u0442\\u043e\\u044f\\u0449\\u0435\\u043c\\u0443 \\u043e\\u0446\\u0435\\u043d\\u0438\\u0442\\u044c \\u043f\\u0440\\u043e\\u0433\\u0440\\u0435\\u0441\\u0441 \\u0432 \\u043e\\u0431\\u043b\\u0430\\u0441\\u0442\\u0438 \\u0433\\u0440\\u0430\\u0444\\u0438\\u043a\\u0438 \\u0438 \\u0430\\u043d\\u0438\\u043c\\u0430\\u0446\\u0438\\u0438.\\n\\n\\u0421\\u044e\\u0436\\u0435\\u0442. \\u0418\\u0441\\u0442\\u043e\\u0440\\u0438\\u044f \\u0440\\u0430\\u0441\\u0441\\u043a\\u0430\\u0436\\u0435\\u0442 \\u043e \\u043f\\u0440\\u0438\\u043a\\u043b\\u044e\\u0447\\u0435\\u043d\\u0438\\u044f\\u0445 \\u043c\\u0430\\u0433\\u043e\\u0437\\u043e\\u043e\\u043b\\u043e\\u0433\\u0430 \\u041d\\u044c\\u044e\\u0442\\u0430 \\u0421\\u0430\\u043b\\u0430\\u043c\\u0430\\u043d\\u0434\\u0435\\u0440\\u0430 \\u0432 \\u041d\\u044c\\u044e-\\u0419\\u043e\\u0440\\u043a\\u0435. \\u0423\\u0447\\u0435\\u043d\\u044b\\u0439 \\u043f\\u043b\\u0430\\u043d\\u0438\\u0440\\u043e\\u0432\\u0430\\u043b \\u043f\\u0440\\u043e\\u0431\\u044b\\u0442\\u044c \\u0437\\u0434\\u0435\\u0441\\u044c \\u0441\\u043e\\u0432\\u0441\\u0435\\u043c \\u043d\\u0435\\u0434\\u043e\\u043b\\u0433\\u043e, \\u043d\\u043e \\u0438\\u0437-\\u0437\\u0430 \\u043d\\u0435\\u043f\\u0440\\u0435\\u0434\\u0432\\u0438\\u0434\\u0435\\u043d\\u043d\\u044b\\u0445 \\u043e\\u0431\\u0441\\u0442\\u043e\\u044f\\u0442\\u0435\\u043b\\u044c\\u0441\\u0442\\u0432 \\u0435\\u043c\\u0443 \\u043f\\u0440\\u0438\\u0445\\u043e\\u0434\\u0438\\u0442\\u0441\\u044f \\u0437\\u0430\\u0434\\u0435\\u0440\\u0436\\u0430\\u0442\\u044c\\u0441\\u044f...\\n\\n\\u041d\\u0435 \\u043c\\u043e\\u0433\\u0443 \\u0441\\u043a\\u0430\\u0437\\u0430\\u0442\\u044c, \\u0447\\u0442\\u043e \\u0430\\u0432\\u0442\\u043e\\u0440\\u044b \\u043f\\u043e\\u0440\\u0430\\u0434\\u0443\\u044e\\u0442 \\u043d\\u0430\\u0441 \\u043b\\u0438\\u0445\\u043e \\u0437\\u0430\\u043a\\u0440\\u0443\\u0447\\u0435\\u043d\\u043d\\u044b\\u043c \\u0441\\u044e\\u0436\\u0435\\u0442\\u043e\\u043c, \\u043d\\u043e \\u0438\\u0441\\u0442\\u043e\\u0440\\u0438\\u044f \\u043f\\u043e\\u043b\\u0443\\u0447\\u0438\\u043b\\u0430\\u0441\\u044c \\u0437\\u0430\\u0431\\u0430\\u0432\\u043d\\u043e\\u0439 \\u0438 \\u043d\\u0435\\u0441\\u043a\\u043e\\u043b\\u044c\\u043a\\u043e \\u043a\\u0443\\u0440\\u044c\\u0435\\u0437\\u043d\\u043e\\u0439. \\u041f\\u043e\\u0441\\u043b\\u0435 \\u0441\\u0435\\u0440\\u0435\\u0434\\u0438\\u043d\\u044b \\u043b\\u0435\\u043d\\u0442\\u044b \\u0436\\u0434\\u0438\\u0442\\u0435 \\u0436\\u0433\\u0443\\u0447\\u0438\\u0439 \\u044d\\u043a\\u0448\\u0435\\u043d \\u0438 \\u043c\\u043d\\u043e\\u0436\\u0435\\u0441\\u0442\\u0432\\u043e \\u0434\\u0443\\u044d\\u043b\\u0435\\u0439 \\u043d\\u0430 \\u043f\\u0430\\u043b\\u043e\\u0447\\u043a\\u0430\\u0445. \\u041a\\u043e\\u043d\\u0446\\u043e\\u0432\\u043a\\u0430 \\u0442\\u043e\\u0436\\u0435 \\u043f\\u043e\\u0434\\u043a\\u0438\\u0434\\u044b\\u0432\\u0430\\u0435\\u0442 \\u0432\\u0435\\u0441\\u044c\\u043c\\u0430 \\u043d\\u0435\\u043e\\u0436\\u0438\\u0434\\u0430\\u043d\\u043d\\u044b\\u0439 \\u0444\\u0438\\u043d\\u0430\\u043b, \\u043d\\u0430\\u043c\\u0435\\u043a\\u0430\\u044e\\u0449\\u0438\\u0439 \\u043d\\u0430 \\u043f\\u0440\\u043e\\u0434\\u043e\\u043b\\u0436\\u0435\\u043d\\u0438\\u0435. \\u0422\\u0430\\u043a\\u0436\\u0435 \\u043f\\u043e \\u043c\\u0435\\u0440\\u0435 \\u043f\\u0440\\u043e\\u0434\\u0432\\u0438\\u0436\\u0435\\u043d\\u0438\\u044f \\u0441\\u044e\\u0436\\u0435\\u0442\\u0430 \\u043c\\u044b \\u043f\\u043e\\u043b\\u0443\\u0447\\u0430\\u0435\\u043c \\u0434\\u0435\\u0442\\u0430\\u043b\\u044c\\u043d\\u0443\\u044e \\u0438\\u043d\\u0444\\u043e\\u0440\\u043c\\u0430\\u0446\\u0438\\u044e \\u043e \\u0441\\u043a\\u0432\\u0438\\u0431\\u0430\\u0445 \\u0438 \\u043e\\u0431\\u0441\\u043a\\u0443\\u0440\\u0430\\u0445.\\n\\n\\u0416\\u0430\\u043b\\u044c \\u0442\\u043e\\u043b\\u044c\\u043a\\u043e, \\u0447\\u0442\\u043e \\u0438\\u043d\\u043e\\u0433\\u0434\\u0430 \\u043c\\u0430\\u0441\\u0448\\u0442\\u0430\\u0431\\u044b \\u0442\\u0432\\u043e\\u0440\\u044f\\u0449\\u0435\\u0433\\u043e\\u0441\\u044f \\u0445\\u0430\\u043e\\u0441\\u0430 \\u0432\\u043e\\u043a\\u0440\\u0443\\u0433 \\u043f\\u0435\\u0440\\u0435\\u0441\\u0442\\u0443\\u043f\\u0430\\u0435\\u0442 \\u0432\\u0441\\u0435 \\u043c\\u044b\\u0441\\u043b\\u0438\\u043c\\u044b\\u0435 \\u0438 \\u043d\\u0435\\u043c\\u044b\\u0441\\u043b\\u0438\\u043c\\u044b\\u0435 \\u0433\\u0440\\u0430\\u043d\\u0438\\u0446\\u044b. \\u0421 \\u0442\\u0440\\u0443\\u0434\\u043e\\u043c \\u0432\\u0435\\u0440\\u0438\\u0442\\u0441\\u044f, \\u0447\\u0442\\u043e \\u043d\\u0438 \\u043e\\u0434\\u0438\\u043d \\u0438\\u0437 \\u043d\\u0435-\\u043c\\u0430\\u0433\\u043e\\u0432 \\u043d\\u0435 \\u0441\\u043c\\u043e\\u0433 \\u0437\\u0430\\u043f\\u043e\\u043c\\u043d\\u0438\\u0442\\u044c \\u0443\\u0432\\u0438\\u0434\\u0435\\u043d\\u043d\\u0443\\u044e \\u043c\\u0430\\u0433\\u0438\\u044e \\u0438\\u043b\\u0438 \\u0443\\u043a\\u0440\\u044b\\u0442\\u044c\\u0441\\u044f/\\u0441\\u0431\\u0435\\u0436\\u0430\\u0442\\u044c \\u043e\\u0442 \\u0437\\u0430\\u0431\\u0432\\u0435\\u043d\\u0438\\u044f. \\n\\n\\u0410\\u0442\\u043c\\u043e\\u0441\\u0444\\u0435\\u0440\\u0430. \\u0411\\u0435\\u0437\\u0443\\u0441\\u043b\\u043e\\u0432\\u043d\\u043e, \\u0434\\u043e\\u0432\\u043e\\u043b\\u044c\\u043d\\u043e \\u0431\\u043e\\u043b\\u044c\\u0448\\u043e\\u0439 \\u043e\\u0442\\u0440\\u0435\\u0437\\u043e\\u043a \\u043a\\u0430\\u0440\\u0442\\u0438\\u043d\\u044b \\u043f\\u043e\\u0441\\u0432\\u044f\\u0449\\u0430\\u0435\\u0442\\u0441\\u044f \\u043d\\u0435\\u043e\\u0431\\u044b\\u0447\\u043d\\u044b\\u043c \\u0436\\u0438\\u0432\\u043e\\u0442\\u043d\\u044b\\u043c, \\u0437\\u0430 \\u043a\\u043e\\u0442\\u043e\\u0440\\u044b\\u043c\\u0438 \\u0443\\u0445\\u0430\\u0436\\u0438\\u0432\\u0430\\u0435\\u0442 \\u0433\\u043b\\u0430\\u0432\\u043d\\u044b\\u0439 \\u0433\\u0435\\u0440\\u043e\\u0439. \\u041c\\u043e\\u0434\\u0435\\u043b\\u0438 \\u0441\\u0443\\u0449\\u0435\\u0441\\u0442\\u0432 \\u043f\\u0440\\u043e\\u0440\\u0430\\u0431\\u043e\\u0442\\u0430\\u043d\\u044b \\u0441 \\u043e\\u0441\\u043e\\u0431\\u044b\\u043c \\u0432\\u043d\\u0438\\u043c\\u0430\\u043d\\u0438\\u0435\\u043c \\u043a \\u0434\\u0435\\u0442\\u0430\\u043b\\u044f\\u043c. \\u041e\\u0441\\u043e\\u0431\\u0435\\u043d\\u043d\\u043e \\u0437\\u0430\\u043f\\u043e\\u043c\\u0438\\u043d\\u0430\\u0435\\u0442\\u0441\\u044f \\u043d\\u044e\\u0445\\u043b\\u0435\\u0440 \\u0441 \\u0435\\u0433\\u043e \\u0442\\u044f\\u0433\\u043e\\u0439 \\u043a\\u043e \\u0432\\u0441\\u0435\\u043c\\u0443 \\u0431\\u043b\\u0435\\u0441\\u0442\\u044f\\u0449\\u0435\\u043c\\u0443. \\u0421\\u0446\\u0435\\u043d\\u0430 \\u0441 \\u0435\\u0433\\u043e \\u0443\\u0447\\u0430\\u0441\\u0442\\u0438\\u0435\\u043c - \\u043e\\u0442\\u0434\\u0435\\u043b\\u044c\\u043d\\u043e\\u0435 \\u0443\\u0434\\u043e\\u0432\\u043e\\u043b\\u044c\\u0441\\u0442\\u0432\\u0438\\u0435. \\u0412\\u043e\\u043e\\u0431\\u0449\\u0435 \\u043c\\u043e\\u0434\\u0435\\u043b\\u0438 \\u0436\\u0438\\u0432\\u043e\\u0442\\u043d\\u044b\\u0445 \\u0437\\u0434\\u0435\\u0441\\u044c \\u043d\\u0435\\u043e\\u0431\\u044b\\u0447\\u0430\\u0439\\u043d\\u043e \\u043a\\u0440\\u0430\\u0441\\u0438\\u0432\\u044b\\u0435, \\u043a\\u043e\\u0441\\u0442\\u044e\\u043c\\u044b - \\u0441\\u0442\\u0438\\u043b\\u044c\\u043d\\u044b\\u0435 (\\u0441\\u043f\\u0440\\u0430\\u0432\\u0435\\u0434\\u043b\\u0438\\u0432\\u044b\\u0439 '\\u041e\\u0441\\u043a\\u0430\\u0440'), \\u0430 \\u0438\\u0433\\u0440\\u0430 \\u0430\\u043a\\u0442\\u0435\\u0440\\u043e\\u0432 - \\u0432\\u044b\\u0440\\u0430\\u0437\\u0438\\u0442\\u0435\\u043b\\u044c\\u043d\\u0430\\u044f. \\u042d\\u0434\\u0434\\u0438 \\u0420\\u0435\\u0434\\u043c\\u044d\\u0439\\u043d \\u0431\\u043b\\u0435\\u0441\\u0442\\u044f\\u0449\\u0435 \\u0432\\u043f\\u0438\\u0441\\u0430\\u043b\\u0441\\u044f \\u0432 \\u0440\\u043e\\u043b\\u044c \\u043c\\u0430\\u0433\\u043e\\u0437\\u043e\\u043e\\u043b\\u043e\\u0433\\u0430 \\u0441\\u043e \\u0441\\u0432\\u043e\\u0438\\u043c\\u0438 \\u0441\\u0442\\u0440\\u0430\\u043d\\u043d\\u043e\\u0441\\u0442\\u044f\\u043c\\u0438. \\u0414\\u044d\\u043d \\u0424\\u043e\\u0433\\u043b\\u0435\\u0440 (\\u041a\\u043e\\u0432\\u0430\\u043b\\u044c\\u0441\\u043a\\u0438) \\u0438 \\u041a\\u044d\\u0442\\u0440\\u0438\\u043d \\u0423\\u043e\\u0442\\u0435\\u0440\\u0441\\u0442\\u043e\\u043d (\\u0422\\u0438\\u043d\\u0430 \\u0413\\u043e\\u043b\\u0434\\u0448\\u0442\\u0435\\u0439\\u043d) - \\u043a\\u043b\\u0430\\u0441\\u0441\\u043d\\u044b\\u0435 \\u0430\\u043a\\u0442\\u0435\\u0440\\u044b, \\u043c\\u043d\\u0435 \\u0437\\u0430\\u043f\\u043e\\u043c\\u043d\\u0438\\u043b\\u0430\\u0441\\u044c \\u0438\\u0445 \\u0438\\u0433\\u0440\\u0430, \\u0430 \\u0432\\u043e\\u0442 \\u042d\\u043b\\u0438\\u0441\\u043e\\u043d \\u0421\\u0443\\u0434\\u043e\\u043b (\\u041a\\u0443\\u0438\\u043d\\u043d\\u0438 \\u0413\\u043e\\u043b\\u0434\\u0448\\u0442\\u0435\\u0439\\u043d) \\u0440\\u0430\\u0434\\u043e\\u0432\\u0430\\u043b\\u0430 \\u0435\\u0439 \\u0434\\u0430\\u043b\\u0435\\u043a\\u043e \\u043d\\u0435 \\u0432\\u0441\\u0435\\u0433\\u0434\\u0430. \\u0425\\u043e\\u0442\\u0435\\u043b\\u043e\\u0441\\u044c \\u0431\\u044b \\u0432\\u0438\\u0434\\u0435\\u0442\\u044c \\u0435\\u0435 \\u043d\\u0430\\u0442\\u044f\\u043d\\u0443\\u0442\\u0443\\u044e \\u0443\\u043b\\u044b\\u0431\\u043a\\u0443 \\u043c\\u0435\\u043d\\u044c\\u0448\\u0435 80% \\u044d\\u043a\\u0440\\u0430\\u043d\\u043d\\u043e\\u0433\\u043e \\u0432\\u0440\\u0435\\u043c\\u0435\\u043d\\u0438. \\u0421\\u043f\\u0435\\u0446\\u044d\\u0444\\u0444\\u0435\\u043a\\u0442\\u044b \\u0438 \\u043a\\u043e\\u043c\\u043f\\u044c\\u044e\\u0442\\u0435\\u0440\\u043d\\u0430\\u044f \\u0433\\u0440\\u0430\\u0444\\u0438\\u043a\\u0430 \\u043f\\u043e\\u043a\\u0430\\u0437\\u044b\\u0432\\u0430\\u044e\\u0442 \\u0445\\u043e\\u0440\\u043e\\u0448\\u0438\\u0435 \\u0440\\u0435\\u0437\\u0443\\u043b\\u044c\\u0442\\u0430\\u0442\\u044b, \\u0430 \\u043e\\u043f\\u0435\\u0440\\u0430\\u0442\\u043e\\u0440\\u0441\\u043a\\u0430\\u044f \\u0440\\u0430\\u0431\\u043e\\u0442\\u0430 \\u0438\\u043d\\u043e\\u0439 \\u0440\\u0430\\u0437 \\u0432\\u044b\\u0437\\u044b\\u0432\\u0430\\u0435\\u0442 \\u0432\\u043e\\u0441\\u0442\\u043e\\u0440\\u0433.\\n\\n\\u041c\\u0443\\u0437\\u044b\\u043a\\u0430. \\u0417\\u0430 \\u043c\\u0443\\u0437\\u044b\\u043a\\u0443 \\u044f \\u0433\\u043e\\u0442\\u043e\\u0432 \\u043f\\u043e\\u0441\\u0442\\u0430\\u0432\\u0438\\u0442\\u044c \\u043a\\u043e\\u043c\\u043f\\u043e\\u0437\\u0438\\u0442\\u043e\\u0440\\u0443 \\u0414\\u0436\\u0435\\u0439\\u043c\\u0441\\u0443 \\u041d\\u044c\\u044e\\u0442\\u043e\\u043d\\u0443 \\u0425\\u043e\\u0432\\u0430\\u0440\\u0434\\u0443 \\u0442\\u0432\\u0435\\u0440\\u0434\\u0443\\u044e '5'. \\u041f\\u0440\\u043e\\u0434\\u0435\\u043b\\u0430\\u043d\\u0430 \\u0433\\u0438\\u0433\\u0430\\u043d\\u0442\\u0441\\u043a\\u0430\\u044f \\u0440\\u0430\\u0431\\u043e\\u0442\\u0430. \\u041d\\u0435\\u0441\\u043c\\u043e\\u0442\\u0440\\u044f \\u043d\\u0430 \\u0442\\u043e, \\u0447\\u0442\\u043e \\u0432 \\u043c\\u0443\\u0437\\u044b\\u043a\\u0430\\u043b\\u044c\\u043d\\u043e\\u043c \\u0441\\u043e\\u043f\\u0440\\u043e\\u0432\\u043e\\u0436\\u0434\\u0435\\u043d\\u0438\\u0438 \\u043c\\u043e\\u0436\\u043d\\u043e \\u0443\\u0441\\u043c\\u043e\\u0442\\u0440\\u0435\\u0442\\u044c \\u043d\\u043e\\u0441\\u0442\\u0430\\u043b\\u044c\\u0433\\u0438\\u0447\\u0435\\u0441\\u043a\\u0438\\u0435 \\u043d\\u043e\\u0442\\u043a\\u0438, \\u043e\\u043d\\u043e \\u043d\\u0435 \\u043b\\u0438\\u0448\\u0435\\u043d\\u043e \\u0441\\u0430\\u043c\\u043e\\u0431\\u044b\\u0442\\u043d\\u043e\\u0441\\u0442\\u0438 \\u0438 \\u0441\\u043e\\u0431\\u0441\\u0442\\u0432\\u0435\\u043d\\u043d\\u043e\\u0433\\u043e \\u0448\\u0430\\u0440\\u043c\\u0430. \\u0421\\u043b\\u0435\\u0434\\u043e\\u0432\\u0430\\u043b\\u043e \\u0431\\u044b \\u0432\\u044b\\u0434\\u0435\\u043b\\u0438\\u0442\\u044c \\u043d\\u0435\\u0441\\u043a\\u043e\\u043b\\u044c\\u043a\\u043e \\u043b\\u044e\\u0431\\u0438\\u043c\\u044b\\u0445 \\u0442\\u0440\\u044d\\u043a\\u043e\\u0432: 'Main Titles', 'Inside the Case', 'A Man and His Beasts' \\u0438 'End Titles'. \\u0421\\u043b\\u0435\\u0434\\u0443\\u0435\\u0442 \\u0441\\u043a\\u0430\\u0437\\u0430\\u0442\\u044c, \\u0447\\u0442\\u043e \\u043f\\u0440\\u0430\\u043a\\u0442\\u0438\\u0447\\u0435\\u0441\\u043a\\u0438 \\u0432\\u0441\\u0435 \\u043a\\u043e\\u043c\\u043f\\u043e\\u0437\\u0438\\u0446\\u0438\\u0438 \\u043f\\u043e\\u043b\\u0443\\u0447\\u0438\\u043b\\u0438\\u0441\\u044c \\u0443\\u0434\\u0430\\u0447\\u043d\\u044b\\u043c\\u0438.\\n\\n\\u0418\\u0442\\u043e\\u0433. \\u041e\\u0442\\u043b\\u0438\\u0447\\u043d\\u043e\\u0435 \\u043a\\u0438\\u043d\\u043e, \\u043f\\u0440\\u043e\\u0434\\u043e\\u043b\\u0436\\u0430\\u044e\\u0449\\u0435\\u0435 \\u0442\\u0435\\u043c\\u0443 \\u0432\\u043e\\u043b\\u0448\\u0435\\u0431\\u043d\\u043e\\u0433\\u043e \\u043c\\u0438\\u0440\\u0430 \\u0438 \\u0434\\u0430\\u0440\\u044f\\u0449\\u0435\\u0435 \\u043e\\u0442\\u043b\\u0438\\u0447\\u043d\\u0443\\u044e \\u0432\\u043e\\u0437\\u043c\\u043e\\u0436\\u043d\\u043e\\u0441\\u0442\\u044c \\u043f\\u043e\\u043d\\u043e\\u0441\\u0442\\u0430\\u043b\\u044c\\u0433\\u0438\\u0440\\u043e\\u0432\\u0430\\u0442\\u044c \\u0444\\u0430\\u043d\\u0430\\u0442\\u0430\\u043c \\u043a\\u043d\\u0438\\u0433 \\u0438 \\u0444\\u0438\\u043b\\u044c\\u043c\\u043e\\u0432 \\u043e \\u0413\\u0430\\u0440\\u0440\\u0438 \\u041f\\u043e\\u0442\\u0442\\u0435\\u0440\\u0435. \\u0424\\u0438\\u043b\\u044c\\u043c \\u043e\\u0442\\u043a\\u0440\\u044b\\u0432\\u0430\\u0435\\u0442 \\u0430\\u0431\\u0441\\u043e\\u043b\\u044e\\u0442\\u043d\\u043e \\u043d\\u043e\\u0432\\u0443\\u044e \\u043a\\u0438\\u043d\\u043e\\u044d\\u043f\\u043e\\u043f\\u0435\\u044e \\u0441 \\u0438\\u043d\\u0442\\u0435\\u0440\\u0435\\u0441\\u043d\\u044b\\u043c\\u0438 \\u0433\\u043b\\u0430\\u0432\\u043d\\u044b\\u043c\\u0438 \\u0433\\u0435\\u0440\\u043e\\u044f\\u043c\\u0438, \\u0437\\u0430 \\u043a\\u043e\\u0442\\u043e\\u0440\\u043e\\u0439 \\u044f \\u0441 \\u0443\\u0434\\u043e\\u0432\\u043e\\u043b\\u044c\\u0441\\u0442\\u0432\\u0438\\u0435\\u043c \\u0431\\u0443\\u0434\\u0443 \\u0441\\u043b\\u0435\\u0434\\u0438\\u0442\\u044c.\\n\\n8 \\u0438\\u0437 10\\n\\n(77%), \\u043d\\u0430\\u0447\\u0430\\u043b\\u043e \\u043f\\u043e\\u043b\\u043e\\u0436\\u0435\\u043d\\u043e.\"\n        ],\n        \"semantic_type\": \"\",\n        \"description\": \"\"\n      }\n    },\n    {\n      \"column\": \"sentiment\",\n      \"properties\": {\n        \"dtype\": \"category\",\n        \"num_unique_values\": 3,\n        \"samples\": [\n          \"pos\",\n          \"neu\",\n          \"neg\"\n        ],\n        \"semantic_type\": \"\",\n        \"description\": \"\"\n      }\n    }\n  ]\n}"
            }
          },
          "metadata": {},
          "execution_count": 9
        }
      ]
    },
    {
      "cell_type": "markdown",
      "metadata": {
        "id": "mZ3Hlv0SPBvL"
      },
      "source": [
        "Вашим заданием в данной лабораторной будет построение модели анализа естественного языка для определения эмоциональной окраски отзыва.\n",
        "\n",
        "*Примечание*: размер датасета не позволяет обрабатывать его полностью силами бесплатного аккаунта Colab. Для того, чтобы избежать аварийного завершения работы блокнота из-за дефицита оперативной памяти, рекомендуется проводить обучение в несколько этапов с промежуточным сохранением модели.\n",
        "\n",
        "Методика оценки - accuracy_score (В обучении и тестировании должно участвовать не менее 60000 записей, их распределение по классам должно стремиться к равномерному, т.е. 20к-20к-20к)"
      ]
    },
    {
      "cell_type": "code",
      "source": [
        "df.info()"
      ],
      "metadata": {
        "colab": {
          "base_uri": "https://localhost:8080/"
        },
        "id": "D-0jdHst4D8n",
        "outputId": "7a7f6d26-f472-4281-abd8-19bf708f371f"
      },
      "execution_count": null,
      "outputs": [
        {
          "output_type": "stream",
          "name": "stdout",
          "text": [
            "<class 'pandas.core.frame.DataFrame'>\n",
            "RangeIndex: 59829 entries, 0 to 59828\n",
            "Data columns (total 2 columns):\n",
            " #   Column     Non-Null Count  Dtype \n",
            "---  ------     --------------  ----- \n",
            " 0   review     59829 non-null  object\n",
            " 1   sentiment  59829 non-null  object\n",
            "dtypes: object(2)\n",
            "memory usage: 935.0+ KB\n"
          ]
        }
      ]
    },
    {
      "cell_type": "markdown",
      "source": [
        "Посмотрим на распределение классов. Видно что нейртральных отзывов в 2 раза больше чем остальных вместе взятых."
      ],
      "metadata": {
        "id": "iVsrqjevCzMY"
      }
    },
    {
      "cell_type": "code",
      "source": [
        "sns.countplot(df['sentiment'])"
      ],
      "metadata": {
        "colab": {
          "base_uri": "https://localhost:8080/",
          "height": 466
        },
        "id": "Jnn91Oky4JxJ",
        "outputId": "2011e2f3-d3a2-4e26-f679-24682533142e"
      },
      "execution_count": null,
      "outputs": [
        {
          "output_type": "execute_result",
          "data": {
            "text/plain": [
              "<Axes: xlabel='count', ylabel='sentiment'>"
            ]
          },
          "metadata": {},
          "execution_count": 11
        },
        {
          "output_type": "display_data",
          "data": {
            "text/plain": [
              "<Figure size 640x480 with 1 Axes>"
            ],
            "image/png": "[encoded data removed]"
          },
          "metadata": {}
        }
      ]
    },
    {
      "cell_type": "markdown",
      "source": [
        "Переведем текстовую оценку эмоциональной окраски отзыва в целочисленный вид."
      ],
      "metadata": {
        "id": "vlxwf1-WC_2m"
      }
    },
    {
      "cell_type": "code",
      "source": [
        "le = LabelEncoder()\n",
        "df['sentiment'] = le.fit_transform(df['sentiment'])\n",
        "\n",
        "le.classes_"
      ],
      "metadata": {
        "colab": {
          "base_uri": "https://localhost:8080/"
        },
        "id": "Xw_izqeWAeg5",
        "outputId": "7f1d6b2c-319b-4d55-ebd3-d64c39c03233"
      },
      "execution_count": null,
      "outputs": [
        {
          "output_type": "execute_result",
          "data": {
            "text/plain": [
              "array(['neg', 'neu', 'pos'], dtype=object)"
            ]
          },
          "metadata": {},
          "execution_count": 12
        }
      ]
    },
    {
      "cell_type": "markdown",
      "source": [
        "Очистим наш датасет от зашумляющей информации и приведем все к нижнему регистру."
      ],
      "metadata": {
        "id": "l4FYvByDDF_f"
      }
    },
    {
      "cell_type": "code",
      "source": [
        "def standardize_text(df, content_field):\n",
        "    df[content_field] = df[content_field].str.replace(r\"http\\S+\", \"\")\n",
        "    df[content_field] = df[content_field].str.replace(r\"@\\S+\", \"\")\n",
        "    df[content_field] = df[content_field].str.replace(r\"[^А-Яа-яA-Za-z0-9Ёё(),!?@\\'\\`\\\"\\_\\n]\", \" \")\n",
        "    df[content_field] = df[content_field].str.replace(r\"[Ёё]\", \"е\")\n",
        "    df[content_field] = df[content_field].str.replace(r\"[\\t\\n]\", \"\")\n",
        "    df[content_field] = df[content_field].str.replace(r\"[^А-Яа-яa-zA-Z]\", \" \")\n",
        "    df[content_field] = df[content_field].str.lower()\n",
        "    return df"
      ],
      "metadata": {
        "id": "8qjkCcUPAuA6"
      },
      "execution_count": null,
      "outputs": []
    },
    {
      "cell_type": "code",
      "source": [
        "standardize_text(df, \"review\")"
      ],
      "metadata": {
        "colab": {
          "base_uri": "https://localhost:8080/",
          "height": 424
        },
        "id": "77tQhrvnA1tY",
        "outputId": "507ef1d9-5d3a-4338-f9f7-1ccb915de93c"
      },
      "execution_count": null,
      "outputs": [
        {
          "output_type": "execute_result",
          "data": {
            "text/plain": [
              "                                                  review  sentiment\n",
              "0      великолепный фильм. сочетание замечательных ак...          2\n",
              "1      в основу фильма положена повесть питерского пи...          1\n",
              "2      незадолго до премьеры картину и режиссера стал...          0\n",
              "3      этот фильм, вопреки жанру 0+, снимался явно не...          0\n",
              "4      этот фильм просто великолепен! я получила огро...          2\n",
              "...                                                  ...        ...\n",
              "59824  я смотрел эту часть сразу после 2й и 3й и я от...          0\n",
              "59825  просто не переношу эллен пейдж! не переношу ее...          2\n",
              "59826  это не булгаков. это басов. \\n\\nталантливо, ин...          0\n",
              "59827  правила игры «волк_одиночка»: участники садятс...          1\n",
              "59828  я разочарована. пока этот фильм – один из худш...          0\n",
              "\n",
              "[59829 rows x 2 columns]"
            ],
            "text/html": [
              "\n",
              "  <div id=\"df-714a4928-ae9b-4ba1-89ce-f5ba4394d64f\" class=\"colab-df-container\">\n",
              "    <div>\n",
              "<style scoped>\n",
              "    .dataframe tbody tr th:only-of-type {\n",
              "        vertical-align: middle;\n",
              "    }\n",
              "\n",
              "    .dataframe tbody tr th {\n",
              "        vertical-align: top;\n",
              "    }\n",
              "\n",
              "    .dataframe thead th {\n",
              "        text-align: right;\n",
              "    }\n",
              "</style>\n",
              "<table border=\"1\" class=\"dataframe\">\n",
              "  <thead>\n",
              "    <tr style=\"text-align: right;\">\n",
              "      <th></th>\n",
              "      <th>review</th>\n",
              "      <th>sentiment</th>\n",
              "    </tr>\n",
              "  </thead>\n",
              "  <tbody>\n",
              "    <tr>\n",
              "      <th>0</th>\n",
              "      <td>великолепный фильм. сочетание замечательных ак...</td>\n",
              "      <td>2</td>\n",
              "    </tr>\n",
              "    <tr>\n",
              "      <th>1</th>\n",
              "      <td>в основу фильма положена повесть питерского пи...</td>\n",
              "      <td>1</td>\n",
              "    </tr>\n",
              "    <tr>\n",
              "      <th>2</th>\n",
              "      <td>незадолго до премьеры картину и режиссера стал...</td>\n",
              "      <td>0</td>\n",
              "    </tr>\n",
              "    <tr>\n",
              "      <th>3</th>\n",
              "      <td>этот фильм, вопреки жанру 0+, снимался явно не...</td>\n",
              "      <td>0</td>\n",
              "    </tr>\n",
              "    <tr>\n",
              "      <th>4</th>\n",
              "      <td>этот фильм просто великолепен! я получила огро...</td>\n",
              "      <td>2</td>\n",
              "    </tr>\n",
              "    <tr>\n",
              "      <th>...</th>\n",
              "      <td>...</td>\n",
              "      <td>...</td>\n",
              "    </tr>\n",
              "    <tr>\n",
              "      <th>59824</th>\n",
              "      <td>я смотрел эту часть сразу после 2й и 3й и я от...</td>\n",
              "      <td>0</td>\n",
              "    </tr>\n",
              "    <tr>\n",
              "      <th>59825</th>\n",
              "      <td>просто не переношу эллен пейдж! не переношу ее...</td>\n",
              "      <td>2</td>\n",
              "    </tr>\n",
              "    <tr>\n",
              "      <th>59826</th>\n",
              "      <td>это не булгаков. это басов. \\n\\nталантливо, ин...</td>\n",
              "      <td>0</td>\n",
              "    </tr>\n",
              "    <tr>\n",
              "      <th>59827</th>\n",
              "      <td>правила игры «волк_одиночка»: участники садятс...</td>\n",
              "      <td>1</td>\n",
              "    </tr>\n",
              "    <tr>\n",
              "      <th>59828</th>\n",
              "      <td>я разочарована. пока этот фильм – один из худш...</td>\n",
              "      <td>0</td>\n",
              "    </tr>\n",
              "  </tbody>\n",
              "</table>\n",
              "<p>59829 rows × 2 columns</p>\n",
              "</div>\n",
              "    <div class=\"colab-df-buttons\">\n",
              "\n",
              "  <div class=\"colab-df-container\">\n",
              "    <button class=\"colab-df-convert\" onclick=\"convertToInteractive('df-714a4928-ae9b-4ba1-89ce-f5ba4394d64f')\"\n",
              "            title=\"Convert this dataframe to an interactive table.\"\n",
              "            style=\"display:none;\">\n",
              "\n",
              "  <svg xmlns=\"http://www.w3.org/2000/svg\" height=\"24px\" viewBox=\"0 -960 960 960\">\n",
              "    <path d=\"M120-120v-720h720v720H120Zm60-500h600v-160H180v160Zm220 220h160v-160H400v160Zm0 220h160v-160H400v160ZM180-400h160v-160H180v160Zm440 0h160v-160H620v160ZM180-180h160v-160H180v160Zm440 0h160v-160H620v160Z\"/>\n",
              "  </svg>\n",
              "    </button>\n",
              "\n",
              "  <style>\n",
              "    .colab-df-container {\n",
              "      display:flex;\n",
              "      gap: 12px;\n",
              "    }\n",
              "\n",
              "    .colab-df-convert {\n",
              "      background-color: #E8F0FE;\n",
              "      border: none;\n",
              "      border-radius: 50%;\n",
              "      cursor: pointer;\n",
              "      display: none;\n",
              "      fill: #1967D2;\n",
              "      height: 32px;\n",
              "      padding: 0 0 0 0;\n",
              "      width: 32px;\n",
              "    }\n",
              "\n",
              "    .colab-df-convert:hover {\n",
              "      background-color: #E2EBFA;\n",
              "      box-shadow: 0px 1px 2px rgba(60, 64, 67, 0.3), 0px 1px 3px 1px rgba(60, 64, 67, 0.15);\n",
              "      fill: #174EA6;\n",
              "    }\n",
              "\n",
              "    .colab-df-buttons div {\n",
              "      margin-bottom: 4px;\n",
              "    }\n",
              "\n",
              "    [theme=dark] .colab-df-convert {\n",
              "      background-color: #3B4455;\n",
              "      fill: #D2E3FC;\n",
              "    }\n",
              "\n",
              "    [theme=dark] .colab-df-convert:hover {\n",
              "      background-color: #434B5C;\n",
              "      box-shadow: 0px 1px 3px 1px rgba(0, 0, 0, 0.15);\n",
              "      filter: drop-shadow(0px 1px 2px rgba(0, 0, 0, 0.3));\n",
              "      fill: #FFFFFF;\n",
              "    }\n",
              "  </style>\n",
              "\n",
              "    <script>\n",
              "      const buttonEl =\n",
              "        document.querySelector('#df-714a4928-ae9b-4ba1-89ce-f5ba4394d64f button.colab-df-convert');\n",
              "      buttonEl.style.display =\n",
              "        google.colab.kernel.accessAllowed ? 'block' : 'none';\n",
              "\n",
              "      async function convertToInteractive(key) {\n",
              "        const element = document.querySelector('#df-714a4928-ae9b-4ba1-89ce-f5ba4394d64f');\n",
              "        const dataTable =\n",
              "          await google.colab.kernel.invokeFunction('convertToInteractive',\n",
              "                                                    [key], {});\n",
              "        if (!dataTable) return;\n",
              "\n",
              "        const docLinkHtml = 'Like what you see? Visit the ' +\n",
              "          '<a target=\"_blank\" href=https://colab.research.google.com/notebooks/data_table.ipynb>data table notebook</a>'\n",
              "          + ' to learn more about interactive tables.';\n",
              "        element.innerHTML = '';\n",
              "        dataTable['output_type'] = 'display_data';\n",
              "        await google.colab.output.renderOutput(dataTable, element);\n",
              "        const docLink = document.createElement('div');\n",
              "        docLink.innerHTML = docLinkHtml;\n",
              "        element.appendChild(docLink);\n",
              "      }\n",
              "    </script>\n",
              "  </div>\n",
              "\n",
              "\n",
              "<div id=\"df-3c289ebc-5be8-445f-ae71-481be9834051\">\n",
              "  <button class=\"colab-df-quickchart\" onclick=\"quickchart('df-3c289ebc-5be8-445f-ae71-481be9834051')\"\n",
              "            title=\"Suggest charts\"\n",
              "            style=\"display:none;\">\n",
              "\n",
              "<svg xmlns=\"http://www.w3.org/2000/svg\" height=\"24px\"viewBox=\"0 0 24 24\"\n",
              "     width=\"24px\">\n",
              "    <g>\n",
              "        <path d=\"M19 3H5c-1.1 0-2 .9-2 2v14c0 1.1.9 2 2 2h14c1.1 0 2-.9 2-2V5c0-1.1-.9-2-2-2zM9 17H7v-7h2v7zm4 0h-2V7h2v10zm4 0h-2v-4h2v4z\"/>\n",
              "    </g>\n",
              "</svg>\n",
              "  </button>\n",
              "\n",
              "<style>\n",
              "  .colab-df-quickchart {\n",
              "      --bg-color: #E8F0FE;\n",
              "      --fill-color: #1967D2;\n",
              "      --hover-bg-color: #E2EBFA;\n",
              "      --hover-fill-color: #174EA6;\n",
              "      --disabled-fill-color: #AAA;\n",
              "      --disabled-bg-color: #DDD;\n",
              "  }\n",
              "\n",
              "  [theme=dark] .colab-df-quickchart {\n",
              "      --bg-color: #3B4455;\n",
              "      --fill-color: #D2E3FC;\n",
              "      --hover-bg-color: #434B5C;\n",
              "      --hover-fill-color: #FFFFFF;\n",
              "      --disabled-bg-color: #3B4455;\n",
              "      --disabled-fill-color: #666;\n",
              "  }\n",
              "\n",
              "  .colab-df-quickchart {\n",
              "    background-color: var(--bg-color);\n",
              "    border: none;\n",
              "    border-radius: 50%;\n",
              "    cursor: pointer;\n",
              "    display: none;\n",
              "    fill: var(--fill-color);\n",
              "    height: 32px;\n",
              "    padding: 0;\n",
              "    width: 32px;\n",
              "  }\n",
              "\n",
              "  .colab-df-quickchart:hover {\n",
              "    background-color: var(--hover-bg-color);\n",
              "    box-shadow: 0 1px 2px rgba(60, 64, 67, 0.3), 0 1px 3px 1px rgba(60, 64, 67, 0.15);\n",
              "    fill: var(--button-hover-fill-color);\n",
              "  }\n",
              "\n",
              "  .colab-df-quickchart-complete:disabled,\n",
              "  .colab-df-quickchart-complete:disabled:hover {\n",
              "    background-color: var(--disabled-bg-color);\n",
              "    fill: var(--disabled-fill-color);\n",
              "    box-shadow: none;\n",
              "  }\n",
              "\n",
              "  .colab-df-spinner {\n",
              "    border: 2px solid var(--fill-color);\n",
              "    border-color: transparent;\n",
              "    border-bottom-color: var(--fill-color);\n",
              "    animation:\n",
              "      spin 1s steps(1) infinite;\n",
              "  }\n",
              "\n",
              "  @keyframes spin {\n",
              "    0% {\n",
              "      border-color: transparent;\n",
              "      border-bottom-color: var(--fill-color);\n",
              "      border-left-color: var(--fill-color);\n",
              "    }\n",
              "    20% {\n",
              "      border-color: transparent;\n",
              "      border-left-color: var(--fill-color);\n",
              "      border-top-color: var(--fill-color);\n",
              "    }\n",
              "    30% {\n",
              "      border-color: transparent;\n",
              "      border-left-color: var(--fill-color);\n",
              "      border-top-color: var(--fill-color);\n",
              "      border-right-color: var(--fill-color);\n",
              "    }\n",
              "    40% {\n",
              "      border-color: transparent;\n",
              "      border-right-color: var(--fill-color);\n",
              "      border-top-color: var(--fill-color);\n",
              "    }\n",
              "    60% {\n",
              "      border-color: transparent;\n",
              "      border-right-color: var(--fill-color);\n",
              "    }\n",
              "    80% {\n",
              "      border-color: transparent;\n",
              "      border-right-color: var(--fill-color);\n",
              "      border-bottom-color: var(--fill-color);\n",
              "    }\n",
              "    90% {\n",
              "      border-color: transparent;\n",
              "      border-bottom-color: var(--fill-color);\n",
              "    }\n",
              "  }\n",
              "</style>\n",
              "\n",
              "  <script>\n",
              "    async function quickchart(key) {\n",
              "      const quickchartButtonEl =\n",
              "        document.querySelector('#' + key + ' button');\n",
              "      quickchartButtonEl.disabled = true;  // To prevent multiple clicks.\n",
              "      quickchartButtonEl.classList.add('colab-df-spinner');\n",
              "      try {\n",
              "        const charts = await google.colab.kernel.invokeFunction(\n",
              "            'suggestCharts', [key], {});\n",
              "      } catch (error) {\n",
              "        console.error('Error during call to suggestCharts:', error);\n",
              "      }\n",
              "      quickchartButtonEl.classList.remove('colab-df-spinner');\n",
              "      quickchartButtonEl.classList.add('colab-df-quickchart-complete');\n",
              "    }\n",
              "    (() => {\n",
              "      let quickchartButtonEl =\n",
              "        document.querySelector('#df-3c289ebc-5be8-445f-ae71-481be9834051 button');\n",
              "      quickchartButtonEl.style.display =\n",
              "        google.colab.kernel.accessAllowed ? 'block' : 'none';\n",
              "    })();\n",
              "  </script>\n",
              "</div>\n",
              "    </div>\n",
              "  </div>\n"
            ],
            "application/vnd.google.colaboratory.intrinsic+json": {
              "type": "dataframe",
              "variable_name": "df",
              "summary": "{\n  \"name\": \"df\",\n  \"rows\": 59829,\n  \"fields\": [\n    {\n      \"column\": \"review\",\n      \"properties\": {\n        \"dtype\": \"string\",\n        \"num_unique_values\": 59783,\n        \"samples\": [\n          \"\\u0444\\u0438\\u043b\\u044c\\u043c \\u043f\\u0440\\u043e \\u043a\\u043e\\u043d\\u0435\\u0446 \\u0441\\u0432\\u0435\\u0442\\u0430, \\u043d\\u043e \\u043e\\u0442\\u043b\\u0438\\u0447\\u0430\\u0435\\u0442\\u0441\\u044f \\u043e\\u0442 \\u0435\\u043c\\u0443 \\u043f\\u043e\\u0434\\u043e\\u0431\\u043d\\u044b\\u0445 \\u0442\\u0435\\u043c, \\u0447\\u0442\\u043e \\u0437\\u0434\\u0435\\u0441\\u044c \\u0443\\u043f\\u043e\\u0440 \\u0434\\u0435\\u043b\\u0430\\u0435\\u0442\\u0441\\u044f \\u043d\\u0435 \\u043d\\u0430 \\u0440\\u0430\\u0437\\u0440\\u0443\\u0448\\u0435\\u043d\\u0438\\u044f, \\u0430 \\u043d\\u0430 \\u043f\\u0441\\u0438\\u0445\\u043e\\u043b\\u043e\\u0433\\u0438\\u0447\\u0435\\u0441\\u043a\\u0438\\u0439 \\u0430\\u0441\\u043f\\u0435\\u043a\\u0442. \\u0440\\u0430\\u0441\\u043a\\u0440\\u044b\\u0432\\u0430\\u0435\\u0442\\u0441\\u044f \\u0438\\u0441\\u0442\\u0438\\u043d\\u043d\\u0430\\u044f \\u0443 \\u043a\\u043e\\u0433\\u043e-\\u0442\\u043e \\u0441\\u0443\\u0449\\u043d\\u043e\\u0441\\u0442\\u044c, \\u0430 \\u0443 \\u043a\\u043e\\u0433\\u043e-\\u0442\\u043e - \\u0441\\u0443\\u0447\\u043d\\u043e\\u0441\\u0442\\u044c. \\u043d\\u0435\\u0441\\u043c\\u043e\\u0442\\u0440\\u044f \\u043d\\u0430 \\u0442\\u043e, \\u0441\\u043a\\u043e\\u043b\\u044c\\u043a\\u043e \\u0442\\u0435\\u0431\\u0435 \\u043e\\u0441\\u0442\\u0430\\u043b\\u043e\\u0441\\u044c \\u0438 \\u0447\\u0442\\u043e \\u0442\\u0435\\u0431\\u0435 \\u0434\\u043e\\u0437\\u0432\\u043e\\u043b\\u0435\\u043d\\u043e, \\u043d\\u0443\\u0436\\u043d\\u043e \\u043e\\u0441\\u0442\\u0430\\u0432\\u0430\\u0442\\u044c\\u0441\\u044f \\u0447\\u0435\\u043b\\u043e\\u0432\\u0435\\u043a\\u043e\\u043c - \\u0432\\u043e\\u0442 \\u0447\\u0442\\u043e \\u043f\\u043e\\u043a\\u0430\\u0437\\u044b\\u0432\\u0430\\u0435\\u0442 \\u044d\\u0442\\u043e\\u0442 \\u0444\\u0438\\u043b\\u044c\\u043c.\\n\\n\\u0430 \\u0435\\u0449\\u0451 - \\u0447\\u0442\\u043e \\u0431\\u044b \\u043d\\u0438 \\u0441\\u043b\\u0443\\u0447\\u0438\\u043b\\u043e\\u0441\\u044c, \\u043d\\u0430\\u0434\\u043e \\u0431\\u044b\\u0442\\u044c \\u0440\\u044f\\u0434\\u043e\\u043c \\u0441 \\u043b\\u044e\\u0431\\u0438\\u043c\\u044b\\u043c\\u0438 \\u0438 \\u0440\\u043e\\u0434\\u043d\\u044b\\u043c\\u0438. \\u0438 \\u0443 \\u043d\\u0430\\u0441 \\u0443 \\u0432\\u0441\\u0435\\u0445 \\u0435\\u0441\\u0442\\u044c \\u0443\\u043d\\u0438\\u043a\\u0430\\u043b\\u044c\\u043d\\u0430\\u044f \\u0432\\u043e\\u0437\\u043c\\u043e\\u0436\\u043d\\u043e\\u0441\\u0442\\u044c \\u044d\\u0442\\u043e \\u0441\\u0434\\u0435\\u043b\\u0430\\u0442\\u044c, \\u0438\\u0431\\u043e \\u043c\\u044b, \\u043d\\u0430\\u0434\\u043e \\u043d\\u0430\\u0434\\u0435\\u044f\\u0442\\u044c\\u0441\\u044f, \\u043f\\u0440\\u043e\\u0436\\u0438\\u0432\\u0430\\u0435\\u043c \\u043d\\u0435 \\u0441\\u0432\\u043e\\u0438 \\u043f\\u043e\\u0441\\u043b\\u0435\\u0434\\u043d\\u0438\\u0435 \\u0447\\u0430\\u0441\\u044b, \\u043a\\u0430\\u043a \\u0433\\u0435\\u0440\\u043e\\u0438 \\u0444\\u0438\\u043b\\u044c\\u043c\\u0430.\\n\\n\\u043d\\u0443, \\u0438 \\u0431\\u043e\\u0440\\u043e\\u0442\\u044c\\u0441\\u044f \\u043d\\u0430\\u0434\\u043e \\u0434\\u043e \\u043a\\u043e\\u043d\\u0446\\u0430, \\u043d\\u0435 \\u043e\\u043f\\u0443\\u0441\\u043a\\u0430\\u0442\\u044c \\u0440\\u0443\\u043a\\u0438, \\u043d\\u0435 \\u0441\\u043c\\u0438\\u0440\\u044f\\u0442\\u044c\\u0441\\u044f \\u0441 \\u043e\\u0431\\u0441\\u0442\\u043e\\u044f\\u0442\\u0435\\u043b\\u044c\\u0441\\u0442\\u0432\\u0430\\u043c\\u0438, \\u0434\\u0430\\u0436\\u0435 \\u0435\\u0441\\u043b\\u0438 \\u043d\\u0430\\u0434\\u0435\\u0436\\u0434\\u044b \\u043d\\u0435\\u0442. \\u0444\\u0438\\u043b\\u044c\\u043c \\u0447\\u0435\\u043c-\\u0442\\u043e \\u043d\\u0430\\u043f\\u043e\\u043c\\u043d\\u0438\\u043b '\\u0440\\u043e\\u0432\\u0435\\u0440', \\u043d\\u043e \\u043f\\u043e\\u043d\\u0440\\u0430\\u0432\\u0438\\u043b\\u0441\\u044f \\u0431\\u043e\\u043b\\u044c\\u0448\\u0435. \\u043f\\u043e \\u043a\\u0440\\u0430\\u0439\\u043d\\u0435\\u0439 \\u043c\\u0435\\u0440\\u0435, \\u044d\\u043c\\u043e\\u0446\\u0438\\u0438 \\u0432\\u044b\\u0437\\u044b\\u0432\\u0430\\u0435\\u0442, \\u043f\\u0440\\u0438\\u0447\\u0451\\u043c \\u0445\\u043e\\u0440\\u043e\\u0448\\u0438\\u0435 \\u044d\\u043c\\u043e\\u0446\\u0438\\u0438, \\u043d\\u0435\\u0441\\u043c\\u043e\\u0442\\u0440\\u044f \\u043d\\u0430 \\u0431\\u0435\\u0437\\u044b\\u0441\\u0445\\u043e\\u0434\\u043d\\u043e\\u0441\\u0442\\u044c \\u0441\\u0438\\u0442\\u0443\\u0430\\u0446\\u0438\\u0438.\\n\\n6 \\u0438\\u0437 10\",\n          \"\\u0443 \\u043a\\u0430\\u0436\\u0434\\u043e\\u0433\\u043e \\u0447\\u0435\\u043b\\u043e\\u0432\\u0435\\u043a\\u0430 \\u0432 \\u0436\\u0438\\u0437\\u043d\\u0438 \\u043f\\u0440\\u043e\\u0438\\u0441\\u0445\\u043e\\u0434\\u0438\\u0442 \\u043d\\u0435\\u0447\\u0442\\u043e \\u0442\\u0430\\u043a\\u043e\\u0435, \\u0447\\u0442\\u043e \\u043f\\u0435\\u0440\\u0435\\u0432\\u0435\\u0440\\u043d\\u0435\\u0442 \\u0432\\u0441\\u044e \\u0435\\u0433\\u043e \\u0436\\u0438\\u0437\\u043d\\u044c... \\u0430 \\u043a\\u043e\\u0433\\u0434\\u0430 \\u0442\\u0435\\u0431\\u0435 \\u0442\\u043e\\u043b\\u044c\\u043a\\u043e 12 \\u043b\\u0435\\u0442 \\u0438 \\u0443 \\u0442\\u0435\\u0431\\u044f \\u043f\\u0440\\u043e\\u0431\\u043b\\u0435\\u043c\\u044b \\u0432 \\u0441\\u0435\\u043c\\u044c\\u0435, \\u0442\\u043e \\u0442\\u0435\\u0431\\u0435 \\u0431\\u0443\\u0434\\u0435\\u0442 \\u0435\\u0449\\u0435 \\u0441\\u043b\\u043e\\u0436\\u043d\\u0435\\u0435 \\u0440\\u0430\\u0437\\u043e\\u0431\\u0440\\u0430\\u0442\\u044c\\u0441\\u044f \\u0432 \\u043f\\u0440\\u043e\\u0438\\u0441\\u0445\\u043e\\u0434\\u044f\\u0449\\u0435\\u043c. \\n\\n\\u0444\\u0438\\u043b\\u044c\\u043c \\u0434\\u0432\\u0435\\u043d\\u0430\\u0434\\u0446\\u0430\\u0442\\u0438\\u043b\\u0435\\u0442\\u043d\\u0438\\u0435 \\u043f\\u043e\\u043a\\u0430\\u0437\\u044b\\u0432\\u0430\\u0435\\u0442 \\u043a\\u0430\\u043a \\u0438\\u0437\\u043c\\u0435\\u043d\\u0438\\u043b\\u0430\\u0441\\u044c \\u0436\\u0438\\u0437\\u043d\\u044c \\u0434\\u043b\\u044f \\u0434\\u0436\\u0435\\u0439\\u043a\\u043e\\u0431\\u0430, \\u043b\\u0435\\u043e\\u043d\\u0430\\u0440\\u0434\\u0430 \\u0438 \\u043c\\u0438\\u043b\\u0438, \\u043a\\u043e\\u0433\\u0434\\u0430 \\u0432 \\u043f\\u043e\\u0436\\u0430\\u0440\\u0435 \\u043f\\u043e\\u0433\\u0438\\u0431\\u0430\\u0435\\u0442 \\u0438\\u0445 \\u0434\\u0440\\u0443\\u0433 \\u0440\\u0443\\u0434\\u0438... \\u0438 \\u043f\\u043e\\u0441\\u043b\\u0435 \\u044d\\u0442\\u043e\\u0433\\u043e \\u0441\\u043b\\u0443\\u0447\\u0430\\u044f \\u043a\\u0430\\u0436\\u0434\\u044b\\u0439 \\u0438\\u0437 \\u0433\\u0435\\u0440\\u043e\\u0435\\u0432 \\u043f\\u044b\\u0442\\u0430\\u0435\\u0442\\u0441\\u044f \\u0441\\u043f\\u0440\\u0430\\u0432\\u043b\\u044f\\u0442\\u044c\\u0441\\u044f \\u0441\\u043e \\u0441\\u0432\\u043e\\u0438\\u043c\\u0438 \\u0441\\u043e\\u0432\\u0441\\u0435\\u043c \\u043d\\u0435 \\u0434\\u0435\\u0442\\u0441\\u043a\\u0438\\u043c\\u0438 \\u043f\\u0440\\u043e\\u0431\\u043b\\u0435\\u043c\\u0430\\u043c\\u0438.\\n\\n\\u0438\\u0441\\u0442\\u043e\\u0440\\u0438\\u044f \\u0434\\u0436\\u0435\\u0439\\u043a\\u043e\\u0431\\u0430 - \\u043e\\u043d \\u043f\\u0435\\u0440\\u0435\\u0436\\u0438\\u0432\\u0430\\u0435\\u0442 \\u0431\\u043e\\u043b\\u044c\\u0448\\u0435 \\u0432\\u0441\\u0435\\u0445, \\u0432\\u0435\\u0434\\u044c \\u0432 \\u043f\\u043e\\u0436\\u0430\\u0440\\u0435 \\u043f\\u043e\\u0433\\u0438\\u0431\\u0430\\u0435\\u0442 \\u0435\\u0433\\u043e \\u0431\\u0440\\u0430\\u0442-\\u0431\\u043b\\u0438\\u0437\\u043d\\u0435\\u0446. \\u043e\\u043d \\u043e\\u0441\\u043e\\u0437\\u043d\\u0430\\u0435\\u0442, \\u0447\\u0442\\u043e \\u0440\\u043e\\u0434\\u0438\\u0442\\u0435\\u043b\\u0438 \\u0432\\u0441\\u0435\\u0433\\u0434\\u0430 \\u043f\\u0440\\u0435\\u0434\\u043f\\u043e\\u0447\\u0438\\u0442\\u0430\\u043b\\u0438 \\u0435\\u0433\\u043e \\u0431\\u0440\\u0430\\u0442\\u0430, \\u0438 \\u043e\\u0449\\u0443\\u0449\\u0430\\u0435\\u0442 \\u043d\\u0435\\u043d\\u0430\\u0432\\u0438\\u0441\\u0442\\u044c \\u043a \\u043f\\u0440\\u0438\\u0447\\u0430\\u0441\\u0442\\u043d\\u044b\\u043c\\u0438 \\u043a \\u043f\\u0440\\u0435\\u0441\\u0442\\u0443\\u043f\\u043b\\u0435\\u043d\\u0438\\u044e.\\n\\n\\u0438\\u0441\\u0442\\u043e\\u0440\\u0438\\u044f \\u043c\\u0438\\u043b\\u043b\\u0438 - \\u0434\\u0435\\u0432\\u043e\\u0447\\u043a\\u0430 \\u0432\\u043f\\u0435\\u0440\\u0432\\u044b\\u0435 \\u0432 \\u0436\\u0438\\u0437\\u043d\\u0438 \\u0432\\u043b\\u044e\\u0431\\u043b\\u044f\\u0435\\u0442\\u0441\\u044f \\u0438 \\u043d\\u0435 \\u0432 \\u043a\\u043e\\u0433\\u043e-\\u0442\\u043e, \\u0430 \\u0432 \\u043f\\u0430\\u0446\\u0438\\u0435\\u043d\\u0442\\u0430 \\u0441\\u0432\\u043e\\u0435\\u0439 \\u043c\\u0430\\u0442\\u0435\\u0440\\u0438. \\u0435\\u0439 \\u043f\\u0440\\u0438\\u0445\\u043e\\u0434\\u0438\\u0442\\u0441\\u044f \\u0441\\u043b\\u043e\\u0436\\u043d\\u0435\\u0435 \\u0432\\u0441\\u0435\\u0433\\u043e - \\u0441 \\u043c\\u0430\\u0442\\u0435\\u0440\\u044c\\u044e \\u0443 \\u043d\\u0435\\u0435 \\u043d\\u0430\\u0442\\u044f\\u043d\\u0443\\u0442\\u044b\\u0435 \\u043e\\u0442\\u043d\\u043e\\u0448\\u0435\\u043d\\u0438\\u044f, \\u0430 \\u043e\\u0442\\u0435\\u0446 \\u043d\\u0435 \\u0445\\u043e\\u0447\\u0435\\u0442 \\u0435\\u0435 \\u0432\\u0438\\u0434\\u0435\\u0442\\u044c...\\n\\n\\u0438\\u0441\\u0442\\u043e\\u0440\\u0438\\u044f \\u043b\\u0435\\u043e\\u043d\\u0430\\u0440\\u0434\\u0430 - \\u043e\\u043d \\u0442\\u0430\\u043a\\u0436\\u0435 \\u043f\\u043e\\u0441\\u0442\\u0440\\u0430\\u0434\\u0430\\u043b \\u043f\\u0440\\u0438 \\u043f\\u043e\\u0436\\u0430\\u0440\\u0435 \\u0438 \\u0443 \\u043d\\u0435\\u0433\\u043e \\u043f\\u0440\\u043e\\u043f\\u0430\\u043b \\u0432\\u043a\\u0443\\u0441. \\u0430 \\u0435\\u0449\\u0435 \\u043f\\u0430\\u0440\\u0435\\u043d\\u044c \\u043e\\u0441\\u043e\\u0437\\u043d\\u0430\\u0435\\u0442, \\u0447\\u0442\\u043e \\u043e\\u043d \\u0432\\u0435\\u0434\\u0435\\u0442 \\u043d\\u0435\\u043f\\u0440\\u0430\\u0432\\u0438\\u043b\\u044c\\u043d\\u044b\\u0439 \\u043e\\u0431\\u0440\\u0430\\u0437 \\u0436\\u0438\\u0437\\u043d\\u0438 \\u0438 \\u043d\\u0430\\u0447\\u0438\\u043d\\u0430\\u0435\\u0442 \\u0430\\u043a\\u0442\\u0438\\u0432\\u043d\\u043e \\u0431\\u043e\\u0440\\u043e\\u0442\\u044c\\u0441\\u044f \\u0441 \\u043b\\u0438\\u0448\\u043d\\u0438\\u043c \\u0432\\u0435\\u0441\\u043e\\u043c, \\u043f\\u044b\\u0442\\u0430\\u044f\\u0441\\u044c \\u043f\\u043e\\u043f\\u0443\\u0442\\u043d\\u043e \\u043f\\u0440\\u0438\\u0432\\u043b\\u0435\\u0447\\u044c \\u0432\\u0441\\u044e \\u0441\\u0432\\u043e\\u044e \\u0441\\u0435\\u043c\\u044c\\u044e.\\n\\n\\u0438\\u0441\\u0442\\u043e\\u0440\\u0438\\u044f \\u0433\\u0430\\u0441\\u0430 - \\u043e\\u0434\\u0438\\u043d\\u043e\\u043a\\u0438\\u0439 \\u043c\\u0443\\u0436\\u0447\\u0438\\u043d\\u0430, \\u0440\\u0430\\u0431\\u043e\\u0442\\u0430\\u0435\\u0442 \\u043d\\u0430 \\u0441\\u0442\\u0440\\u043e\\u0439\\u043a\\u0435 \\u0438 \\u043f\\u043e\\u0441\\u0442\\u043e\\u044f\\u043d\\u043d\\u043e \\u043f\\u043e\\u0441\\u0435\\u0449\\u0430\\u0435\\u0442 \\u043f\\u0441\\u0438\\u0445\\u043e\\u043b\\u043e\\u0433\\u0430. \\u0435\\u0433\\u043e \\u043f\\u043e\\u0441\\u0442\\u043e\\u044f\\u043d\\u043d\\u043e \\u043c\\u0443\\u0447\\u0430\\u044e\\u0442 \\u043a\\u043e\\u0448\\u043c\\u0430\\u0440\\u044b, \\u043f\\u0440\\u0438\\u0447\\u0438\\u043d\\u0443 \\u043a\\u043e\\u0442\\u043e\\u0440\\u044b\\u0445 \\u043c\\u044b \\u0443\\u0437\\u043d\\u0430\\u0435\\u043c \\u0442\\u043e\\u043b\\u044c\\u043a\\u043e \\u0432 \\u043a\\u043e\\u043d\\u0446\\u0435 \\u0444\\u0438\\u043b\\u044c\\u043c\\u0430.\\n\\n\\u043a \\u0430\\u043a\\u0442\\u0435\\u0440\\u0430\\u043c \\u0443 \\u043c\\u0435\\u043d\\u044f \\u043d\\u0435\\u0442 \\u043d\\u0438\\u043a\\u0430\\u043a\\u0438\\u0445 \\u043d\\u0430\\u0440\\u0435\\u043a\\u0430\\u043d\\u0438\\u0439 - \\u044e\\u043d\\u044b\\u0435 \\u0430\\u043a\\u0442\\u0435\\u0440\\u044b \\u0438 \\u0430\\u043a\\u0442\\u0440\\u0438\\u0441\\u044b \\u0438\\u0433\\u0440\\u0430\\u044e\\u0442 \\u0442\\u0430\\u043a \\u044d\\u043c\\u043e\\u0446\\u0438\\u043e\\u043d\\u0430\\u043b\\u044c\\u043d\\u043e, \\u0442\\u0430\\u043a \\u043f\\u0440\\u043e\\u0444\\u0435\\u0441\\u0441\\u0438\\u043e\\u043d\\u0430\\u043b\\u044c\\u043d\\u043e, \\u043a\\u0430\\u043a \\u043d\\u0435 \\u043c\\u043e\\u0433\\u0443\\u0442 \\u0441\\u044b\\u0433\\u0440\\u0430\\u0442\\u044c \\u043d\\u0435\\u043a\\u043e\\u0442\\u043e\\u0440\\u044b\\u0435 \\u0441\\u043e\\u0432\\u0440\\u0435\\u043c\\u0435\\u043d\\u043d\\u044b\\u0435 \\u0430\\u043a\\u0442\\u0435\\u0440\\u044b. \\u043e\\u0441\\u043e\\u0431\\u0435\\u043d\\u043d\\u043e \\u043c\\u043d\\u0435 \\u0437\\u0430\\u043f\\u043e\\u043c\\u043d\\u0438\\u043b\\u0441\\u044f \\u043b\\u0435\\u043e\\u043d\\u0430\\u0440\\u0434 (\\u0434\\u0436\\u0435\\u0441\\u0441\\u0438 \\u043a\\u0430\\u043c\\u0430\\u0447\\u043e) - \\u043c\\u043e\\u0436\\u043d\\u043e \\u043f\\u043e\\u0437\\u0430\\u0432\\u0438\\u0434\\u043e\\u0432\\u0430\\u0442\\u044c \\u0435\\u0433\\u043e \\u0441\\u0438\\u043b\\u0435 \\u0432\\u043e\\u043b\\u0438, \\u0432\\u044b\\u0434\\u0435\\u0440\\u0436\\u043a\\u0435 \\u0438 \\u0438\\u0437\\u043e\\u0431\\u0440\\u0435\\u0442\\u0430\\u0442\\u0435\\u043b\\u044c\\u043d\\u043e\\u0441\\u0442\\u0438. \\u0430 \\u0434\\u0436\\u0435\\u0440\\u0435\\u043c\\u0438 \\u0440\\u0435\\u043d\\u043d\\u0435\\u0440 - \\u0432\\u043e\\u0442 \\u0443\\u043c\\u0435\\u0435\\u0442 \\u043e\\u043d \\u0441\\u043e\\u0437\\u0434\\u0430\\u0442\\u044c \\u043e\\u0447\\u0435\\u043d\\u044c \\u0441\\u043b\\u043e\\u0436\\u043d\\u044b\\u0439 \\u0445\\u0430\\u0440\\u0430\\u043a\\u0442\\u0435\\u0440, \\u0432 \\u0440\\u0435\\u0430\\u043b\\u044c\\u043d\\u043e\\u0441\\u0442\\u044c \\u043a\\u043e\\u0442\\u043e\\u0440\\u043e\\u0433\\u043e \\u0441\\u043b\\u043e\\u0436\\u043d\\u043e \\u043d\\u0435 \\u043f\\u043e\\u0432\\u0435\\u0440\\u0438\\u0442\\u044c. \\u0430 \\u0441\\u0446\\u0435\\u043d\\u0430, \\u0433\\u0434\\u0435 \\u0435\\u0433\\u043e \\u0442\\u0435\\u0440\\u0437\\u0430\\u044e\\u0442 \\u0447\\u0443\\u0432\\u0441\\u0442\\u0432\\u043e \\u0432\\u0438\\u043d\\u044b \\u0438 \\u0441\\u043b\\u0435\\u0437\\u044b - \\u043e\\u0434\\u043d\\u0430 \\u0438\\u0437 \\u0441\\u0430\\u043c\\u044b\\u0445 \\u044f\\u0440\\u043a\\u0438\\u0445 \\u0432 \\u0444\\u0438\\u043b\\u044c\\u043c\\u0435.\\n\\n\\u0444\\u0438\\u043b\\u044c\\u043c \\u043d\\u0435 \\u0440\\u0430\\u0441\\u0447\\u0438\\u0442\\u0430\\u043d \\u043d\\u0430 \\u0448\\u0438\\u0440\\u043e\\u043a\\u0443\\u044e \\u0430\\u0443\\u0434\\u0438\\u0442\\u043e\\u0440\\u0438\\u044e. \\u043e\\u043d \\u043d\\u0435 \\u043a\\u0430\\u0436\\u0434\\u043e\\u043c\\u0443 \\u043c\\u043e\\u0436\\u0435\\u0442 \\u043f\\u043e\\u043d\\u0440\\u0430\\u0432\\u0438\\u0442\\u044c\\u0441\\u044f. \\u043d\\u043e \\u0435\\u0441\\u043b\\u0438 \\u0432\\u044b \\u0435\\u0433\\u043e \\u0441\\u043c\\u043e\\u0442\\u0440\\u0438\\u0442\\u0435, \\u0442\\u043e \\u044f \\u0443\\u0432\\u0435\\u0440\\u0435\\u043d\\u0430 \\u043c\\u043e\\u0436\\u043d\\u043e \\u043a\\u043e\\u0435-\\u0447\\u0442\\u043e \\u0432\\u044b\\u044f\\u0441\\u043d\\u0438\\u0442\\u044c - \\u043d\\u0430\\u043f\\u0440\\u0438\\u043c\\u0435\\u0440, \\u043a\\u0430\\u043a \\u043f\\u043e\\u043c\\u043e\\u0447\\u044c \\u0434\\u0435\\u0442\\u044f\\u043c \\u0441\\u043f\\u0440\\u0430\\u0432\\u0438\\u0442\\u044c\\u0441\\u044f \\u0441\\u043e \\u0441\\u0432\\u043e\\u0438\\u043c\\u0438 \\u043f\\u0440\\u043e\\u0431\\u043b\\u0435\\u043c\\u0430\\u043c\\u0438 \\u0438\\u043b\\u0438 \\u0440\\u0430\\u0437\\u043e\\u0431\\u0440\\u0430\\u0442\\u044c\\u0441\\u044f \\u0432 \\u0441\\u0432\\u043e\\u0438\\u0445...\",\n          \"\\u0441\\u0435\\u0433\\u043e\\u0434\\u043d\\u044f \\u0432\\u0430\\u0448\\u0435\\u043c\\u0443 \\u0432\\u0437\\u043e\\u0440\\u0443 \\u043f\\u0440\\u0435\\u0434\\u0441\\u0442\\u0430\\u043d\\u0435\\u0442 \\u0437\\u0430\\u043f\\u043e\\u0437\\u0434\\u0430\\u043b\\u0430\\u044f \\u0440\\u0435\\u0446\\u0435\\u043d\\u0437\\u0438\\u044f \\u043d\\u0430 \\u0438\\u0437\\u0432\\u0435\\u0441\\u0442\\u043d\\u044b\\u0439 \\u0444\\u0438\\u043b\\u044c\\u043c \\u043f\\u043e \\u0432\\u0441\\u0435\\u043b\\u0435\\u043d\\u043d\\u043e\\u0439 '\\u0433\\u0430\\u0440\\u0440\\u0438 \\u043f\\u043e\\u0442\\u0442\\u0435\\u0440\\u0430', \\u043f\\u0440\\u043e\\u0441\\u043c\\u043e\\u0442\\u0440\\u0435\\u043d\\u043d\\u044b\\u0439 \\u0430\\u0432\\u0442\\u043e\\u0440\\u043e\\u043c \\u0435\\u0449\\u0435 \\u0432 \\u0434\\u0435\\u043d\\u044c \\u043f\\u0440\\u0435\\u043c\\u044c\\u0435\\u0440\\u044b \\u0432 imax. \\u0441\\u043e\\u0432\\u0435\\u0442\\u0443\\u044e \\u0432\\u0441\\u0435\\u043c \\u043f\\u043e \\u0432\\u043e\\u0437\\u043c\\u043e\\u0436\\u043d\\u043e\\u0441\\u0442\\u0438 \\u0441\\u043c\\u043e\\u0442\\u0440\\u0435\\u0442\\u044c \\u043a\\u0438\\u043d\\u043e \\u0438\\u043c\\u0435\\u043d\\u043d\\u043e \\u0432 \\u044d\\u0442\\u043e\\u043c \\u0444\\u043e\\u0440\\u043c\\u0430\\u0442\\u0435, \\u0442. \\u043a. \\u0432\\u0438\\u0437\\u0443\\u0430\\u043b\\u044c\\u043d\\u044b\\u0435 \\u044d\\u0444\\u0444\\u0435\\u043a\\u0442\\u044b \\u043f\\u043e\\u0437\\u0432\\u043e\\u043b\\u044f\\u044e\\u0442 \\u043f\\u043e-\\u043d\\u0430\\u0441\\u0442\\u043e\\u044f\\u0449\\u0435\\u043c\\u0443 \\u043e\\u0446\\u0435\\u043d\\u0438\\u0442\\u044c \\u043f\\u0440\\u043e\\u0433\\u0440\\u0435\\u0441\\u0441 \\u0432 \\u043e\\u0431\\u043b\\u0430\\u0441\\u0442\\u0438 \\u0433\\u0440\\u0430\\u0444\\u0438\\u043a\\u0438 \\u0438 \\u0430\\u043d\\u0438\\u043c\\u0430\\u0446\\u0438\\u0438.\\n\\n\\u0441\\u044e\\u0436\\u0435\\u0442. \\u0438\\u0441\\u0442\\u043e\\u0440\\u0438\\u044f \\u0440\\u0430\\u0441\\u0441\\u043a\\u0430\\u0436\\u0435\\u0442 \\u043e \\u043f\\u0440\\u0438\\u043a\\u043b\\u044e\\u0447\\u0435\\u043d\\u0438\\u044f\\u0445 \\u043c\\u0430\\u0433\\u043e\\u0437\\u043e\\u043e\\u043b\\u043e\\u0433\\u0430 \\u043d\\u044c\\u044e\\u0442\\u0430 \\u0441\\u0430\\u043b\\u0430\\u043c\\u0430\\u043d\\u0434\\u0435\\u0440\\u0430 \\u0432 \\u043d\\u044c\\u044e-\\u0439\\u043e\\u0440\\u043a\\u0435. \\u0443\\u0447\\u0435\\u043d\\u044b\\u0439 \\u043f\\u043b\\u0430\\u043d\\u0438\\u0440\\u043e\\u0432\\u0430\\u043b \\u043f\\u0440\\u043e\\u0431\\u044b\\u0442\\u044c \\u0437\\u0434\\u0435\\u0441\\u044c \\u0441\\u043e\\u0432\\u0441\\u0435\\u043c \\u043d\\u0435\\u0434\\u043e\\u043b\\u0433\\u043e, \\u043d\\u043e \\u0438\\u0437-\\u0437\\u0430 \\u043d\\u0435\\u043f\\u0440\\u0435\\u0434\\u0432\\u0438\\u0434\\u0435\\u043d\\u043d\\u044b\\u0445 \\u043e\\u0431\\u0441\\u0442\\u043e\\u044f\\u0442\\u0435\\u043b\\u044c\\u0441\\u0442\\u0432 \\u0435\\u043c\\u0443 \\u043f\\u0440\\u0438\\u0445\\u043e\\u0434\\u0438\\u0442\\u0441\\u044f \\u0437\\u0430\\u0434\\u0435\\u0440\\u0436\\u0430\\u0442\\u044c\\u0441\\u044f...\\n\\n\\u043d\\u0435 \\u043c\\u043e\\u0433\\u0443 \\u0441\\u043a\\u0430\\u0437\\u0430\\u0442\\u044c, \\u0447\\u0442\\u043e \\u0430\\u0432\\u0442\\u043e\\u0440\\u044b \\u043f\\u043e\\u0440\\u0430\\u0434\\u0443\\u044e\\u0442 \\u043d\\u0430\\u0441 \\u043b\\u0438\\u0445\\u043e \\u0437\\u0430\\u043a\\u0440\\u0443\\u0447\\u0435\\u043d\\u043d\\u044b\\u043c \\u0441\\u044e\\u0436\\u0435\\u0442\\u043e\\u043c, \\u043d\\u043e \\u0438\\u0441\\u0442\\u043e\\u0440\\u0438\\u044f \\u043f\\u043e\\u043b\\u0443\\u0447\\u0438\\u043b\\u0430\\u0441\\u044c \\u0437\\u0430\\u0431\\u0430\\u0432\\u043d\\u043e\\u0439 \\u0438 \\u043d\\u0435\\u0441\\u043a\\u043e\\u043b\\u044c\\u043a\\u043e \\u043a\\u0443\\u0440\\u044c\\u0435\\u0437\\u043d\\u043e\\u0439. \\u043f\\u043e\\u0441\\u043b\\u0435 \\u0441\\u0435\\u0440\\u0435\\u0434\\u0438\\u043d\\u044b \\u043b\\u0435\\u043d\\u0442\\u044b \\u0436\\u0434\\u0438\\u0442\\u0435 \\u0436\\u0433\\u0443\\u0447\\u0438\\u0439 \\u044d\\u043a\\u0448\\u0435\\u043d \\u0438 \\u043c\\u043d\\u043e\\u0436\\u0435\\u0441\\u0442\\u0432\\u043e \\u0434\\u0443\\u044d\\u043b\\u0435\\u0439 \\u043d\\u0430 \\u043f\\u0430\\u043b\\u043e\\u0447\\u043a\\u0430\\u0445. \\u043a\\u043e\\u043d\\u0446\\u043e\\u0432\\u043a\\u0430 \\u0442\\u043e\\u0436\\u0435 \\u043f\\u043e\\u0434\\u043a\\u0438\\u0434\\u044b\\u0432\\u0430\\u0435\\u0442 \\u0432\\u0435\\u0441\\u044c\\u043c\\u0430 \\u043d\\u0435\\u043e\\u0436\\u0438\\u0434\\u0430\\u043d\\u043d\\u044b\\u0439 \\u0444\\u0438\\u043d\\u0430\\u043b, \\u043d\\u0430\\u043c\\u0435\\u043a\\u0430\\u044e\\u0449\\u0438\\u0439 \\u043d\\u0430 \\u043f\\u0440\\u043e\\u0434\\u043e\\u043b\\u0436\\u0435\\u043d\\u0438\\u0435. \\u0442\\u0430\\u043a\\u0436\\u0435 \\u043f\\u043e \\u043c\\u0435\\u0440\\u0435 \\u043f\\u0440\\u043e\\u0434\\u0432\\u0438\\u0436\\u0435\\u043d\\u0438\\u044f \\u0441\\u044e\\u0436\\u0435\\u0442\\u0430 \\u043c\\u044b \\u043f\\u043e\\u043b\\u0443\\u0447\\u0430\\u0435\\u043c \\u0434\\u0435\\u0442\\u0430\\u043b\\u044c\\u043d\\u0443\\u044e \\u0438\\u043d\\u0444\\u043e\\u0440\\u043c\\u0430\\u0446\\u0438\\u044e \\u043e \\u0441\\u043a\\u0432\\u0438\\u0431\\u0430\\u0445 \\u0438 \\u043e\\u0431\\u0441\\u043a\\u0443\\u0440\\u0430\\u0445.\\n\\n\\u0436\\u0430\\u043b\\u044c \\u0442\\u043e\\u043b\\u044c\\u043a\\u043e, \\u0447\\u0442\\u043e \\u0438\\u043d\\u043e\\u0433\\u0434\\u0430 \\u043c\\u0430\\u0441\\u0448\\u0442\\u0430\\u0431\\u044b \\u0442\\u0432\\u043e\\u0440\\u044f\\u0449\\u0435\\u0433\\u043e\\u0441\\u044f \\u0445\\u0430\\u043e\\u0441\\u0430 \\u0432\\u043e\\u043a\\u0440\\u0443\\u0433 \\u043f\\u0435\\u0440\\u0435\\u0441\\u0442\\u0443\\u043f\\u0430\\u0435\\u0442 \\u0432\\u0441\\u0435 \\u043c\\u044b\\u0441\\u043b\\u0438\\u043c\\u044b\\u0435 \\u0438 \\u043d\\u0435\\u043c\\u044b\\u0441\\u043b\\u0438\\u043c\\u044b\\u0435 \\u0433\\u0440\\u0430\\u043d\\u0438\\u0446\\u044b. \\u0441 \\u0442\\u0440\\u0443\\u0434\\u043e\\u043c \\u0432\\u0435\\u0440\\u0438\\u0442\\u0441\\u044f, \\u0447\\u0442\\u043e \\u043d\\u0438 \\u043e\\u0434\\u0438\\u043d \\u0438\\u0437 \\u043d\\u0435-\\u043c\\u0430\\u0433\\u043e\\u0432 \\u043d\\u0435 \\u0441\\u043c\\u043e\\u0433 \\u0437\\u0430\\u043f\\u043e\\u043c\\u043d\\u0438\\u0442\\u044c \\u0443\\u0432\\u0438\\u0434\\u0435\\u043d\\u043d\\u0443\\u044e \\u043c\\u0430\\u0433\\u0438\\u044e \\u0438\\u043b\\u0438 \\u0443\\u043a\\u0440\\u044b\\u0442\\u044c\\u0441\\u044f/\\u0441\\u0431\\u0435\\u0436\\u0430\\u0442\\u044c \\u043e\\u0442 \\u0437\\u0430\\u0431\\u0432\\u0435\\u043d\\u0438\\u044f. \\n\\n\\u0430\\u0442\\u043c\\u043e\\u0441\\u0444\\u0435\\u0440\\u0430. \\u0431\\u0435\\u0437\\u0443\\u0441\\u043b\\u043e\\u0432\\u043d\\u043e, \\u0434\\u043e\\u0432\\u043e\\u043b\\u044c\\u043d\\u043e \\u0431\\u043e\\u043b\\u044c\\u0448\\u043e\\u0439 \\u043e\\u0442\\u0440\\u0435\\u0437\\u043e\\u043a \\u043a\\u0430\\u0440\\u0442\\u0438\\u043d\\u044b \\u043f\\u043e\\u0441\\u0432\\u044f\\u0449\\u0430\\u0435\\u0442\\u0441\\u044f \\u043d\\u0435\\u043e\\u0431\\u044b\\u0447\\u043d\\u044b\\u043c \\u0436\\u0438\\u0432\\u043e\\u0442\\u043d\\u044b\\u043c, \\u0437\\u0430 \\u043a\\u043e\\u0442\\u043e\\u0440\\u044b\\u043c\\u0438 \\u0443\\u0445\\u0430\\u0436\\u0438\\u0432\\u0430\\u0435\\u0442 \\u0433\\u043b\\u0430\\u0432\\u043d\\u044b\\u0439 \\u0433\\u0435\\u0440\\u043e\\u0439. \\u043c\\u043e\\u0434\\u0435\\u043b\\u0438 \\u0441\\u0443\\u0449\\u0435\\u0441\\u0442\\u0432 \\u043f\\u0440\\u043e\\u0440\\u0430\\u0431\\u043e\\u0442\\u0430\\u043d\\u044b \\u0441 \\u043e\\u0441\\u043e\\u0431\\u044b\\u043c \\u0432\\u043d\\u0438\\u043c\\u0430\\u043d\\u0438\\u0435\\u043c \\u043a \\u0434\\u0435\\u0442\\u0430\\u043b\\u044f\\u043c. \\u043e\\u0441\\u043e\\u0431\\u0435\\u043d\\u043d\\u043e \\u0437\\u0430\\u043f\\u043e\\u043c\\u0438\\u043d\\u0430\\u0435\\u0442\\u0441\\u044f \\u043d\\u044e\\u0445\\u043b\\u0435\\u0440 \\u0441 \\u0435\\u0433\\u043e \\u0442\\u044f\\u0433\\u043e\\u0439 \\u043a\\u043e \\u0432\\u0441\\u0435\\u043c\\u0443 \\u0431\\u043b\\u0435\\u0441\\u0442\\u044f\\u0449\\u0435\\u043c\\u0443. \\u0441\\u0446\\u0435\\u043d\\u0430 \\u0441 \\u0435\\u0433\\u043e \\u0443\\u0447\\u0430\\u0441\\u0442\\u0438\\u0435\\u043c - \\u043e\\u0442\\u0434\\u0435\\u043b\\u044c\\u043d\\u043e\\u0435 \\u0443\\u0434\\u043e\\u0432\\u043e\\u043b\\u044c\\u0441\\u0442\\u0432\\u0438\\u0435. \\u0432\\u043e\\u043e\\u0431\\u0449\\u0435 \\u043c\\u043e\\u0434\\u0435\\u043b\\u0438 \\u0436\\u0438\\u0432\\u043e\\u0442\\u043d\\u044b\\u0445 \\u0437\\u0434\\u0435\\u0441\\u044c \\u043d\\u0435\\u043e\\u0431\\u044b\\u0447\\u0430\\u0439\\u043d\\u043e \\u043a\\u0440\\u0430\\u0441\\u0438\\u0432\\u044b\\u0435, \\u043a\\u043e\\u0441\\u0442\\u044e\\u043c\\u044b - \\u0441\\u0442\\u0438\\u043b\\u044c\\u043d\\u044b\\u0435 (\\u0441\\u043f\\u0440\\u0430\\u0432\\u0435\\u0434\\u043b\\u0438\\u0432\\u044b\\u0439 '\\u043e\\u0441\\u043a\\u0430\\u0440'), \\u0430 \\u0438\\u0433\\u0440\\u0430 \\u0430\\u043a\\u0442\\u0435\\u0440\\u043e\\u0432 - \\u0432\\u044b\\u0440\\u0430\\u0437\\u0438\\u0442\\u0435\\u043b\\u044c\\u043d\\u0430\\u044f. \\u044d\\u0434\\u0434\\u0438 \\u0440\\u0435\\u0434\\u043c\\u044d\\u0439\\u043d \\u0431\\u043b\\u0435\\u0441\\u0442\\u044f\\u0449\\u0435 \\u0432\\u043f\\u0438\\u0441\\u0430\\u043b\\u0441\\u044f \\u0432 \\u0440\\u043e\\u043b\\u044c \\u043c\\u0430\\u0433\\u043e\\u0437\\u043e\\u043e\\u043b\\u043e\\u0433\\u0430 \\u0441\\u043e \\u0441\\u0432\\u043e\\u0438\\u043c\\u0438 \\u0441\\u0442\\u0440\\u0430\\u043d\\u043d\\u043e\\u0441\\u0442\\u044f\\u043c\\u0438. \\u0434\\u044d\\u043d \\u0444\\u043e\\u0433\\u043b\\u0435\\u0440 (\\u043a\\u043e\\u0432\\u0430\\u043b\\u044c\\u0441\\u043a\\u0438) \\u0438 \\u043a\\u044d\\u0442\\u0440\\u0438\\u043d \\u0443\\u043e\\u0442\\u0435\\u0440\\u0441\\u0442\\u043e\\u043d (\\u0442\\u0438\\u043d\\u0430 \\u0433\\u043e\\u043b\\u0434\\u0448\\u0442\\u0435\\u0439\\u043d) - \\u043a\\u043b\\u0430\\u0441\\u0441\\u043d\\u044b\\u0435 \\u0430\\u043a\\u0442\\u0435\\u0440\\u044b, \\u043c\\u043d\\u0435 \\u0437\\u0430\\u043f\\u043e\\u043c\\u043d\\u0438\\u043b\\u0430\\u0441\\u044c \\u0438\\u0445 \\u0438\\u0433\\u0440\\u0430, \\u0430 \\u0432\\u043e\\u0442 \\u044d\\u043b\\u0438\\u0441\\u043e\\u043d \\u0441\\u0443\\u0434\\u043e\\u043b (\\u043a\\u0443\\u0438\\u043d\\u043d\\u0438 \\u0433\\u043e\\u043b\\u0434\\u0448\\u0442\\u0435\\u0439\\u043d) \\u0440\\u0430\\u0434\\u043e\\u0432\\u0430\\u043b\\u0430 \\u0435\\u0439 \\u0434\\u0430\\u043b\\u0435\\u043a\\u043e \\u043d\\u0435 \\u0432\\u0441\\u0435\\u0433\\u0434\\u0430. \\u0445\\u043e\\u0442\\u0435\\u043b\\u043e\\u0441\\u044c \\u0431\\u044b \\u0432\\u0438\\u0434\\u0435\\u0442\\u044c \\u0435\\u0435 \\u043d\\u0430\\u0442\\u044f\\u043d\\u0443\\u0442\\u0443\\u044e \\u0443\\u043b\\u044b\\u0431\\u043a\\u0443 \\u043c\\u0435\\u043d\\u044c\\u0448\\u0435 80% \\u044d\\u043a\\u0440\\u0430\\u043d\\u043d\\u043e\\u0433\\u043e \\u0432\\u0440\\u0435\\u043c\\u0435\\u043d\\u0438. \\u0441\\u043f\\u0435\\u0446\\u044d\\u0444\\u0444\\u0435\\u043a\\u0442\\u044b \\u0438 \\u043a\\u043e\\u043c\\u043f\\u044c\\u044e\\u0442\\u0435\\u0440\\u043d\\u0430\\u044f \\u0433\\u0440\\u0430\\u0444\\u0438\\u043a\\u0430 \\u043f\\u043e\\u043a\\u0430\\u0437\\u044b\\u0432\\u0430\\u044e\\u0442 \\u0445\\u043e\\u0440\\u043e\\u0448\\u0438\\u0435 \\u0440\\u0435\\u0437\\u0443\\u043b\\u044c\\u0442\\u0430\\u0442\\u044b, \\u0430 \\u043e\\u043f\\u0435\\u0440\\u0430\\u0442\\u043e\\u0440\\u0441\\u043a\\u0430\\u044f \\u0440\\u0430\\u0431\\u043e\\u0442\\u0430 \\u0438\\u043d\\u043e\\u0439 \\u0440\\u0430\\u0437 \\u0432\\u044b\\u0437\\u044b\\u0432\\u0430\\u0435\\u0442 \\u0432\\u043e\\u0441\\u0442\\u043e\\u0440\\u0433.\\n\\n\\u043c\\u0443\\u0437\\u044b\\u043a\\u0430. \\u0437\\u0430 \\u043c\\u0443\\u0437\\u044b\\u043a\\u0443 \\u044f \\u0433\\u043e\\u0442\\u043e\\u0432 \\u043f\\u043e\\u0441\\u0442\\u0430\\u0432\\u0438\\u0442\\u044c \\u043a\\u043e\\u043c\\u043f\\u043e\\u0437\\u0438\\u0442\\u043e\\u0440\\u0443 \\u0434\\u0436\\u0435\\u0439\\u043c\\u0441\\u0443 \\u043d\\u044c\\u044e\\u0442\\u043e\\u043d\\u0443 \\u0445\\u043e\\u0432\\u0430\\u0440\\u0434\\u0443 \\u0442\\u0432\\u0435\\u0440\\u0434\\u0443\\u044e '5'. \\u043f\\u0440\\u043e\\u0434\\u0435\\u043b\\u0430\\u043d\\u0430 \\u0433\\u0438\\u0433\\u0430\\u043d\\u0442\\u0441\\u043a\\u0430\\u044f \\u0440\\u0430\\u0431\\u043e\\u0442\\u0430. \\u043d\\u0435\\u0441\\u043c\\u043e\\u0442\\u0440\\u044f \\u043d\\u0430 \\u0442\\u043e, \\u0447\\u0442\\u043e \\u0432 \\u043c\\u0443\\u0437\\u044b\\u043a\\u0430\\u043b\\u044c\\u043d\\u043e\\u043c \\u0441\\u043e\\u043f\\u0440\\u043e\\u0432\\u043e\\u0436\\u0434\\u0435\\u043d\\u0438\\u0438 \\u043c\\u043e\\u0436\\u043d\\u043e \\u0443\\u0441\\u043c\\u043e\\u0442\\u0440\\u0435\\u0442\\u044c \\u043d\\u043e\\u0441\\u0442\\u0430\\u043b\\u044c\\u0433\\u0438\\u0447\\u0435\\u0441\\u043a\\u0438\\u0435 \\u043d\\u043e\\u0442\\u043a\\u0438, \\u043e\\u043d\\u043e \\u043d\\u0435 \\u043b\\u0438\\u0448\\u0435\\u043d\\u043e \\u0441\\u0430\\u043c\\u043e\\u0431\\u044b\\u0442\\u043d\\u043e\\u0441\\u0442\\u0438 \\u0438 \\u0441\\u043e\\u0431\\u0441\\u0442\\u0432\\u0435\\u043d\\u043d\\u043e\\u0433\\u043e \\u0448\\u0430\\u0440\\u043c\\u0430. \\u0441\\u043b\\u0435\\u0434\\u043e\\u0432\\u0430\\u043b\\u043e \\u0431\\u044b \\u0432\\u044b\\u0434\\u0435\\u043b\\u0438\\u0442\\u044c \\u043d\\u0435\\u0441\\u043a\\u043e\\u043b\\u044c\\u043a\\u043e \\u043b\\u044e\\u0431\\u0438\\u043c\\u044b\\u0445 \\u0442\\u0440\\u044d\\u043a\\u043e\\u0432: 'main titles', 'inside the case', 'a man and his beasts' \\u0438 'end titles'. \\u0441\\u043b\\u0435\\u0434\\u0443\\u0435\\u0442 \\u0441\\u043a\\u0430\\u0437\\u0430\\u0442\\u044c, \\u0447\\u0442\\u043e \\u043f\\u0440\\u0430\\u043a\\u0442\\u0438\\u0447\\u0435\\u0441\\u043a\\u0438 \\u0432\\u0441\\u0435 \\u043a\\u043e\\u043c\\u043f\\u043e\\u0437\\u0438\\u0446\\u0438\\u0438 \\u043f\\u043e\\u043b\\u0443\\u0447\\u0438\\u043b\\u0438\\u0441\\u044c \\u0443\\u0434\\u0430\\u0447\\u043d\\u044b\\u043c\\u0438.\\n\\n\\u0438\\u0442\\u043e\\u0433. \\u043e\\u0442\\u043b\\u0438\\u0447\\u043d\\u043e\\u0435 \\u043a\\u0438\\u043d\\u043e, \\u043f\\u0440\\u043e\\u0434\\u043e\\u043b\\u0436\\u0430\\u044e\\u0449\\u0435\\u0435 \\u0442\\u0435\\u043c\\u0443 \\u0432\\u043e\\u043b\\u0448\\u0435\\u0431\\u043d\\u043e\\u0433\\u043e \\u043c\\u0438\\u0440\\u0430 \\u0438 \\u0434\\u0430\\u0440\\u044f\\u0449\\u0435\\u0435 \\u043e\\u0442\\u043b\\u0438\\u0447\\u043d\\u0443\\u044e \\u0432\\u043e\\u0437\\u043c\\u043e\\u0436\\u043d\\u043e\\u0441\\u0442\\u044c \\u043f\\u043e\\u043d\\u043e\\u0441\\u0442\\u0430\\u043b\\u044c\\u0433\\u0438\\u0440\\u043e\\u0432\\u0430\\u0442\\u044c \\u0444\\u0430\\u043d\\u0430\\u0442\\u0430\\u043c \\u043a\\u043d\\u0438\\u0433 \\u0438 \\u0444\\u0438\\u043b\\u044c\\u043c\\u043e\\u0432 \\u043e \\u0433\\u0430\\u0440\\u0440\\u0438 \\u043f\\u043e\\u0442\\u0442\\u0435\\u0440\\u0435. \\u0444\\u0438\\u043b\\u044c\\u043c \\u043e\\u0442\\u043a\\u0440\\u044b\\u0432\\u0430\\u0435\\u0442 \\u0430\\u0431\\u0441\\u043e\\u043b\\u044e\\u0442\\u043d\\u043e \\u043d\\u043e\\u0432\\u0443\\u044e \\u043a\\u0438\\u043d\\u043e\\u044d\\u043f\\u043e\\u043f\\u0435\\u044e \\u0441 \\u0438\\u043d\\u0442\\u0435\\u0440\\u0435\\u0441\\u043d\\u044b\\u043c\\u0438 \\u0433\\u043b\\u0430\\u0432\\u043d\\u044b\\u043c\\u0438 \\u0433\\u0435\\u0440\\u043e\\u044f\\u043c\\u0438, \\u0437\\u0430 \\u043a\\u043e\\u0442\\u043e\\u0440\\u043e\\u0439 \\u044f \\u0441 \\u0443\\u0434\\u043e\\u0432\\u043e\\u043b\\u044c\\u0441\\u0442\\u0432\\u0438\\u0435\\u043c \\u0431\\u0443\\u0434\\u0443 \\u0441\\u043b\\u0435\\u0434\\u0438\\u0442\\u044c.\\n\\n8 \\u0438\\u0437 10\\n\\n(77%), \\u043d\\u0430\\u0447\\u0430\\u043b\\u043e \\u043f\\u043e\\u043b\\u043e\\u0436\\u0435\\u043d\\u043e.\"\n        ],\n        \"semantic_type\": \"\",\n        \"description\": \"\"\n      }\n    },\n    {\n      \"column\": \"sentiment\",\n      \"properties\": {\n        \"dtype\": \"number\",\n        \"std\": 0,\n        \"min\": 0,\n        \"max\": 2,\n        \"num_unique_values\": 3,\n        \"samples\": [\n          2,\n          1,\n          0\n        ],\n        \"semantic_type\": \"\",\n        \"description\": \"\"\n      }\n    }\n  ]\n}"
            }
          },
          "metadata": {},
          "execution_count": 14
        }
      ]
    },
    {
      "cell_type": "code",
      "source": [
        "lemmatizer=WordNetLemmatizer()\n",
        "corpus = []\n",
        "for i in range(0,len(df)):\n",
        "    review = re.sub('[^а-яА-Я]', ' ', df['review'][i])\n",
        "    review = review.split()\n",
        "    review=[word for word in review if not word in set(stopwords.words('russian'))]\n",
        "    review = [lemmatizer.lemmatize(word) for word in review]\n",
        "    review=' '.join(review)\n",
        "    corpus.append(review)"
      ],
      "metadata": {
        "id": "uXm1VOQMFnxH"
      },
      "execution_count": null,
      "outputs": []
    },
    {
      "cell_type": "code",
      "source": [
        "tfidf = TfidfVectorizer(ngram_range=(1, 2))\n",
        "X = tfidf.fit_transform(corpus)"
      ],
      "metadata": {
        "id": "L5cICkCMB4QI"
      },
      "execution_count": null,
      "outputs": []
    },
    {
      "cell_type": "code",
      "source": [
        "X.shape"
      ],
      "metadata": {
        "id": "-c1yPI4vBA-t",
        "colab": {
          "base_uri": "https://localhost:8080/"
        },
        "outputId": "4ddb3adc-6b03-4662-e7a2-353a975f84ec"
      },
      "execution_count": null,
      "outputs": [
        {
          "output_type": "execute_result",
          "data": {
            "text/plain": [
              "(59829, 8399168)"
            ]
          },
          "metadata": {},
          "execution_count": 19
        }
      ]
    },
    {
      "cell_type": "code",
      "source": [
        "y = df['sentiment'].values\n",
        "X_train, X_test, y_train, y_test = train_test_split(X, y, test_size=0.2, random_state=0)"
      ],
      "metadata": {
        "id": "fibG-eX7CKIU"
      },
      "execution_count": null,
      "outputs": []
    },
    {
      "cell_type": "code",
      "source": [
        "classifier = LinearSVC()\n",
        "classifier.fit(X_train, y_train)"
      ],
      "metadata": {
        "id": "nTFwRAp7CLqD",
        "colab": {
          "base_uri": "https://localhost:8080/",
          "height": 75
        },
        "outputId": "9b528c46-f189-41c3-c030-d8b2dd07e152"
      },
      "execution_count": null,
      "outputs": [
        {
          "output_type": "execute_result",
          "data": {
            "text/plain": [
              "LinearSVC()"
            ],
            "text/html": [
              "<style>#sk-container-id-1 {color: black;background-color: white;}#sk-container-id-1 pre{padding: 0;}#sk-container-id-1 div.sk-toggleable {background-color: white;}#sk-container-id-1 label.sk-toggleable__label {cursor: pointer;display: block;width: 100%;margin-bottom: 0;padding: 0.3em;box-sizing: border-box;text-align: center;}#sk-container-id-1 label.sk-toggleable__label-arrow:before {content: \"▸\";float: left;margin-right: 0.25em;color: #696969;}#sk-container-id-1 label.sk-toggleable__label-arrow:hover:before {color: black;}#sk-container-id-1 div.sk-estimator:hover label.sk-toggleable__label-arrow:before {color: black;}#sk-container-id-1 div.sk-toggleable__content {max-height: 0;max-width: 0;overflow: hidden;text-align: left;background-color: #f0f8ff;}#sk-container-id-1 div.sk-toggleable__content pre {margin: 0.2em;color: black;border-radius: 0.25em;background-color: #f0f8ff;}#sk-container-id-1 input.sk-toggleable__control:checked~div.sk-toggleable__content {max-height: 200px;max-width: 100%;overflow: auto;}#sk-container-id-1 input.sk-toggleable__control:checked~label.sk-toggleable__label-arrow:before {content: \"▾\";}#sk-container-id-1 div.sk-estimator input.sk-toggleable__control:checked~label.sk-toggleable__label {background-color: #d4ebff;}#sk-container-id-1 div.sk-label input.sk-toggleable__control:checked~label.sk-toggleable__label {background-color: #d4ebff;}#sk-container-id-1 input.sk-hidden--visually {border: 0;clip: rect(1px 1px 1px 1px);clip: rect(1px, 1px, 1px, 1px);height: 1px;margin: -1px;overflow: hidden;padding: 0;position: absolute;width: 1px;}#sk-container-id-1 div.sk-estimator {font-family: monospace;background-color: #f0f8ff;border: 1px dotted black;border-radius: 0.25em;box-sizing: border-box;margin-bottom: 0.5em;}#sk-container-id-1 div.sk-estimator:hover {background-color: #d4ebff;}#sk-container-id-1 div.sk-parallel-item::after {content: \"\";width: 100%;border-bottom: 1px solid gray;flex-grow: 1;}#sk-container-id-1 div.sk-label:hover label.sk-toggleable__label {background-color: #d4ebff;}#sk-container-id-1 div.sk-serial::before {content: \"\";position: absolute;border-left: 1px solid gray;box-sizing: border-box;top: 0;bottom: 0;left: 50%;z-index: 0;}#sk-container-id-1 div.sk-serial {display: flex;flex-direction: column;align-items: center;background-color: white;padding-right: 0.2em;padding-left: 0.2em;position: relative;}#sk-container-id-1 div.sk-item {position: relative;z-index: 1;}#sk-container-id-1 div.sk-parallel {display: flex;align-items: stretch;justify-content: center;background-color: white;position: relative;}#sk-container-id-1 div.sk-item::before, #sk-container-id-1 div.sk-parallel-item::before {content: \"\";position: absolute;border-left: 1px solid gray;box-sizing: border-box;top: 0;bottom: 0;left: 50%;z-index: -1;}#sk-container-id-1 div.sk-parallel-item {display: flex;flex-direction: column;z-index: 1;position: relative;background-color: white;}#sk-container-id-1 div.sk-parallel-item:first-child::after {align-self: flex-end;width: 50%;}#sk-container-id-1 div.sk-parallel-item:last-child::after {align-self: flex-start;width: 50%;}#sk-container-id-1 div.sk-parallel-item:only-child::after {width: 0;}#sk-container-id-1 div.sk-dashed-wrapped {border: 1px dashed gray;margin: 0 0.4em 0.5em 0.4em;box-sizing: border-box;padding-bottom: 0.4em;background-color: white;}#sk-container-id-1 div.sk-label label {font-family: monospace;font-weight: bold;display: inline-block;line-height: 1.2em;}#sk-container-id-1 div.sk-label-container {text-align: center;}#sk-container-id-1 div.sk-container {/* jupyter's `normalize.less` sets `[hidden] { display: none; }` but bootstrap.min.css set `[hidden] { display: none !important; }` so we also need the `!important` here to be able to override the default hidden behavior on the sphinx rendered scikit-learn.org. See: https://github.com/scikit-learn/scikit-learn/issues/21755 */display: inline-block !important;position: relative;}#sk-container-id-1 div.sk-text-repr-fallback {display: none;}</style><div id=\"sk-container-id-1\" class=\"sk-top-container\"><div class=\"sk-text-repr-fallback\"><pre>LinearSVC()</pre><b>In a Jupyter environment, please rerun this cell to show the HTML representation or trust the notebook. <br />On GitHub, the HTML representation is unable to render, please try loading this page with nbviewer.org.</b></div><div class=\"sk-container\" hidden><div class=\"sk-item\"><div class=\"sk-estimator sk-toggleable\"><input class=\"sk-toggleable__control sk-hidden--visually\" id=\"sk-estimator-id-1\" type=\"checkbox\" checked><label for=\"sk-estimator-id-1\" class=\"sk-toggleable__label sk-toggleable__label-arrow\">LinearSVC</label><div class=\"sk-toggleable__content\"><pre>LinearSVC()</pre></div></div></div></div></div>"
            ]
          },
          "metadata": {},
          "execution_count": 21
        }
      ]
    },
    {
      "cell_type": "code",
      "source": [
        "y_pred = classifier.predict(X_test)"
      ],
      "metadata": {
        "id": "xktRiwrrCNp-"
      },
      "execution_count": null,
      "outputs": []
    },
    {
      "cell_type": "code",
      "source": [
        "acc = accuracy_score(y_test, y_pred)\n",
        "acc"
      ],
      "metadata": {
        "id": "ERGT36jFCPZd",
        "colab": {
          "base_uri": "https://localhost:8080/"
        },
        "outputId": "3c39c878-11ad-478f-81a1-361515b388c0"
      },
      "execution_count": null,
      "outputs": [
        {
          "output_type": "execute_result",
          "data": {
            "text/plain": [
              "0.6697309042286478"
            ]
          },
          "metadata": {},
          "execution_count": 23
        }
      ]
    },
    {
      "cell_type": "code",
      "source": [
        "print(classification_report(y_test, y_pred))"
      ],
      "metadata": {
        "id": "oG0hD05oCRQh",
        "colab": {
          "base_uri": "https://localhost:8080/"
        },
        "outputId": "6bcb79b4-843b-415e-814f-29b926316575"
      },
      "execution_count": null,
      "outputs": [
        {
          "output_type": "stream",
          "name": "stdout",
          "text": [
            "              precision    recall  f1-score   support\n",
            "\n",
            "           0       0.71      0.78      0.74      3926\n",
            "           1       0.58      0.46      0.51      4011\n",
            "           2       0.69      0.77      0.73      4029\n",
            "\n",
            "    accuracy                           0.67     11966\n",
            "   macro avg       0.66      0.67      0.66     11966\n",
            "weighted avg       0.66      0.67      0.66     11966\n",
            "\n"
          ]
        }
      ]
    },
    {
      "cell_type": "code",
      "source": [],
      "metadata": {
        "id": "Oqm-l_08W6D_"
      },
      "execution_count": null,
      "outputs": []
    }
  ]
}